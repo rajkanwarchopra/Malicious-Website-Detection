{
 "cells": [
  {
   "cell_type": "code",
   "execution_count": 2,
   "metadata": {},
   "outputs": [],
   "source": [
    "import pandas as pd\n",
    "import numpy as np\n",
    "import matplotlib.pyplot as plt\n",
    "%matplotlib inline"
   ]
  },
  {
   "cell_type": "code",
   "execution_count": 3,
   "metadata": {},
   "outputs": [
    {
     "data": {
      "text/plain": [
       "'0.20.0'"
      ]
     },
     "execution_count": 3,
     "metadata": {},
     "output_type": "execute_result"
    }
   ],
   "source": [
    "import sklearn\n",
    "sklearn.__version__"
   ]
  },
  {
   "cell_type": "code",
   "execution_count": 4,
   "metadata": {},
   "outputs": [],
   "source": [
    "import seaborn as sns\n",
    "from sklearn.preprocessing import scale\n",
    "from sklearn.manifold import TSNE"
   ]
  },
  {
   "cell_type": "code",
   "execution_count": 5,
   "metadata": {},
   "outputs": [],
   "source": [
    "data = pd.read_csv('final_dataset.csv')"
   ]
  },
  {
   "cell_type": "code",
   "execution_count": 6,
   "metadata": {},
   "outputs": [
    {
     "data": {
      "text/plain": [
       "20"
      ]
     },
     "execution_count": 6,
     "metadata": {},
     "output_type": "execute_result"
    }
   ],
   "source": [
    "len(data.columns)"
   ]
  },
  {
   "cell_type": "code",
   "execution_count": 7,
   "metadata": {},
   "outputs": [
    {
     "data": {
      "text/html": [
       "<div>\n",
       "<style scoped>\n",
       "    .dataframe tbody tr th:only-of-type {\n",
       "        vertical-align: middle;\n",
       "    }\n",
       "\n",
       "    .dataframe tbody tr th {\n",
       "        vertical-align: top;\n",
       "    }\n",
       "\n",
       "    .dataframe thead th {\n",
       "        text-align: right;\n",
       "    }\n",
       "</style>\n",
       "<table border=\"1\" class=\"dataframe\">\n",
       "  <thead>\n",
       "    <tr style=\"text-align: right;\">\n",
       "      <th></th>\n",
       "      <th>URL</th>\n",
       "      <th>1</th>\n",
       "      <th>2</th>\n",
       "      <th>5</th>\n",
       "      <th>7</th>\n",
       "      <th>9</th>\n",
       "      <th>Phishing</th>\n",
       "      <th>Subdomains</th>\n",
       "      <th>Prefix-Suffix</th>\n",
       "      <th>Anchor Tag</th>\n",
       "      <th>Tags</th>\n",
       "      <th>Forms</th>\n",
       "      <th>SSL Expiry Date</th>\n",
       "      <th>SSL Cert Check</th>\n",
       "      <th>Alexa Ranking</th>\n",
       "      <th>URL Length</th>\n",
       "      <th>URL Shortened</th>\n",
       "      <th>Redirects User</th>\n",
       "      <th>URL has @ Symbol</th>\n",
       "      <th>URL has HTTPS</th>\n",
       "    </tr>\n",
       "  </thead>\n",
       "  <tbody>\n",
       "    <tr>\n",
       "      <th>0</th>\n",
       "      <td>https://locking-app-adverds.000webhostapp.com/...</td>\n",
       "      <td>1</td>\n",
       "      <td>-1</td>\n",
       "      <td>1</td>\n",
       "      <td>-1</td>\n",
       "      <td>-1</td>\n",
       "      <td>yes</td>\n",
       "      <td>3</td>\n",
       "      <td>-1</td>\n",
       "      <td>N-N</td>\n",
       "      <td>N-N</td>\n",
       "      <td>N-N</td>\n",
       "      <td>253</td>\n",
       "      <td>0</td>\n",
       "      <td>3664.0</td>\n",
       "      <td>135</td>\n",
       "      <td>-1</td>\n",
       "      <td>1</td>\n",
       "      <td>1</td>\n",
       "      <td>1</td>\n",
       "    </tr>\n",
       "    <tr>\n",
       "      <th>1</th>\n",
       "      <td>https://mxtoolbox.com/public/upgradev2.aspx?ps...</td>\n",
       "      <td>0</td>\n",
       "      <td>-1</td>\n",
       "      <td>-1</td>\n",
       "      <td>-1</td>\n",
       "      <td>-1</td>\n",
       "      <td>no</td>\n",
       "      <td>2</td>\n",
       "      <td>1</td>\n",
       "      <td>155.3191489</td>\n",
       "      <td>100</td>\n",
       "      <td>0</td>\n",
       "      <td>256</td>\n",
       "      <td>0</td>\n",
       "      <td>6619.0</td>\n",
       "      <td>295</td>\n",
       "      <td>1</td>\n",
       "      <td>1</td>\n",
       "      <td>1</td>\n",
       "      <td>1</td>\n",
       "    </tr>\n",
       "    <tr>\n",
       "      <th>2</th>\n",
       "      <td>http://parolishop.com.br/questionreviews.htm</td>\n",
       "      <td>0</td>\n",
       "      <td>-1</td>\n",
       "      <td>-1</td>\n",
       "      <td>-1</td>\n",
       "      <td>-1</td>\n",
       "      <td>yes</td>\n",
       "      <td>3</td>\n",
       "      <td>1</td>\n",
       "      <td>293.4911243</td>\n",
       "      <td>100</td>\n",
       "      <td>0</td>\n",
       "      <td>36</td>\n",
       "      <td>0</td>\n",
       "      <td>NaN</td>\n",
       "      <td>44</td>\n",
       "      <td>-1</td>\n",
       "      <td>1</td>\n",
       "      <td>1</td>\n",
       "      <td>-1</td>\n",
       "    </tr>\n",
       "    <tr>\n",
       "      <th>3</th>\n",
       "      <td>http://innovate.ieee.org/innovate/35675?lt=xpl...</td>\n",
       "      <td>1</td>\n",
       "      <td>-1</td>\n",
       "      <td>-1</td>\n",
       "      <td>-1</td>\n",
       "      <td>-1</td>\n",
       "      <td>no</td>\n",
       "      <td>3</td>\n",
       "      <td>1</td>\n",
       "      <td>N-N</td>\n",
       "      <td>N-N</td>\n",
       "      <td>N-N</td>\n",
       "      <td>58</td>\n",
       "      <td>0</td>\n",
       "      <td>717.0</td>\n",
       "      <td>80</td>\n",
       "      <td>-1</td>\n",
       "      <td>1</td>\n",
       "      <td>1</td>\n",
       "      <td>-1</td>\n",
       "    </tr>\n",
       "    <tr>\n",
       "      <th>4</th>\n",
       "      <td>http://ietbhaddal.edu.in/bb.mobile/mobile/inde...</td>\n",
       "      <td>0</td>\n",
       "      <td>-1</td>\n",
       "      <td>-1</td>\n",
       "      <td>1</td>\n",
       "      <td>-1</td>\n",
       "      <td>yes</td>\n",
       "      <td>3</td>\n",
       "      <td>1</td>\n",
       "      <td>N-N</td>\n",
       "      <td>N-N</td>\n",
       "      <td>N-N</td>\n",
       "      <td>716</td>\n",
       "      <td>1</td>\n",
       "      <td>NaN</td>\n",
       "      <td>51</td>\n",
       "      <td>-1</td>\n",
       "      <td>1</td>\n",
       "      <td>1</td>\n",
       "      <td>-1</td>\n",
       "    </tr>\n",
       "  </tbody>\n",
       "</table>\n",
       "</div>"
      ],
      "text/plain": [
       "                                                 URL  1   2   5   7   9  \\\n",
       "0  https://locking-app-adverds.000webhostapp.com/...  1  -1   1  -1  -1   \n",
       "1  https://mxtoolbox.com/public/upgradev2.aspx?ps...  0  -1  -1  -1  -1   \n",
       "2       http://parolishop.com.br/questionreviews.htm  0  -1  -1  -1  -1   \n",
       "3  http://innovate.ieee.org/innovate/35675?lt=xpl...  1  -1  -1  -1  -1   \n",
       "4  http://ietbhaddal.edu.in/bb.mobile/mobile/inde...  0  -1  -1   1  -1   \n",
       "\n",
       "  Phishing  Subdomains  Prefix-Suffix   Anchor Tag Tags Forms  \\\n",
       "0      yes           3             -1          N-N  N-N   N-N   \n",
       "1       no           2              1  155.3191489  100     0   \n",
       "2      yes           3              1  293.4911243  100     0   \n",
       "3       no           3              1          N-N  N-N   N-N   \n",
       "4      yes           3              1          N-N  N-N   N-N   \n",
       "\n",
       "   SSL Expiry Date  SSL Cert Check  Alexa Ranking  URL Length  URL Shortened  \\\n",
       "0              253               0         3664.0         135             -1   \n",
       "1              256               0         6619.0         295              1   \n",
       "2               36               0            NaN          44             -1   \n",
       "3               58               0          717.0          80             -1   \n",
       "4              716               1            NaN          51             -1   \n",
       "\n",
       "   Redirects User  URL has @ Symbol  URL has HTTPS  \n",
       "0               1                 1              1  \n",
       "1               1                 1              1  \n",
       "2               1                 1             -1  \n",
       "3               1                 1             -1  \n",
       "4               1                 1             -1  "
      ]
     },
     "execution_count": 7,
     "metadata": {},
     "output_type": "execute_result"
    }
   ],
   "source": [
    "data.head()"
   ]
  },
  {
   "cell_type": "code",
   "execution_count": null,
   "metadata": {},
   "outputs": [],
   "source": []
  },
  {
   "cell_type": "markdown",
   "metadata": {},
   "source": [
    "# DATA CLEANING"
   ]
  },
  {
   "cell_type": "code",
   "execution_count": 8,
   "metadata": {},
   "outputs": [
    {
     "data": {
      "text/html": [
       "<div>\n",
       "<style scoped>\n",
       "    .dataframe tbody tr th:only-of-type {\n",
       "        vertical-align: middle;\n",
       "    }\n",
       "\n",
       "    .dataframe tbody tr th {\n",
       "        vertical-align: top;\n",
       "    }\n",
       "\n",
       "    .dataframe thead th {\n",
       "        text-align: right;\n",
       "    }\n",
       "</style>\n",
       "<table border=\"1\" class=\"dataframe\">\n",
       "  <thead>\n",
       "    <tr style=\"text-align: right;\">\n",
       "      <th></th>\n",
       "      <th>URL</th>\n",
       "      <th>1</th>\n",
       "      <th>2</th>\n",
       "      <th>5</th>\n",
       "      <th>7</th>\n",
       "      <th>9</th>\n",
       "      <th>Phishing</th>\n",
       "      <th>Subdomains</th>\n",
       "      <th>Prefix-Suffix</th>\n",
       "      <th>Anchor Tag</th>\n",
       "      <th>Tags</th>\n",
       "      <th>Forms</th>\n",
       "      <th>SSL Expiry Date</th>\n",
       "      <th>SSL Cert Check</th>\n",
       "      <th>Alexa Ranking</th>\n",
       "      <th>URL Length</th>\n",
       "      <th>URL Shortened</th>\n",
       "      <th>Redirects User</th>\n",
       "      <th>URL has @ Symbol</th>\n",
       "      <th>URL has HTTPS</th>\n",
       "    </tr>\n",
       "  </thead>\n",
       "  <tbody>\n",
       "    <tr>\n",
       "      <th>1705</th>\n",
       "      <td>url</td>\n",
       "      <td>embedded_domain_in_path</td>\n",
       "      <td>ip_address</td>\n",
       "      <td>dictionary_word</td>\n",
       "      <td>targeted_brand</td>\n",
       "      <td>ext url</td>\n",
       "      <td>result</td>\n",
       "      <td>1</td>\n",
       "      <td>1</td>\n",
       "      <td>N-N</td>\n",
       "      <td>N-N</td>\n",
       "      <td>N-N</td>\n",
       "      <td>-1</td>\n",
       "      <td>-1</td>\n",
       "      <td>NaN</td>\n",
       "      <td>3</td>\n",
       "      <td>-1</td>\n",
       "      <td>1</td>\n",
       "      <td>1</td>\n",
       "      <td>-1</td>\n",
       "    </tr>\n",
       "  </tbody>\n",
       "</table>\n",
       "</div>"
      ],
      "text/plain": [
       "      URL                        1           2                5  \\\n",
       "1705  url  embedded_domain_in_path  ip_address  dictionary_word   \n",
       "\n",
       "                   7        9 Phishing  Subdomains  Prefix-Suffix Anchor Tag  \\\n",
       "1705  targeted_brand  ext url   result           1              1        N-N   \n",
       "\n",
       "     Tags Forms  SSL Expiry Date  SSL Cert Check  Alexa Ranking  URL Length  \\\n",
       "1705  N-N   N-N               -1              -1            NaN           3   \n",
       "\n",
       "      URL Shortened  Redirects User  URL has @ Symbol  URL has HTTPS  \n",
       "1705             -1               1                 1             -1  "
      ]
     },
     "execution_count": 8,
     "metadata": {},
     "output_type": "execute_result"
    }
   ],
   "source": [
    "data[data['URL'] == \"url\"]"
   ]
  },
  {
   "cell_type": "code",
   "execution_count": 9,
   "metadata": {},
   "outputs": [],
   "source": [
    "data.drop(1705,axis=0,inplace=True)"
   ]
  },
  {
   "cell_type": "code",
   "execution_count": 10,
   "metadata": {},
   "outputs": [
    {
     "data": {
      "text/plain": [
       "Index(['URL', '1', '2', '5', '7', '9', 'Phishing', 'Subdomains',\n",
       "       'Prefix-Suffix', 'Anchor Tag', 'Tags', 'Forms', 'SSL Expiry Date',\n",
       "       'SSL Cert Check', 'Alexa Ranking', 'URL Length', 'URL Shortened',\n",
       "       'Redirects User', 'URL has @ Symbol', 'URL has HTTPS'],\n",
       "      dtype='object')"
      ]
     },
     "execution_count": 10,
     "metadata": {},
     "output_type": "execute_result"
    }
   ],
   "source": [
    "data.columns"
   ]
  },
  {
   "cell_type": "code",
   "execution_count": null,
   "metadata": {},
   "outputs": [],
   "source": []
  },
  {
   "cell_type": "markdown",
   "metadata": {},
   "source": [
    "# Cleaning Anchor Tag feature"
   ]
  },
  {
   "cell_type": "code",
   "execution_count": 11,
   "metadata": {},
   "outputs": [
    {
     "data": {
      "text/plain": [
       "yes    875\n",
       "no     179\n",
       "Name: Phishing, dtype: int64"
      ]
     },
     "execution_count": 11,
     "metadata": {},
     "output_type": "execute_result"
    }
   ],
   "source": [
    "data[data['Anchor Tag'] == 'N-N']['Phishing'].value_counts()"
   ]
  },
  {
   "cell_type": "code",
   "execution_count": 94,
   "metadata": {},
   "outputs": [],
   "source": [
    "data['Anchor Tag'].replace('N-N',np.nan,inplace=True)"
   ]
  },
  {
   "cell_type": "code",
   "execution_count": 104,
   "metadata": {},
   "outputs": [],
   "source": [
    "data['Anchor Tag'] = data['Anchor Tag'].astype(float)"
   ]
  },
  {
   "cell_type": "code",
   "execution_count": 106,
   "metadata": {},
   "outputs": [],
   "source": [
    "data['Anchor Tag'] = round(data['Anchor Tag'],ndigits=0)"
   ]
  },
  {
   "cell_type": "code",
   "execution_count": 121,
   "metadata": {},
   "outputs": [],
   "source": [
    "def impute_anchors_val(vals):\n",
    "    anc = vals[0]\n",
    "    phish = vals[1]\n",
    "    if phish == 'yes' and pd.isnull(anc):\n",
    "        return 300\n",
    "    elif phish == 'no' and pd.isnull(anc):\n",
    "        return 150\n",
    "    else:\n",
    "        return anc"
   ]
  },
  {
   "cell_type": "code",
   "execution_count": 124,
   "metadata": {},
   "outputs": [],
   "source": [
    "data['Anchor Tag'] = data[['Anchor Tag', 'Phishing']].apply(impute_anchors_val,axis=1)"
   ]
  },
  {
   "cell_type": "code",
   "execution_count": 127,
   "metadata": {},
   "outputs": [
    {
     "data": {
      "text/html": [
       "<div>\n",
       "<style scoped>\n",
       "    .dataframe tbody tr th:only-of-type {\n",
       "        vertical-align: middle;\n",
       "    }\n",
       "\n",
       "    .dataframe tbody tr th {\n",
       "        vertical-align: top;\n",
       "    }\n",
       "\n",
       "    .dataframe thead th {\n",
       "        text-align: right;\n",
       "    }\n",
       "</style>\n",
       "<table border=\"1\" class=\"dataframe\">\n",
       "  <thead>\n",
       "    <tr style=\"text-align: right;\">\n",
       "      <th></th>\n",
       "      <th>URL</th>\n",
       "      <th>embedded_domain_in_path</th>\n",
       "      <th>ip_address</th>\n",
       "      <th>number_of_dots</th>\n",
       "      <th>host_has_dash</th>\n",
       "      <th>dictionary_word</th>\n",
       "      <th>http_in_hostname</th>\n",
       "      <th>targeted_brand</th>\n",
       "      <th>redirecting url</th>\n",
       "      <th>ext url</th>\n",
       "      <th>Phishing</th>\n",
       "      <th>Subdomains</th>\n",
       "      <th>Prefix-Suffix</th>\n",
       "      <th>Anchor Tag</th>\n",
       "      <th>Tags</th>\n",
       "      <th>Forms</th>\n",
       "      <th>SSL Expiry Date</th>\n",
       "      <th>SSL Cert Check</th>\n",
       "      <th>Alexa Ranking</th>\n",
       "    </tr>\n",
       "  </thead>\n",
       "  <tbody>\n",
       "  </tbody>\n",
       "</table>\n",
       "</div>"
      ],
      "text/plain": [
       "Empty DataFrame\n",
       "Columns: [URL, embedded_domain_in_path, ip_address, number_of_dots, host_has_dash, dictionary_word, http_in_hostname, targeted_brand, redirecting url, ext url, Phishing, Subdomains, Prefix-Suffix, Anchor Tag, Tags, Forms, SSL Expiry Date, SSL Cert Check, Alexa Ranking]\n",
       "Index: []"
      ]
     },
     "execution_count": 127,
     "metadata": {},
     "output_type": "execute_result"
    }
   ],
   "source": [
    "data[data['Anchor Tag'].isnull()]"
   ]
  },
  {
   "cell_type": "code",
   "execution_count": 129,
   "metadata": {},
   "outputs": [
    {
     "data": {
      "text/plain": [
       "268.5291902071563"
      ]
     },
     "execution_count": 129,
     "metadata": {},
     "output_type": "execute_result"
    }
   ],
   "source": [
    "data[data['Phishing'] == 'yes']['Anchor Tag'].mean()"
   ]
  },
  {
   "cell_type": "code",
   "execution_count": 130,
   "metadata": {},
   "outputs": [
    {
     "data": {
      "text/plain": [
       "162.8074074074074"
      ]
     },
     "execution_count": 130,
     "metadata": {},
     "output_type": "execute_result"
    }
   ],
   "source": [
    "data[data['Phishing'] == 'no']['Anchor Tag'].mean()"
   ]
  },
  {
   "cell_type": "code",
   "execution_count": null,
   "metadata": {},
   "outputs": [],
   "source": []
  },
  {
   "cell_type": "markdown",
   "metadata": {},
   "source": [
    "# Tags feature processing"
   ]
  },
  {
   "cell_type": "code",
   "execution_count": 141,
   "metadata": {},
   "outputs": [
    {
     "data": {
      "text/plain": [
       "N-N    1118\n",
       "100    1024\n",
       "Name: Tags, dtype: int64"
      ]
     },
     "execution_count": 141,
     "metadata": {},
     "output_type": "execute_result"
    }
   ],
   "source": [
    "data['Tags'].value_counts()"
   ]
  },
  {
   "cell_type": "markdown",
   "metadata": {},
   "source": [
    "OBSERVATION: It is better to exclude this feature as not much useful information can be extracted from it. Moreover, for more than half the data points the information is not available (exception case)"
   ]
  },
  {
   "cell_type": "markdown",
   "metadata": {},
   "source": [
    "# Forms feature processing"
   ]
  },
  {
   "cell_type": "code",
   "execution_count": 147,
   "metadata": {},
   "outputs": [
    {
     "data": {
      "text/plain": [
       "1      447\n",
       "0      442\n",
       "N-N    175\n",
       "-1      16\n",
       "Name: Forms, dtype: int64"
      ]
     },
     "execution_count": 147,
     "metadata": {},
     "output_type": "execute_result"
    }
   ],
   "source": [
    "data[data['Phishing'] == 'no']['Forms'].value_counts()"
   ]
  },
  {
   "cell_type": "code",
   "execution_count": 148,
   "metadata": {},
   "outputs": [
    {
     "data": {
      "text/plain": [
       "N-N    875\n",
       "1      102\n",
       "0       79\n",
       "-1       6\n",
       "Name: Forms, dtype: int64"
      ]
     },
     "execution_count": 148,
     "metadata": {},
     "output_type": "execute_result"
    }
   ],
   "source": [
    "data[data['Phishing'] == 'yes']['Forms'].value_counts()"
   ]
  },
  {
   "cell_type": "code",
   "execution_count": 151,
   "metadata": {},
   "outputs": [],
   "source": [
    "data['Forms'].replace('N-N',np.nan, inplace=True)"
   ]
  },
  {
   "cell_type": "code",
   "execution_count": 159,
   "metadata": {},
   "outputs": [],
   "source": [
    "# This function checks whether any information related to the form links is available or not\n",
    "def form_info_available(form_val):\n",
    "    val = form_val[0]\n",
    "    if pd.isnull(val):\n",
    "        return 0\n",
    "    return 1"
   ]
  },
  {
   "cell_type": "code",
   "execution_count": 161,
   "metadata": {},
   "outputs": [],
   "source": [
    "data['Forms'] = data[['Forms']].apply(form_info_available,axis=1)"
   ]
  },
  {
   "cell_type": "code",
   "execution_count": null,
   "metadata": {},
   "outputs": [],
   "source": []
  },
  {
   "cell_type": "code",
   "execution_count": 185,
   "metadata": {},
   "outputs": [
    {
     "data": {
      "text/plain": [
       "-1       543\n",
       " 253      59\n",
       " 252      33\n",
       " 39       19\n",
       " 62       16\n",
       " 55       16\n",
       " 2501     10\n",
       " 35        9\n",
       " 22        8\n",
       " 80        8\n",
       " 85        8\n",
       " 64        8\n",
       " 36        8\n",
       " 43        8\n",
       " 12        8\n",
       " 251       7\n",
       " 42        7\n",
       " 84        7\n",
       " 76        7\n",
       " 79        7\n",
       " 54        6\n",
       " 70        6\n",
       " 243       6\n",
       " 37        6\n",
       " 61        6\n",
       " 44        6\n",
       " 2500      5\n",
       " 11        5\n",
       " 75        5\n",
       " 41        5\n",
       "        ... \n",
       " 654       1\n",
       " 676       1\n",
       " 715       1\n",
       " 731       1\n",
       " 742       1\n",
       " 9043      1\n",
       " 857       1\n",
       " 286       1\n",
       " 282       1\n",
       " 264       1\n",
       " 175       1\n",
       " 98        1\n",
       " 99        1\n",
       " 126       1\n",
       " 2193      1\n",
       " 148       1\n",
       " 9157      1\n",
       " 158       1\n",
       " 167       1\n",
       " 179       1\n",
       " 235       1\n",
       " 180       1\n",
       " 182       1\n",
       " 190       1\n",
       " 204       1\n",
       " 218       1\n",
       " 227       1\n",
       " 229       1\n",
       " 6374      1\n",
       " 154       1\n",
       "Name: SSL Expiry Date, Length: 141, dtype: int64"
      ]
     },
     "execution_count": 185,
     "metadata": {},
     "output_type": "execute_result"
    }
   ],
   "source": [
    "data[data['Phishing'] == \"yes\"]['SSL Expiry Date'].value_counts()"
   ]
  },
  {
   "cell_type": "markdown",
   "metadata": {},
   "source": [
    "# Alexa Ranking Feature Processing"
   ]
  },
  {
   "cell_type": "code",
   "execution_count": 196,
   "metadata": {},
   "outputs": [
    {
     "data": {
      "text/plain": [
       "7538.0"
      ]
     },
     "execution_count": 196,
     "metadata": {},
     "output_type": "execute_result"
    }
   ],
   "source": [
    "data[data['Phishing'] == \"no\"]['Alexa Ranking'].median()"
   ]
  },
  {
   "cell_type": "code",
   "execution_count": 197,
   "metadata": {},
   "outputs": [
    {
     "data": {
      "text/plain": [
       "538085.0"
      ]
     },
     "execution_count": 197,
     "metadata": {},
     "output_type": "execute_result"
    }
   ],
   "source": [
    "data[data['Phishing'] == \"yes\"]['Alexa Ranking'].median()"
   ]
  },
  {
   "cell_type": "code",
   "execution_count": 198,
   "metadata": {},
   "outputs": [],
   "source": [
    "def impute_alexa(vals):\n",
    "    rank = vals[0]\n",
    "    phis = vals[1]\n",
    "    if pd.isnull(rank):\n",
    "        if phis == \"no\":\n",
    "            return 7500\n",
    "        else:\n",
    "            return 538000\n",
    "    return rank"
   ]
  },
  {
   "cell_type": "code",
   "execution_count": 201,
   "metadata": {},
   "outputs": [],
   "source": [
    "data['Alexa Ranking'] = data[['Alexa Ranking', 'Phishing']].apply(impute_alexa,axis=1)"
   ]
  },
  {
   "cell_type": "code",
   "execution_count": 203,
   "metadata": {},
   "outputs": [
    {
     "data": {
      "text/plain": [
       "Index(['URL', 'embedded_domain_in_path', 'ip_address', 'number_of_dots',\n",
       "       'host_has_dash', 'dictionary_word', 'http_in_hostname',\n",
       "       'targeted_brand', 'redirecting url', 'ext url', 'Phishing',\n",
       "       'Subdomains', 'Prefix-Suffix', 'Anchor Tag', 'Tags', 'Forms',\n",
       "       'SSL Expiry Date', 'SSL Cert Check', 'Alexa Ranking'],\n",
       "      dtype='object')"
      ]
     },
     "execution_count": 203,
     "metadata": {},
     "output_type": "execute_result"
    }
   ],
   "source": [
    "data.columns"
   ]
  },
  {
   "cell_type": "code",
   "execution_count": null,
   "metadata": {},
   "outputs": [],
   "source": []
  },
  {
   "cell_type": "code",
   "execution_count": 213,
   "metadata": {},
   "outputs": [
    {
     "data": {
      "text/plain": [
       "Phishing\n",
       "no     223.114815\n",
       "yes    149.979284\n",
       "Name: SSL Expiry Date, dtype: float64"
      ]
     },
     "execution_count": 213,
     "metadata": {},
     "output_type": "execute_result"
    }
   ],
   "source": [
    "data['SSL Expiry Date'].groupby(data['Phishing']).mean()"
   ]
  },
  {
   "cell_type": "code",
   "execution_count": 228,
   "metadata": {},
   "outputs": [
    {
     "data": {
      "text/plain": [
       "-1       543\n",
       " 253      59\n",
       " 252      33\n",
       " 39       19\n",
       " 62       16\n",
       " 55       16\n",
       " 2501     10\n",
       " 35        9\n",
       " 22        8\n",
       " 80        8\n",
       " 85        8\n",
       " 64        8\n",
       " 36        8\n",
       " 43        8\n",
       " 12        8\n",
       " 251       7\n",
       " 42        7\n",
       " 84        7\n",
       " 76        7\n",
       " 79        7\n",
       " 54        6\n",
       " 70        6\n",
       " 243       6\n",
       " 37        6\n",
       " 61        6\n",
       " 44        6\n",
       " 2500      5\n",
       " 11        5\n",
       " 75        5\n",
       " 41        5\n",
       "        ... \n",
       " 654       1\n",
       " 676       1\n",
       " 715       1\n",
       " 731       1\n",
       " 742       1\n",
       " 9043      1\n",
       " 857       1\n",
       " 286       1\n",
       " 282       1\n",
       " 264       1\n",
       " 175       1\n",
       " 98        1\n",
       " 99        1\n",
       " 126       1\n",
       " 2193      1\n",
       " 148       1\n",
       " 9157      1\n",
       " 158       1\n",
       " 167       1\n",
       " 179       1\n",
       " 235       1\n",
       " 180       1\n",
       " 182       1\n",
       " 190       1\n",
       " 204       1\n",
       " 218       1\n",
       " 227       1\n",
       " 229       1\n",
       " 6374      1\n",
       " 154       1\n",
       "Name: SSL Expiry Date, Length: 141, dtype: int64"
      ]
     },
     "execution_count": 228,
     "metadata": {},
     "output_type": "execute_result"
    }
   ],
   "source": [
    "data[data['Phishing'] == \"yes\"]['SSL Expiry Date'].value_counts()"
   ]
  },
  {
   "cell_type": "code",
   "execution_count": 219,
   "metadata": {},
   "outputs": [
    {
     "data": {
      "text/plain": [
       "-1      161\n",
       " 69      78\n",
       " 68      26\n",
       " 163     14\n",
       " 182     13\n",
       " 219     12\n",
       " 316     10\n",
       " 380     10\n",
       " 67      10\n",
       " 151     10\n",
       " 322      9\n",
       " 626      9\n",
       " 249      8\n",
       " 77       8\n",
       " 315      8\n",
       " 74       7\n",
       " 150      7\n",
       " 434      7\n",
       " 582      7\n",
       " 93       7\n",
       " 176      7\n",
       " 49       7\n",
       " 133      7\n",
       " 34       7\n",
       " 750      7\n",
       " 147      6\n",
       " 193      6\n",
       " 66       6\n",
       " 180      6\n",
       " 175      6\n",
       "       ... \n",
       " 191      1\n",
       " 294      1\n",
       " 298      1\n",
       " 423      1\n",
       " 351      1\n",
       " 409      1\n",
       " 408      1\n",
       " 406      1\n",
       " 404      1\n",
       " 391      1\n",
       " 390      1\n",
       " 389      1\n",
       " 387      1\n",
       " 382      1\n",
       " 359      1\n",
       " 358      1\n",
       " 348      1\n",
       " 303      1\n",
       " 344      1\n",
       " 341      1\n",
       " 339      1\n",
       " 337      1\n",
       " 333      1\n",
       " 325      1\n",
       " 323      1\n",
       " 317      1\n",
       " 313      1\n",
       " 311      1\n",
       " 307      1\n",
       " 287      1\n",
       "Name: SSL Expiry Date, Length: 326, dtype: int64"
      ]
     },
     "execution_count": 219,
     "metadata": {},
     "output_type": "execute_result"
    }
   ],
   "source": [
    "data[data['Phishing'] == \"no\"]['SSL Expiry Date'].value_counts()"
   ]
  },
  {
   "cell_type": "code",
   "execution_count": null,
   "metadata": {},
   "outputs": [],
   "source": []
  },
  {
   "cell_type": "code",
   "execution_count": 229,
   "metadata": {},
   "outputs": [],
   "source": [
    "def impute_expiry(vals):\n",
    "    days = vals[0]\n",
    "    phis = vals[1]\n",
    "    if days == -1:\n",
    "        if phis == 'yes':\n",
    "            return 69\n",
    "        else:\n",
    "            return 253\n",
    "    return days"
   ]
  },
  {
   "cell_type": "code",
   "execution_count": 231,
   "metadata": {},
   "outputs": [],
   "source": [
    "data[\"SSL Expiry Date\"] = data[['SSL Expiry Date','Phishing']].apply(impute_expiry, axis=1)"
   ]
  },
  {
   "cell_type": "code",
   "execution_count": 232,
   "metadata": {},
   "outputs": [
    {
     "data": {
      "text/html": [
       "<div>\n",
       "<style scoped>\n",
       "    .dataframe tbody tr th:only-of-type {\n",
       "        vertical-align: middle;\n",
       "    }\n",
       "\n",
       "    .dataframe tbody tr th {\n",
       "        vertical-align: top;\n",
       "    }\n",
       "\n",
       "    .dataframe thead th {\n",
       "        text-align: right;\n",
       "    }\n",
       "</style>\n",
       "<table border=\"1\" class=\"dataframe\">\n",
       "  <thead>\n",
       "    <tr style=\"text-align: right;\">\n",
       "      <th></th>\n",
       "      <th>URL</th>\n",
       "      <th>embedded_domain_in_path</th>\n",
       "      <th>ip_address</th>\n",
       "      <th>number_of_dots</th>\n",
       "      <th>host_has_dash</th>\n",
       "      <th>dictionary_word</th>\n",
       "      <th>http_in_hostname</th>\n",
       "      <th>targeted_brand</th>\n",
       "      <th>redirecting url</th>\n",
       "      <th>ext url</th>\n",
       "      <th>Phishing</th>\n",
       "      <th>Subdomains</th>\n",
       "      <th>Prefix-Suffix</th>\n",
       "      <th>Anchor Tag</th>\n",
       "      <th>Tags</th>\n",
       "      <th>Forms</th>\n",
       "      <th>SSL Expiry Date</th>\n",
       "      <th>SSL Cert Check</th>\n",
       "      <th>Alexa Ranking</th>\n",
       "    </tr>\n",
       "  </thead>\n",
       "  <tbody>\n",
       "    <tr>\n",
       "      <th>0</th>\n",
       "      <td>https://locking-app-adverds.000webhostapp.com/...</td>\n",
       "      <td>1</td>\n",
       "      <td>-1</td>\n",
       "      <td>-1</td>\n",
       "      <td>1</td>\n",
       "      <td>1</td>\n",
       "      <td>-1</td>\n",
       "      <td>-1</td>\n",
       "      <td>-1</td>\n",
       "      <td>-1</td>\n",
       "      <td>yes</td>\n",
       "      <td>3</td>\n",
       "      <td>-1</td>\n",
       "      <td>300.0</td>\n",
       "      <td>N-N</td>\n",
       "      <td>0</td>\n",
       "      <td>253</td>\n",
       "      <td>0</td>\n",
       "      <td>3664.0</td>\n",
       "    </tr>\n",
       "    <tr>\n",
       "      <th>1</th>\n",
       "      <td>https://mxtoolbox.com/public/upgradev2.aspx?ps...</td>\n",
       "      <td>0</td>\n",
       "      <td>-1</td>\n",
       "      <td>-1</td>\n",
       "      <td>-1</td>\n",
       "      <td>-1</td>\n",
       "      <td>-1</td>\n",
       "      <td>-1</td>\n",
       "      <td>-1</td>\n",
       "      <td>-1</td>\n",
       "      <td>no</td>\n",
       "      <td>2</td>\n",
       "      <td>1</td>\n",
       "      <td>155.0</td>\n",
       "      <td>100</td>\n",
       "      <td>1</td>\n",
       "      <td>256</td>\n",
       "      <td>0</td>\n",
       "      <td>6619.0</td>\n",
       "    </tr>\n",
       "    <tr>\n",
       "      <th>2</th>\n",
       "      <td>http://parolishop.com.br/questionreviews.htm</td>\n",
       "      <td>0</td>\n",
       "      <td>-1</td>\n",
       "      <td>-1</td>\n",
       "      <td>-1</td>\n",
       "      <td>-1</td>\n",
       "      <td>-1</td>\n",
       "      <td>-1</td>\n",
       "      <td>-1</td>\n",
       "      <td>-1</td>\n",
       "      <td>yes</td>\n",
       "      <td>3</td>\n",
       "      <td>1</td>\n",
       "      <td>293.0</td>\n",
       "      <td>100</td>\n",
       "      <td>1</td>\n",
       "      <td>36</td>\n",
       "      <td>0</td>\n",
       "      <td>538000.0</td>\n",
       "    </tr>\n",
       "    <tr>\n",
       "      <th>3</th>\n",
       "      <td>http://innovate.ieee.org/innovate/35675?lt=xpl...</td>\n",
       "      <td>1</td>\n",
       "      <td>-1</td>\n",
       "      <td>-1</td>\n",
       "      <td>-1</td>\n",
       "      <td>-1</td>\n",
       "      <td>-1</td>\n",
       "      <td>-1</td>\n",
       "      <td>-1</td>\n",
       "      <td>-1</td>\n",
       "      <td>no</td>\n",
       "      <td>3</td>\n",
       "      <td>1</td>\n",
       "      <td>150.0</td>\n",
       "      <td>N-N</td>\n",
       "      <td>0</td>\n",
       "      <td>58</td>\n",
       "      <td>0</td>\n",
       "      <td>717.0</td>\n",
       "    </tr>\n",
       "    <tr>\n",
       "      <th>4</th>\n",
       "      <td>http://ietbhaddal.edu.in/bb.mobile/mobile/inde...</td>\n",
       "      <td>0</td>\n",
       "      <td>-1</td>\n",
       "      <td>-1</td>\n",
       "      <td>-1</td>\n",
       "      <td>-1</td>\n",
       "      <td>-1</td>\n",
       "      <td>1</td>\n",
       "      <td>-1</td>\n",
       "      <td>-1</td>\n",
       "      <td>yes</td>\n",
       "      <td>3</td>\n",
       "      <td>1</td>\n",
       "      <td>300.0</td>\n",
       "      <td>N-N</td>\n",
       "      <td>0</td>\n",
       "      <td>716</td>\n",
       "      <td>1</td>\n",
       "      <td>538000.0</td>\n",
       "    </tr>\n",
       "  </tbody>\n",
       "</table>\n",
       "</div>"
      ],
      "text/plain": [
       "                                                 URL embedded_domain_in_path  \\\n",
       "0  https://locking-app-adverds.000webhostapp.com/...                       1   \n",
       "1  https://mxtoolbox.com/public/upgradev2.aspx?ps...                       0   \n",
       "2       http://parolishop.com.br/questionreviews.htm                       0   \n",
       "3  http://innovate.ieee.org/innovate/35675?lt=xpl...                       1   \n",
       "4  http://ietbhaddal.edu.in/bb.mobile/mobile/inde...                       0   \n",
       "\n",
       "  ip_address number_of_dots host_has_dash dictionary_word http_in_hostname  \\\n",
       "0         -1             -1             1               1               -1   \n",
       "1         -1             -1            -1              -1               -1   \n",
       "2         -1             -1            -1              -1               -1   \n",
       "3         -1             -1            -1              -1               -1   \n",
       "4         -1             -1            -1              -1               -1   \n",
       "\n",
       "  targeted_brand redirecting url ext url Phishing  Subdomains  Prefix-Suffix  \\\n",
       "0             -1              -1      -1      yes           3             -1   \n",
       "1             -1              -1      -1       no           2              1   \n",
       "2             -1              -1      -1      yes           3              1   \n",
       "3             -1              -1      -1       no           3              1   \n",
       "4              1              -1      -1      yes           3              1   \n",
       "\n",
       "   Anchor Tag Tags  Forms  SSL Expiry Date  SSL Cert Check  Alexa Ranking  \n",
       "0       300.0  N-N      0              253               0         3664.0  \n",
       "1       155.0  100      1              256               0         6619.0  \n",
       "2       293.0  100      1               36               0       538000.0  \n",
       "3       150.0  N-N      0               58               0          717.0  \n",
       "4       300.0  N-N      0              716               1       538000.0  "
      ]
     },
     "execution_count": 232,
     "metadata": {},
     "output_type": "execute_result"
    }
   ],
   "source": [
    "data.head()"
   ]
  },
  {
   "cell_type": "code",
   "execution_count": 235,
   "metadata": {},
   "outputs": [],
   "source": [
    "data.to_csv(\"final_cleaned_dataset.csv\",index=False)"
   ]
  },
  {
   "cell_type": "code",
   "execution_count": null,
   "metadata": {},
   "outputs": [],
   "source": []
  },
  {
   "cell_type": "code",
   "execution_count": null,
   "metadata": {},
   "outputs": [],
   "source": []
  },
  {
   "cell_type": "code",
   "execution_count": null,
   "metadata": {},
   "outputs": [],
   "source": []
  },
  {
   "cell_type": "code",
   "execution_count": null,
   "metadata": {},
   "outputs": [],
   "source": []
  },
  {
   "cell_type": "code",
   "execution_count": null,
   "metadata": {},
   "outputs": [],
   "source": []
  },
  {
   "cell_type": "code",
   "execution_count": null,
   "metadata": {},
   "outputs": [],
   "source": []
  },
  {
   "cell_type": "code",
   "execution_count": 8,
   "metadata": {},
   "outputs": [],
   "source": [
    "data = pd.read_csv(\"final_cleaned_dataset.csv\")"
   ]
  },
  {
   "cell_type": "code",
   "execution_count": 9,
   "metadata": {},
   "outputs": [],
   "source": [
    "data.drop(['Tags'],axis=1, inplace=True)"
   ]
  },
  {
   "cell_type": "code",
   "execution_count": 10,
   "metadata": {},
   "outputs": [
    {
     "data": {
      "text/html": [
       "<div>\n",
       "<style scoped>\n",
       "    .dataframe tbody tr th:only-of-type {\n",
       "        vertical-align: middle;\n",
       "    }\n",
       "\n",
       "    .dataframe tbody tr th {\n",
       "        vertical-align: top;\n",
       "    }\n",
       "\n",
       "    .dataframe thead th {\n",
       "        text-align: right;\n",
       "    }\n",
       "</style>\n",
       "<table border=\"1\" class=\"dataframe\">\n",
       "  <thead>\n",
       "    <tr style=\"text-align: right;\">\n",
       "      <th></th>\n",
       "      <th>URL</th>\n",
       "      <th>embedded_domain_in_path</th>\n",
       "      <th>ip_address</th>\n",
       "      <th>dictionary_word</th>\n",
       "      <th>targeted_brand</th>\n",
       "      <th>ext url</th>\n",
       "      <th>Phishing</th>\n",
       "      <th>Subdomains</th>\n",
       "      <th>Prefix-Suffix</th>\n",
       "      <th>Anchor Tag</th>\n",
       "      <th>Forms</th>\n",
       "      <th>SSL Expiry Date</th>\n",
       "      <th>SSL Cert Check</th>\n",
       "      <th>Alexa Ranking</th>\n",
       "      <th>URL Length</th>\n",
       "      <th>URL Shortened</th>\n",
       "      <th>Redirects User</th>\n",
       "      <th>URL has @ Symbol</th>\n",
       "      <th>URL has HTTPS</th>\n",
       "    </tr>\n",
       "  </thead>\n",
       "  <tbody>\n",
       "    <tr>\n",
       "      <th>0</th>\n",
       "      <td>https://locking-app-adverds.000webhostapp.com/...</td>\n",
       "      <td>1</td>\n",
       "      <td>-1</td>\n",
       "      <td>1</td>\n",
       "      <td>-1</td>\n",
       "      <td>-1</td>\n",
       "      <td>yes</td>\n",
       "      <td>3</td>\n",
       "      <td>-1</td>\n",
       "      <td>300</td>\n",
       "      <td>0</td>\n",
       "      <td>253</td>\n",
       "      <td>0</td>\n",
       "      <td>3664</td>\n",
       "      <td>135</td>\n",
       "      <td>-1</td>\n",
       "      <td>1</td>\n",
       "      <td>1</td>\n",
       "      <td>1</td>\n",
       "    </tr>\n",
       "    <tr>\n",
       "      <th>1</th>\n",
       "      <td>https://mxtoolbox.com/public/upgradev2.aspx?ps...</td>\n",
       "      <td>0</td>\n",
       "      <td>-1</td>\n",
       "      <td>-1</td>\n",
       "      <td>-1</td>\n",
       "      <td>-1</td>\n",
       "      <td>no</td>\n",
       "      <td>2</td>\n",
       "      <td>1</td>\n",
       "      <td>155</td>\n",
       "      <td>1</td>\n",
       "      <td>256</td>\n",
       "      <td>0</td>\n",
       "      <td>6619</td>\n",
       "      <td>295</td>\n",
       "      <td>1</td>\n",
       "      <td>1</td>\n",
       "      <td>1</td>\n",
       "      <td>1</td>\n",
       "    </tr>\n",
       "    <tr>\n",
       "      <th>2</th>\n",
       "      <td>http://parolishop.com.br/questionreviews.htm</td>\n",
       "      <td>0</td>\n",
       "      <td>-1</td>\n",
       "      <td>-1</td>\n",
       "      <td>-1</td>\n",
       "      <td>-1</td>\n",
       "      <td>yes</td>\n",
       "      <td>3</td>\n",
       "      <td>1</td>\n",
       "      <td>293</td>\n",
       "      <td>1</td>\n",
       "      <td>36</td>\n",
       "      <td>0</td>\n",
       "      <td>538000</td>\n",
       "      <td>44</td>\n",
       "      <td>-1</td>\n",
       "      <td>1</td>\n",
       "      <td>1</td>\n",
       "      <td>-1</td>\n",
       "    </tr>\n",
       "    <tr>\n",
       "      <th>3</th>\n",
       "      <td>http://innovate.ieee.org/innovate/35675?lt=xpl...</td>\n",
       "      <td>1</td>\n",
       "      <td>-1</td>\n",
       "      <td>-1</td>\n",
       "      <td>-1</td>\n",
       "      <td>-1</td>\n",
       "      <td>no</td>\n",
       "      <td>3</td>\n",
       "      <td>1</td>\n",
       "      <td>150</td>\n",
       "      <td>0</td>\n",
       "      <td>58</td>\n",
       "      <td>0</td>\n",
       "      <td>717</td>\n",
       "      <td>80</td>\n",
       "      <td>-1</td>\n",
       "      <td>1</td>\n",
       "      <td>1</td>\n",
       "      <td>-1</td>\n",
       "    </tr>\n",
       "    <tr>\n",
       "      <th>4</th>\n",
       "      <td>http://ietbhaddal.edu.in/bb.mobile/mobile/inde...</td>\n",
       "      <td>0</td>\n",
       "      <td>-1</td>\n",
       "      <td>-1</td>\n",
       "      <td>1</td>\n",
       "      <td>-1</td>\n",
       "      <td>yes</td>\n",
       "      <td>3</td>\n",
       "      <td>1</td>\n",
       "      <td>300</td>\n",
       "      <td>0</td>\n",
       "      <td>716</td>\n",
       "      <td>1</td>\n",
       "      <td>538000</td>\n",
       "      <td>51</td>\n",
       "      <td>-1</td>\n",
       "      <td>1</td>\n",
       "      <td>1</td>\n",
       "      <td>-1</td>\n",
       "    </tr>\n",
       "  </tbody>\n",
       "</table>\n",
       "</div>"
      ],
      "text/plain": [
       "                                                 URL  embedded_domain_in_path  \\\n",
       "0  https://locking-app-adverds.000webhostapp.com/...                        1   \n",
       "1  https://mxtoolbox.com/public/upgradev2.aspx?ps...                        0   \n",
       "2       http://parolishop.com.br/questionreviews.htm                        0   \n",
       "3  http://innovate.ieee.org/innovate/35675?lt=xpl...                        1   \n",
       "4  http://ietbhaddal.edu.in/bb.mobile/mobile/inde...                        0   \n",
       "\n",
       "   ip_address  dictionary_word  targeted_brand  ext url Phishing  Subdomains  \\\n",
       "0          -1                1              -1       -1      yes           3   \n",
       "1          -1               -1              -1       -1       no           2   \n",
       "2          -1               -1              -1       -1      yes           3   \n",
       "3          -1               -1              -1       -1       no           3   \n",
       "4          -1               -1               1       -1      yes           3   \n",
       "\n",
       "   Prefix-Suffix  Anchor Tag  Forms  SSL Expiry Date  SSL Cert Check  \\\n",
       "0             -1         300      0              253               0   \n",
       "1              1         155      1              256               0   \n",
       "2              1         293      1               36               0   \n",
       "3              1         150      0               58               0   \n",
       "4              1         300      0              716               1   \n",
       "\n",
       "   Alexa Ranking  URL Length  URL Shortened  Redirects User  URL has @ Symbol  \\\n",
       "0           3664         135             -1               1                 1   \n",
       "1           6619         295              1               1                 1   \n",
       "2         538000          44             -1               1                 1   \n",
       "3            717          80             -1               1                 1   \n",
       "4         538000          51             -1               1                 1   \n",
       "\n",
       "   URL has HTTPS  \n",
       "0              1  \n",
       "1              1  \n",
       "2             -1  \n",
       "3             -1  \n",
       "4             -1  "
      ]
     },
     "execution_count": 10,
     "metadata": {},
     "output_type": "execute_result"
    }
   ],
   "source": [
    "data.head()"
   ]
  },
  {
   "cell_type": "code",
   "execution_count": 11,
   "metadata": {},
   "outputs": [
    {
     "data": {
      "text/plain": [
       "Index(['URL', 'embedded_domain_in_path', 'ip_address', 'dictionary_word',\n",
       "       'targeted_brand', 'ext url', 'Phishing', 'Subdomains', 'Prefix-Suffix',\n",
       "       'Anchor Tag', 'Forms', 'SSL Expiry Date', 'SSL Cert Check',\n",
       "       'Alexa Ranking', 'URL Length', 'URL Shortened', 'Redirects User',\n",
       "       'URL has @ Symbol', 'URL has HTTPS'],\n",
       "      dtype='object')"
      ]
     },
     "execution_count": 11,
     "metadata": {},
     "output_type": "execute_result"
    }
   ],
   "source": [
    "data.columns"
   ]
  },
  {
   "cell_type": "code",
   "execution_count": 12,
   "metadata": {},
   "outputs": [
    {
     "data": {
      "text/html": [
       "<div>\n",
       "<style scoped>\n",
       "    .dataframe tbody tr th:only-of-type {\n",
       "        vertical-align: middle;\n",
       "    }\n",
       "\n",
       "    .dataframe tbody tr th {\n",
       "        vertical-align: top;\n",
       "    }\n",
       "\n",
       "    .dataframe thead th {\n",
       "        text-align: right;\n",
       "    }\n",
       "</style>\n",
       "<table border=\"1\" class=\"dataframe\">\n",
       "  <thead>\n",
       "    <tr style=\"text-align: right;\">\n",
       "      <th></th>\n",
       "      <th>embedded_domain_in_path</th>\n",
       "      <th>ip_address</th>\n",
       "      <th>dictionary_word</th>\n",
       "      <th>targeted_brand</th>\n",
       "      <th>ext url</th>\n",
       "      <th>Subdomains</th>\n",
       "      <th>Prefix-Suffix</th>\n",
       "      <th>Anchor Tag</th>\n",
       "      <th>Forms</th>\n",
       "      <th>SSL Expiry Date</th>\n",
       "      <th>SSL Cert Check</th>\n",
       "      <th>Alexa Ranking</th>\n",
       "      <th>URL Length</th>\n",
       "      <th>URL Shortened</th>\n",
       "      <th>Redirects User</th>\n",
       "      <th>URL has @ Symbol</th>\n",
       "      <th>URL has HTTPS</th>\n",
       "    </tr>\n",
       "  </thead>\n",
       "  <tbody>\n",
       "    <tr>\n",
       "      <th>count</th>\n",
       "      <td>2142.000000</td>\n",
       "      <td>2142.000000</td>\n",
       "      <td>2142.000000</td>\n",
       "      <td>2142.000000</td>\n",
       "      <td>2142.000000</td>\n",
       "      <td>2142.000000</td>\n",
       "      <td>2142.000000</td>\n",
       "      <td>2142.000000</td>\n",
       "      <td>2142.000000</td>\n",
       "      <td>2142.000000</td>\n",
       "      <td>2142.000000</td>\n",
       "      <td>2.142000e+03</td>\n",
       "      <td>2142.000000</td>\n",
       "      <td>2142.000000</td>\n",
       "      <td>2142.000000</td>\n",
       "      <td>2142.000000</td>\n",
       "      <td>2142.000000</td>\n",
       "    </tr>\n",
       "    <tr>\n",
       "      <th>mean</th>\n",
       "      <td>0.351541</td>\n",
       "      <td>-0.992530</td>\n",
       "      <td>-0.433240</td>\n",
       "      <td>-0.478992</td>\n",
       "      <td>5.282913</td>\n",
       "      <td>2.776844</td>\n",
       "      <td>0.758170</td>\n",
       "      <td>215.224090</td>\n",
       "      <td>0.509804</td>\n",
       "      <td>223.690943</td>\n",
       "      <td>-0.229692</td>\n",
       "      <td>1.076952e+06</td>\n",
       "      <td>87.266573</td>\n",
       "      <td>-0.875817</td>\n",
       "      <td>0.985061</td>\n",
       "      <td>0.983193</td>\n",
       "      <td>-0.456583</td>\n",
       "    </tr>\n",
       "    <tr>\n",
       "      <th>std</th>\n",
       "      <td>0.859676</td>\n",
       "      <td>0.122026</td>\n",
       "      <td>0.901489</td>\n",
       "      <td>0.878024</td>\n",
       "      <td>24.216451</td>\n",
       "      <td>0.784998</td>\n",
       "      <td>0.652209</td>\n",
       "      <td>90.402299</td>\n",
       "      <td>0.500021</td>\n",
       "      <td>456.308753</td>\n",
       "      <td>0.612417</td>\n",
       "      <td>3.095277e+06</td>\n",
       "      <td>97.352935</td>\n",
       "      <td>0.482756</td>\n",
       "      <td>0.172248</td>\n",
       "      <td>0.182610</td>\n",
       "      <td>0.889889</td>\n",
       "    </tr>\n",
       "    <tr>\n",
       "      <th>min</th>\n",
       "      <td>-1.000000</td>\n",
       "      <td>-1.000000</td>\n",
       "      <td>-1.000000</td>\n",
       "      <td>-1.000000</td>\n",
       "      <td>-1.000000</td>\n",
       "      <td>1.000000</td>\n",
       "      <td>-1.000000</td>\n",
       "      <td>1.000000</td>\n",
       "      <td>0.000000</td>\n",
       "      <td>8.000000</td>\n",
       "      <td>-1.000000</td>\n",
       "      <td>1.000000e+00</td>\n",
       "      <td>3.000000</td>\n",
       "      <td>-1.000000</td>\n",
       "      <td>-1.000000</td>\n",
       "      <td>-1.000000</td>\n",
       "      <td>-1.000000</td>\n",
       "    </tr>\n",
       "    <tr>\n",
       "      <th>25%</th>\n",
       "      <td>-1.000000</td>\n",
       "      <td>-1.000000</td>\n",
       "      <td>-1.000000</td>\n",
       "      <td>-1.000000</td>\n",
       "      <td>-1.000000</td>\n",
       "      <td>2.000000</td>\n",
       "      <td>1.000000</td>\n",
       "      <td>150.000000</td>\n",
       "      <td>0.000000</td>\n",
       "      <td>69.000000</td>\n",
       "      <td>-1.000000</td>\n",
       "      <td>4.243250e+03</td>\n",
       "      <td>40.000000</td>\n",
       "      <td>-1.000000</td>\n",
       "      <td>1.000000</td>\n",
       "      <td>1.000000</td>\n",
       "      <td>-1.000000</td>\n",
       "    </tr>\n",
       "    <tr>\n",
       "      <th>50%</th>\n",
       "      <td>1.000000</td>\n",
       "      <td>-1.000000</td>\n",
       "      <td>-1.000000</td>\n",
       "      <td>-1.000000</td>\n",
       "      <td>-1.000000</td>\n",
       "      <td>3.000000</td>\n",
       "      <td>1.000000</td>\n",
       "      <td>209.000000</td>\n",
       "      <td>1.000000</td>\n",
       "      <td>88.500000</td>\n",
       "      <td>0.000000</td>\n",
       "      <td>5.380000e+05</td>\n",
       "      <td>63.000000</td>\n",
       "      <td>-1.000000</td>\n",
       "      <td>1.000000</td>\n",
       "      <td>1.000000</td>\n",
       "      <td>-1.000000</td>\n",
       "    </tr>\n",
       "    <tr>\n",
       "      <th>75%</th>\n",
       "      <td>1.000000</td>\n",
       "      <td>-1.000000</td>\n",
       "      <td>1.000000</td>\n",
       "      <td>1.000000</td>\n",
       "      <td>-1.000000</td>\n",
       "      <td>3.000000</td>\n",
       "      <td>1.000000</td>\n",
       "      <td>300.000000</td>\n",
       "      <td>1.000000</td>\n",
       "      <td>253.000000</td>\n",
       "      <td>0.000000</td>\n",
       "      <td>5.380000e+05</td>\n",
       "      <td>98.000000</td>\n",
       "      <td>-1.000000</td>\n",
       "      <td>1.000000</td>\n",
       "      <td>1.000000</td>\n",
       "      <td>1.000000</td>\n",
       "    </tr>\n",
       "    <tr>\n",
       "      <th>max</th>\n",
       "      <td>1.000000</td>\n",
       "      <td>1.000000</td>\n",
       "      <td>1.000000</td>\n",
       "      <td>1.000000</td>\n",
       "      <td>99.000000</td>\n",
       "      <td>10.000000</td>\n",
       "      <td>1.000000</td>\n",
       "      <td>300.000000</td>\n",
       "      <td>1.000000</td>\n",
       "      <td>9803.000000</td>\n",
       "      <td>1.000000</td>\n",
       "      <td>1.999684e+07</td>\n",
       "      <td>1457.000000</td>\n",
       "      <td>1.000000</td>\n",
       "      <td>1.000000</td>\n",
       "      <td>1.000000</td>\n",
       "      <td>1.000000</td>\n",
       "    </tr>\n",
       "  </tbody>\n",
       "</table>\n",
       "</div>"
      ],
      "text/plain": [
       "       embedded_domain_in_path   ip_address  dictionary_word  targeted_brand  \\\n",
       "count              2142.000000  2142.000000      2142.000000     2142.000000   \n",
       "mean                  0.351541    -0.992530        -0.433240       -0.478992   \n",
       "std                   0.859676     0.122026         0.901489        0.878024   \n",
       "min                  -1.000000    -1.000000        -1.000000       -1.000000   \n",
       "25%                  -1.000000    -1.000000        -1.000000       -1.000000   \n",
       "50%                   1.000000    -1.000000        -1.000000       -1.000000   \n",
       "75%                   1.000000    -1.000000         1.000000        1.000000   \n",
       "max                   1.000000     1.000000         1.000000        1.000000   \n",
       "\n",
       "           ext url   Subdomains  Prefix-Suffix   Anchor Tag        Forms  \\\n",
       "count  2142.000000  2142.000000    2142.000000  2142.000000  2142.000000   \n",
       "mean      5.282913     2.776844       0.758170   215.224090     0.509804   \n",
       "std      24.216451     0.784998       0.652209    90.402299     0.500021   \n",
       "min      -1.000000     1.000000      -1.000000     1.000000     0.000000   \n",
       "25%      -1.000000     2.000000       1.000000   150.000000     0.000000   \n",
       "50%      -1.000000     3.000000       1.000000   209.000000     1.000000   \n",
       "75%      -1.000000     3.000000       1.000000   300.000000     1.000000   \n",
       "max      99.000000    10.000000       1.000000   300.000000     1.000000   \n",
       "\n",
       "       SSL Expiry Date  SSL Cert Check  Alexa Ranking   URL Length  \\\n",
       "count      2142.000000     2142.000000   2.142000e+03  2142.000000   \n",
       "mean        223.690943       -0.229692   1.076952e+06    87.266573   \n",
       "std         456.308753        0.612417   3.095277e+06    97.352935   \n",
       "min           8.000000       -1.000000   1.000000e+00     3.000000   \n",
       "25%          69.000000       -1.000000   4.243250e+03    40.000000   \n",
       "50%          88.500000        0.000000   5.380000e+05    63.000000   \n",
       "75%         253.000000        0.000000   5.380000e+05    98.000000   \n",
       "max        9803.000000        1.000000   1.999684e+07  1457.000000   \n",
       "\n",
       "       URL Shortened  Redirects User  URL has @ Symbol  URL has HTTPS  \n",
       "count    2142.000000     2142.000000       2142.000000    2142.000000  \n",
       "mean       -0.875817        0.985061          0.983193      -0.456583  \n",
       "std         0.482756        0.172248          0.182610       0.889889  \n",
       "min        -1.000000       -1.000000         -1.000000      -1.000000  \n",
       "25%        -1.000000        1.000000          1.000000      -1.000000  \n",
       "50%        -1.000000        1.000000          1.000000      -1.000000  \n",
       "75%        -1.000000        1.000000          1.000000       1.000000  \n",
       "max         1.000000        1.000000          1.000000       1.000000  "
      ]
     },
     "execution_count": 12,
     "metadata": {},
     "output_type": "execute_result"
    }
   ],
   "source": [
    "data.describe()"
   ]
  },
  {
   "cell_type": "code",
   "execution_count": 13,
   "metadata": {},
   "outputs": [
    {
     "name": "stdout",
     "output_type": "stream",
     "text": [
      "<class 'pandas.core.frame.DataFrame'>\n",
      "RangeIndex: 2142 entries, 0 to 2141\n",
      "Data columns (total 19 columns):\n",
      "URL                        2142 non-null object\n",
      "embedded_domain_in_path    2142 non-null int64\n",
      "ip_address                 2142 non-null int64\n",
      "dictionary_word            2142 non-null int64\n",
      "targeted_brand             2142 non-null int64\n",
      "ext url                    2142 non-null int64\n",
      "Phishing                   2142 non-null object\n",
      "Subdomains                 2142 non-null int64\n",
      "Prefix-Suffix              2142 non-null int64\n",
      "Anchor Tag                 2142 non-null int64\n",
      "Forms                      2142 non-null int64\n",
      "SSL Expiry Date            2142 non-null int64\n",
      "SSL Cert Check             2142 non-null int64\n",
      "Alexa Ranking              2142 non-null int64\n",
      "URL Length                 2142 non-null int64\n",
      "URL Shortened              2142 non-null int64\n",
      "Redirects User             2142 non-null int64\n",
      "URL has @ Symbol           2142 non-null int64\n",
      "URL has HTTPS              2142 non-null int64\n",
      "dtypes: int64(17), object(2)\n",
      "memory usage: 318.0+ KB\n"
     ]
    }
   ],
   "source": [
    "data.info()"
   ]
  },
  {
   "cell_type": "code",
   "execution_count": 14,
   "metadata": {},
   "outputs": [
    {
     "data": {
      "text/plain": [
       "Phishing  embedded_domain_in_path\n",
       "no         1                         793\n",
       "          -1                         237\n",
       "           0                          50\n",
       "yes        1                         507\n",
       "          -1                         310\n",
       "           0                         245\n",
       "Name: embedded_domain_in_path, dtype: int64"
      ]
     },
     "execution_count": 14,
     "metadata": {},
     "output_type": "execute_result"
    }
   ],
   "source": [
    "data['embedded_domain_in_path'].groupby(data['Phishing']).value_counts()"
   ]
  },
  {
   "cell_type": "code",
   "execution_count": 15,
   "metadata": {},
   "outputs": [
    {
     "data": {
      "text/plain": [
       "Text(0.5,0,\"['Malicious candidate', 'Suspect', 'Safe candidate']\")"
      ]
     },
     "execution_count": 15,
     "metadata": {},
     "output_type": "execute_result"
    },
    {
     "data": {
      "image/png": "[encoded data removed]",
      "text/plain": [
       "<Figure size 432x288 with 1 Axes>"
      ]
     },
     "metadata": {
      "needs_background": "light"
     },
     "output_type": "display_data"
    }
   ],
   "source": [
    "sns.countplot(x='embedded_domain_in_path',data= data, hue = 'Phishing')\n",
    "plt.xlabel(['Malicious candidate', 'Suspect', 'Safe candidate'])"
   ]
  },
  {
   "cell_type": "code",
   "execution_count": 16,
   "metadata": {},
   "outputs": [],
   "source": [
    "# Status: Included for model"
   ]
  },
  {
   "cell_type": "code",
   "execution_count": null,
   "metadata": {},
   "outputs": [],
   "source": []
  },
  {
   "cell_type": "code",
   "execution_count": 17,
   "metadata": {},
   "outputs": [
    {
     "data": {
      "text/plain": [
       "-1    2134\n",
       " 1       8\n",
       "Name: ip_address, dtype: int64"
      ]
     },
     "execution_count": 17,
     "metadata": {},
     "output_type": "execute_result"
    }
   ],
   "source": [
    "data['ip_address'].value_counts()"
   ]
  },
  {
   "cell_type": "code",
   "execution_count": 18,
   "metadata": {},
   "outputs": [],
   "source": [
    "# Status: Drop it (No useful information can be obtained from this feature)"
   ]
  },
  {
   "cell_type": "code",
   "execution_count": 19,
   "metadata": {},
   "outputs": [],
   "source": [
    "# Note: Check for the source and validity of dictionary word and targeted blank and ext url"
   ]
  },
  {
   "cell_type": "code",
   "execution_count": null,
   "metadata": {},
   "outputs": [],
   "source": []
  },
  {
   "cell_type": "code",
   "execution_count": 20,
   "metadata": {},
   "outputs": [
    {
     "data": {
      "text/plain": [
       "Phishing  targeted_brand\n",
       "no        -1                837\n",
       "           1                243\n",
       "yes       -1                747\n",
       "           1                315\n",
       "Name: targeted_brand, dtype: int64"
      ]
     },
     "execution_count": 20,
     "metadata": {},
     "output_type": "execute_result"
    }
   ],
   "source": [
    "data['targeted_brand'].groupby(data['Phishing']).value_counts()"
   ]
  },
  {
   "cell_type": "code",
   "execution_count": 21,
   "metadata": {},
   "outputs": [
    {
     "data": {
      "text/plain": [
       "<matplotlib.axes._subplots.AxesSubplot at 0x26022bb8eb8>"
      ]
     },
     "execution_count": 21,
     "metadata": {},
     "output_type": "execute_result"
    },
    {
     "data": {
      "image/png": "[encoded data removed]",
      "text/plain": [
       "<Figure size 432x288 with 1 Axes>"
      ]
     },
     "metadata": {
      "needs_background": "light"
     },
     "output_type": "display_data"
    }
   ],
   "source": [
    "sns.countplot(x=\"targeted_brand\",hue=\"Phishing\",data= data)"
   ]
  },
  {
   "cell_type": "code",
   "execution_count": 22,
   "metadata": {},
   "outputs": [
    {
     "data": {
      "text/html": [
       "<div>\n",
       "<style scoped>\n",
       "    .dataframe tbody tr th:only-of-type {\n",
       "        vertical-align: middle;\n",
       "    }\n",
       "\n",
       "    .dataframe tbody tr th {\n",
       "        vertical-align: top;\n",
       "    }\n",
       "\n",
       "    .dataframe thead th {\n",
       "        text-align: right;\n",
       "    }\n",
       "</style>\n",
       "<table border=\"1\" class=\"dataframe\">\n",
       "  <thead>\n",
       "    <tr style=\"text-align: right;\">\n",
       "      <th></th>\n",
       "      <th>URL</th>\n",
       "      <th>embedded_domain_in_path</th>\n",
       "      <th>ip_address</th>\n",
       "      <th>dictionary_word</th>\n",
       "      <th>targeted_brand</th>\n",
       "      <th>ext url</th>\n",
       "      <th>Phishing</th>\n",
       "      <th>Subdomains</th>\n",
       "      <th>Prefix-Suffix</th>\n",
       "      <th>Anchor Tag</th>\n",
       "      <th>Forms</th>\n",
       "      <th>SSL Expiry Date</th>\n",
       "      <th>SSL Cert Check</th>\n",
       "      <th>Alexa Ranking</th>\n",
       "      <th>URL Length</th>\n",
       "      <th>URL Shortened</th>\n",
       "      <th>Redirects User</th>\n",
       "      <th>URL has @ Symbol</th>\n",
       "      <th>URL has HTTPS</th>\n",
       "    </tr>\n",
       "  </thead>\n",
       "  <tbody>\n",
       "  </tbody>\n",
       "</table>\n",
       "</div>"
      ],
      "text/plain": [
       "Empty DataFrame\n",
       "Columns: [URL, embedded_domain_in_path, ip_address, dictionary_word, targeted_brand, ext url, Phishing, Subdomains, Prefix-Suffix, Anchor Tag, Forms, SSL Expiry Date, SSL Cert Check, Alexa Ranking, URL Length, URL Shortened, Redirects User, URL has @ Symbol, URL has HTTPS]\n",
       "Index: []"
      ]
     },
     "execution_count": 22,
     "metadata": {},
     "output_type": "execute_result"
    }
   ],
   "source": [
    "\n",
    "data[pd.isnull(data['Subdomains'])]"
   ]
  },
  {
   "cell_type": "markdown",
   "metadata": {},
   "source": [
    "Observations: When the number of subdomains are more than 5, it is highly likely the site is malicious"
   ]
  },
  {
   "cell_type": "code",
   "execution_count": 24,
   "metadata": {},
   "outputs": [],
   "source": [
    "#Status: Include it"
   ]
  },
  {
   "cell_type": "code",
   "execution_count": 25,
   "metadata": {},
   "outputs": [],
   "source": [
    "numerical_features = []\n",
    "numerical_features.append('Subdomains')"
   ]
  },
  {
   "cell_type": "code",
   "execution_count": null,
   "metadata": {},
   "outputs": [],
   "source": []
  },
  {
   "cell_type": "code",
   "execution_count": 26,
   "metadata": {},
   "outputs": [
    {
     "data": {
      "text/plain": [
       "Phishing  Prefix-Suffix\n",
       "no         1               1039\n",
       "          -1                 41\n",
       "yes        1                844\n",
       "          -1                218\n",
       "Name: Prefix-Suffix, dtype: int64"
      ]
     },
     "execution_count": 26,
     "metadata": {},
     "output_type": "execute_result"
    }
   ],
   "source": [
    "data['Prefix-Suffix'].groupby(data['Phishing']).value_counts()"
   ]
  },
  {
   "cell_type": "code",
   "execution_count": 27,
   "metadata": {},
   "outputs": [
    {
     "data": {
      "text/plain": [
       "<matplotlib.axes._subplots.AxesSubplot at 0x26022c8d518>"
      ]
     },
     "execution_count": 27,
     "metadata": {},
     "output_type": "execute_result"
    },
    {
     "data": {
      "image/png": "[encoded data removed]",
      "text/plain": [
       "<Figure size 432x288 with 1 Axes>"
      ]
     },
     "metadata": {
      "needs_background": "light"
     },
     "output_type": "display_data"
    }
   ],
   "source": [
    "sns.countplot(x= 'Prefix-Suffix',data= data, hue='Phishing')"
   ]
  },
  {
   "cell_type": "code",
   "execution_count": 28,
   "metadata": {},
   "outputs": [],
   "source": [
    "#Status include it  (most of the malicious candidates are correctly attributes)"
   ]
  },
  {
   "cell_type": "code",
   "execution_count": null,
   "metadata": {},
   "outputs": [],
   "source": []
  },
  {
   "cell_type": "code",
   "execution_count": 29,
   "metadata": {},
   "outputs": [
    {
     "data": {
      "text/plain": [
       "count    2142.000000\n",
       "mean      215.224090\n",
       "std        90.402299\n",
       "min         1.000000\n",
       "25%       150.000000\n",
       "50%       209.000000\n",
       "75%       300.000000\n",
       "max       300.000000\n",
       "Name: Anchor Tag, dtype: float64"
      ]
     },
     "execution_count": 29,
     "metadata": {},
     "output_type": "execute_result"
    }
   ],
   "source": [
    "data['Anchor Tag'].describe()"
   ]
  },
  {
   "cell_type": "code",
   "execution_count": 30,
   "metadata": {},
   "outputs": [
    {
     "data": {
      "text/html": [
       "<div>\n",
       "<style scoped>\n",
       "    .dataframe tbody tr th:only-of-type {\n",
       "        vertical-align: middle;\n",
       "    }\n",
       "\n",
       "    .dataframe tbody tr th {\n",
       "        vertical-align: top;\n",
       "    }\n",
       "\n",
       "    .dataframe thead th {\n",
       "        text-align: right;\n",
       "    }\n",
       "</style>\n",
       "<table border=\"1\" class=\"dataframe\">\n",
       "  <thead>\n",
       "    <tr style=\"text-align: right;\">\n",
       "      <th></th>\n",
       "      <th>count</th>\n",
       "      <th>mean</th>\n",
       "      <th>std</th>\n",
       "      <th>min</th>\n",
       "      <th>25%</th>\n",
       "      <th>50%</th>\n",
       "      <th>75%</th>\n",
       "      <th>max</th>\n",
       "    </tr>\n",
       "    <tr>\n",
       "      <th>Phishing</th>\n",
       "      <th></th>\n",
       "      <th></th>\n",
       "      <th></th>\n",
       "      <th></th>\n",
       "      <th></th>\n",
       "      <th></th>\n",
       "      <th></th>\n",
       "      <th></th>\n",
       "    </tr>\n",
       "  </thead>\n",
       "  <tbody>\n",
       "    <tr>\n",
       "      <th>no</th>\n",
       "      <td>1080.0</td>\n",
       "      <td>162.807407</td>\n",
       "      <td>65.450715</td>\n",
       "      <td>1.0</td>\n",
       "      <td>150.0</td>\n",
       "      <td>179.5</td>\n",
       "      <td>200.0</td>\n",
       "      <td>300.0</td>\n",
       "    </tr>\n",
       "    <tr>\n",
       "      <th>yes</th>\n",
       "      <td>1062.0</td>\n",
       "      <td>268.529190</td>\n",
       "      <td>80.586660</td>\n",
       "      <td>1.0</td>\n",
       "      <td>300.0</td>\n",
       "      <td>300.0</td>\n",
       "      <td>300.0</td>\n",
       "      <td>300.0</td>\n",
       "    </tr>\n",
       "  </tbody>\n",
       "</table>\n",
       "</div>"
      ],
      "text/plain": [
       "           count        mean        std  min    25%    50%    75%    max\n",
       "Phishing                                                                \n",
       "no        1080.0  162.807407  65.450715  1.0  150.0  179.5  200.0  300.0\n",
       "yes       1062.0  268.529190  80.586660  1.0  300.0  300.0  300.0  300.0"
      ]
     },
     "execution_count": 30,
     "metadata": {},
     "output_type": "execute_result"
    }
   ],
   "source": [
    "data['Anchor Tag'].groupby(data['Phishing']).describe()"
   ]
  },
  {
   "cell_type": "code",
   "execution_count": 31,
   "metadata": {},
   "outputs": [],
   "source": [
    "numerical_features.append('Anchor Tag')"
   ]
  },
  {
   "cell_type": "markdown",
   "metadata": {},
   "source": [
    "Observation: As Anchor tag feature reach higher values the site tends to be Phishing"
   ]
  },
  {
   "cell_type": "code",
   "execution_count": 33,
   "metadata": {},
   "outputs": [],
   "source": [
    "#Status:  Definitely Include (seams to be important feature upon initial analysis)"
   ]
  },
  {
   "cell_type": "code",
   "execution_count": null,
   "metadata": {},
   "outputs": [],
   "source": []
  },
  {
   "cell_type": "code",
   "execution_count": 34,
   "metadata": {},
   "outputs": [
    {
     "data": {
      "text/plain": [
       "1    1092\n",
       "0    1050\n",
       "Name: Forms, dtype: int64"
      ]
     },
     "execution_count": 34,
     "metadata": {},
     "output_type": "execute_result"
    }
   ],
   "source": [
    "data['Forms'].value_counts()"
   ]
  },
  {
   "cell_type": "code",
   "execution_count": 35,
   "metadata": {},
   "outputs": [],
   "source": [
    "# 0: Data about forms not fetched\n",
    "# 1: Data about forms fetched"
   ]
  },
  {
   "cell_type": "code",
   "execution_count": 36,
   "metadata": {},
   "outputs": [
    {
     "data": {
      "text/plain": [
       "<matplotlib.axes._subplots.AxesSubplot at 0x26022e12240>"
      ]
     },
     "execution_count": 36,
     "metadata": {},
     "output_type": "execute_result"
    },
    {
     "data": {
      "image/png": "[encoded data removed]",
      "text/plain": [
       "<Figure size 432x288 with 1 Axes>"
      ]
     },
     "metadata": {
      "needs_background": "light"
     },
     "output_type": "display_data"
    }
   ],
   "source": [
    "sns.countplot(x=\"Forms\", hue=\"Phishing\", data=data)"
   ]
  },
  {
   "cell_type": "markdown",
   "metadata": {},
   "source": [
    "GREAT FEATURE!\n",
    "Most of the safe candidates and malicious candidates are classified correctly"
   ]
  },
  {
   "cell_type": "code",
   "execution_count": 37,
   "metadata": {},
   "outputs": [],
   "source": [
    "# Status: Definitely Include (Important parameter)"
   ]
  },
  {
   "cell_type": "code",
   "execution_count": null,
   "metadata": {},
   "outputs": [],
   "source": []
  },
  {
   "cell_type": "code",
   "execution_count": 38,
   "metadata": {},
   "outputs": [
    {
     "data": {
      "text/html": [
       "<div>\n",
       "<style scoped>\n",
       "    .dataframe tbody tr th:only-of-type {\n",
       "        vertical-align: middle;\n",
       "    }\n",
       "\n",
       "    .dataframe tbody tr th {\n",
       "        vertical-align: top;\n",
       "    }\n",
       "\n",
       "    .dataframe thead th {\n",
       "        text-align: right;\n",
       "    }\n",
       "</style>\n",
       "<table border=\"1\" class=\"dataframe\">\n",
       "  <thead>\n",
       "    <tr style=\"text-align: right;\">\n",
       "      <th></th>\n",
       "      <th>count</th>\n",
       "      <th>mean</th>\n",
       "      <th>std</th>\n",
       "      <th>min</th>\n",
       "      <th>25%</th>\n",
       "      <th>50%</th>\n",
       "      <th>75%</th>\n",
       "      <th>max</th>\n",
       "    </tr>\n",
       "    <tr>\n",
       "      <th>Phishing</th>\n",
       "      <th></th>\n",
       "      <th></th>\n",
       "      <th></th>\n",
       "      <th></th>\n",
       "      <th></th>\n",
       "      <th></th>\n",
       "      <th></th>\n",
       "      <th></th>\n",
       "    </tr>\n",
       "  </thead>\n",
       "  <tbody>\n",
       "    <tr>\n",
       "      <th>no</th>\n",
       "      <td>1080.0</td>\n",
       "      <td>260.979630</td>\n",
       "      <td>209.460606</td>\n",
       "      <td>8.0</td>\n",
       "      <td>92.75</td>\n",
       "      <td>249.0</td>\n",
       "      <td>326.00</td>\n",
       "      <td>2501.0</td>\n",
       "    </tr>\n",
       "    <tr>\n",
       "      <th>yes</th>\n",
       "      <td>1062.0</td>\n",
       "      <td>185.770245</td>\n",
       "      <td>610.484474</td>\n",
       "      <td>11.0</td>\n",
       "      <td>69.00</td>\n",
       "      <td>69.0</td>\n",
       "      <td>84.75</td>\n",
       "      <td>9803.0</td>\n",
       "    </tr>\n",
       "  </tbody>\n",
       "</table>\n",
       "</div>"
      ],
      "text/plain": [
       "           count        mean         std   min    25%    50%     75%     max\n",
       "Phishing                                                                    \n",
       "no        1080.0  260.979630  209.460606   8.0  92.75  249.0  326.00  2501.0\n",
       "yes       1062.0  185.770245  610.484474  11.0  69.00   69.0   84.75  9803.0"
      ]
     },
     "execution_count": 38,
     "metadata": {},
     "output_type": "execute_result"
    }
   ],
   "source": [
    "data['SSL Expiry Date'].groupby(data['Phishing']).describe()"
   ]
  },
  {
   "cell_type": "markdown",
   "metadata": {},
   "source": [
    "Mean Expiry Date for Phishing websites is slightly lower than that of safe websites. However, it would be too agressive to draw conclusions."
   ]
  },
  {
   "cell_type": "markdown",
   "metadata": {},
   "source": [
    "High Overlapping can be seen except the highly skewed values"
   ]
  },
  {
   "cell_type": "code",
   "execution_count": 40,
   "metadata": {},
   "outputs": [],
   "source": [
    "# Status : Let's keep it "
   ]
  },
  {
   "cell_type": "code",
   "execution_count": 41,
   "metadata": {},
   "outputs": [],
   "source": [
    "numerical_features.append('SSL Expiry Date')"
   ]
  },
  {
   "cell_type": "code",
   "execution_count": null,
   "metadata": {},
   "outputs": [],
   "source": []
  },
  {
   "cell_type": "code",
   "execution_count": 42,
   "metadata": {},
   "outputs": [
    {
     "data": {
      "text/plain": [
       " 0    1226\n",
       "-1     704\n",
       " 1     212\n",
       "Name: SSL Cert Check, dtype: int64"
      ]
     },
     "execution_count": 42,
     "metadata": {},
     "output_type": "execute_result"
    }
   ],
   "source": [
    "data['SSL Cert Check'].value_counts()"
   ]
  },
  {
   "cell_type": "code",
   "execution_count": 43,
   "metadata": {},
   "outputs": [
    {
     "data": {
      "text/plain": [
       "<matplotlib.axes._subplots.AxesSubplot at 0x2602301f278>"
      ]
     },
     "execution_count": 43,
     "metadata": {},
     "output_type": "execute_result"
    },
    {
     "data": {
      "image/png": "[encoded data removed]",
      "text/plain": [
       "<Figure size 432x288 with 1 Axes>"
      ]
     },
     "metadata": {
      "needs_background": "light"
     },
     "output_type": "display_data"
    }
   ],
   "source": [
    "sns.countplot(x='SSL Cert Check', hue='Phishing', data=data)"
   ]
  },
  {
   "cell_type": "code",
   "execution_count": 44,
   "metadata": {},
   "outputs": [],
   "source": [
    "#Status : Keep it"
   ]
  },
  {
   "cell_type": "code",
   "execution_count": null,
   "metadata": {},
   "outputs": [],
   "source": []
  },
  {
   "cell_type": "code",
   "execution_count": 45,
   "metadata": {},
   "outputs": [
    {
     "data": {
      "text/html": [
       "<div>\n",
       "<style scoped>\n",
       "    .dataframe tbody tr th:only-of-type {\n",
       "        vertical-align: middle;\n",
       "    }\n",
       "\n",
       "    .dataframe tbody tr th {\n",
       "        vertical-align: top;\n",
       "    }\n",
       "\n",
       "    .dataframe thead th {\n",
       "        text-align: right;\n",
       "    }\n",
       "</style>\n",
       "<table border=\"1\" class=\"dataframe\">\n",
       "  <thead>\n",
       "    <tr style=\"text-align: right;\">\n",
       "      <th></th>\n",
       "      <th>count</th>\n",
       "      <th>mean</th>\n",
       "      <th>std</th>\n",
       "      <th>min</th>\n",
       "      <th>25%</th>\n",
       "      <th>50%</th>\n",
       "      <th>75%</th>\n",
       "      <th>max</th>\n",
       "    </tr>\n",
       "    <tr>\n",
       "      <th>Phishing</th>\n",
       "      <th></th>\n",
       "      <th></th>\n",
       "      <th></th>\n",
       "      <th></th>\n",
       "      <th></th>\n",
       "      <th></th>\n",
       "      <th></th>\n",
       "      <th></th>\n",
       "    </tr>\n",
       "  </thead>\n",
       "  <tbody>\n",
       "    <tr>\n",
       "      <th>no</th>\n",
       "      <td>1080.0</td>\n",
       "      <td>6.350705e+05</td>\n",
       "      <td>2.290722e+06</td>\n",
       "      <td>1.0</td>\n",
       "      <td>599.5</td>\n",
       "      <td>7500.0</td>\n",
       "      <td>134548.0</td>\n",
       "      <td>19171314.0</td>\n",
       "    </tr>\n",
       "    <tr>\n",
       "      <th>yes</th>\n",
       "      <td>1062.0</td>\n",
       "      <td>1.526323e+06</td>\n",
       "      <td>3.687241e+06</td>\n",
       "      <td>1482.0</td>\n",
       "      <td>538000.0</td>\n",
       "      <td>538000.0</td>\n",
       "      <td>538000.0</td>\n",
       "      <td>19996840.0</td>\n",
       "    </tr>\n",
       "  </tbody>\n",
       "</table>\n",
       "</div>"
      ],
      "text/plain": [
       "           count          mean           std     min       25%       50%  \\\n",
       "Phishing                                                                   \n",
       "no        1080.0  6.350705e+05  2.290722e+06     1.0     599.5    7500.0   \n",
       "yes       1062.0  1.526323e+06  3.687241e+06  1482.0  538000.0  538000.0   \n",
       "\n",
       "               75%         max  \n",
       "Phishing                        \n",
       "no        134548.0  19171314.0  \n",
       "yes       538000.0  19996840.0  "
      ]
     },
     "execution_count": 45,
     "metadata": {},
     "output_type": "execute_result"
    }
   ],
   "source": [
    "data['Alexa Ranking'].groupby(data['Phishing']).describe()"
   ]
  },
  {
   "cell_type": "code",
   "execution_count": 47,
   "metadata": {},
   "outputs": [],
   "source": [
    "numerical_features.append('Alexa Ranking')"
   ]
  },
  {
   "cell_type": "code",
   "execution_count": 48,
   "metadata": {},
   "outputs": [],
   "source": [
    "#Status: keep it"
   ]
  },
  {
   "cell_type": "code",
   "execution_count": null,
   "metadata": {},
   "outputs": [],
   "source": []
  },
  {
   "cell_type": "code",
   "execution_count": 49,
   "metadata": {},
   "outputs": [],
   "source": [
    "numerical_features.append('URL Length')"
   ]
  },
  {
   "cell_type": "code",
   "execution_count": 50,
   "metadata": {},
   "outputs": [
    {
     "data": {
      "text/plain": [
       "-1    2009\n",
       " 1     133\n",
       "Name: URL Shortened, dtype: int64"
      ]
     },
     "execution_count": 50,
     "metadata": {},
     "output_type": "execute_result"
    }
   ],
   "source": [
    "data['URL Shortened'].value_counts()"
   ]
  },
  {
   "cell_type": "code",
   "execution_count": 51,
   "metadata": {},
   "outputs": [
    {
     "data": {
      "text/plain": [
       "<matplotlib.axes._subplots.AxesSubplot at 0x260232294e0>"
      ]
     },
     "execution_count": 51,
     "metadata": {},
     "output_type": "execute_result"
    },
    {
     "data": {
      "image/png": "[encoded data removed]",
      "text/plain": [
       "<Figure size 432x288 with 1 Axes>"
      ]
     },
     "metadata": {
      "needs_background": "light"
     },
     "output_type": "display_data"
    }
   ],
   "source": [
    "sns.countplot(x=\"URL Shortened\", hue=\"Phishing\", data= data)"
   ]
  },
  {
   "cell_type": "code",
   "execution_count": 52,
   "metadata": {},
   "outputs": [],
   "source": [
    "# Not much information ; "
   ]
  },
  {
   "cell_type": "code",
   "execution_count": 53,
   "metadata": {},
   "outputs": [
    {
     "data": {
      "text/plain": [
       " 1    2126\n",
       "-1      16\n",
       "Name: Redirects User, dtype: int64"
      ]
     },
     "execution_count": 53,
     "metadata": {},
     "output_type": "execute_result"
    }
   ],
   "source": [
    "data['Redirects User'].value_counts()"
   ]
  },
  {
   "cell_type": "code",
   "execution_count": 54,
   "metadata": {},
   "outputs": [],
   "source": [
    "# Not enough distinction"
   ]
  },
  {
   "cell_type": "code",
   "execution_count": 55,
   "metadata": {},
   "outputs": [
    {
     "data": {
      "text/plain": [
       " 1    2124\n",
       "-1      18\n",
       "Name: URL has @ Symbol, dtype: int64"
      ]
     },
     "execution_count": 55,
     "metadata": {},
     "output_type": "execute_result"
    }
   ],
   "source": [
    "data['URL has @ Symbol'].value_counts()"
   ]
  },
  {
   "cell_type": "code",
   "execution_count": 56,
   "metadata": {},
   "outputs": [],
   "source": [
    "# Not enough distinction"
   ]
  },
  {
   "cell_type": "code",
   "execution_count": 57,
   "metadata": {},
   "outputs": [
    {
     "data": {
      "text/plain": [
       "-1    1560\n",
       " 1     582\n",
       "Name: URL has HTTPS, dtype: int64"
      ]
     },
     "execution_count": 57,
     "metadata": {},
     "output_type": "execute_result"
    }
   ],
   "source": [
    "data['URL has HTTPS'].value_counts()"
   ]
  },
  {
   "cell_type": "code",
   "execution_count": null,
   "metadata": {},
   "outputs": [],
   "source": []
  },
  {
   "cell_type": "code",
   "execution_count": 58,
   "metadata": {},
   "outputs": [
    {
     "data": {
      "text/plain": [
       "['Subdomains', 'Anchor Tag', 'SSL Expiry Date', 'Alexa Ranking', 'URL Length']"
      ]
     },
     "execution_count": 58,
     "metadata": {},
     "output_type": "execute_result"
    }
   ],
   "source": [
    "numerical_features"
   ]
  },
  {
   "cell_type": "code",
   "execution_count": 59,
   "metadata": {},
   "outputs": [],
   "source": [
    "pairs = numerical_features"
   ]
  },
  {
   "cell_type": "code",
   "execution_count": 60,
   "metadata": {},
   "outputs": [],
   "source": [
    "pairs.append('Phishing')"
   ]
  },
  {
   "cell_type": "code",
   "execution_count": null,
   "metadata": {},
   "outputs": [],
   "source": []
  },
  {
   "cell_type": "code",
   "execution_count": 64,
   "metadata": {},
   "outputs": [
    {
     "ename": "ValueError",
     "evalue": "list.remove(x): x not in list",
     "output_type": "error",
     "traceback": [
      "\u001b[1;31m---------------------------------------------------------------------------\u001b[0m",
      "\u001b[1;31mValueError\u001b[0m                                Traceback (most recent call last)",
      "\u001b[1;32m<ipython-input-64-727f24636176>\u001b[0m in \u001b[0;36m<module>\u001b[1;34m()\u001b[0m\n\u001b[1;32m----> 1\u001b[1;33m \u001b[0mnumerical_features\u001b[0m\u001b[1;33m.\u001b[0m\u001b[0mremove\u001b[0m\u001b[1;33m(\u001b[0m\u001b[1;34m\"Phishing\"\u001b[0m\u001b[1;33m)\u001b[0m\u001b[1;33m\u001b[0m\u001b[0m\n\u001b[0m",
      "\u001b[1;31mValueError\u001b[0m: list.remove(x): x not in list"
     ]
    }
   ],
   "source": [
    "numerical_features.remove(\"Phishing\")"
   ]
  },
  {
   "cell_type": "code",
   "execution_count": null,
   "metadata": {},
   "outputs": [],
   "source": []
  },
  {
   "cell_type": "code",
   "execution_count": null,
   "metadata": {},
   "outputs": [],
   "source": []
  },
  {
   "cell_type": "code",
   "execution_count": null,
   "metadata": {},
   "outputs": [],
   "source": []
  },
  {
   "cell_type": "code",
   "execution_count": 66,
   "metadata": {},
   "outputs": [
    {
     "data": {
      "text/plain": [
       "Index(['URL', 'embedded_domain_in_path', 'ip_address', 'dictionary_word',\n",
       "       'targeted_brand', 'ext url', 'Phishing', 'Subdomains', 'Prefix-Suffix',\n",
       "       'Anchor Tag', 'Forms', 'SSL Expiry Date', 'SSL Cert Check',\n",
       "       'Alexa Ranking', 'URL Length', 'URL Shortened', 'Redirects User',\n",
       "       'URL has @ Symbol', 'URL has HTTPS'],\n",
       "      dtype='object')"
      ]
     },
     "execution_count": 66,
     "metadata": {},
     "output_type": "execute_result"
    }
   ],
   "source": [
    "data.columns"
   ]
  },
  {
   "cell_type": "code",
   "execution_count": 67,
   "metadata": {},
   "outputs": [],
   "source": [
    "model = TSNE(n_components=2, random_state=0)"
   ]
  },
  {
   "cell_type": "code",
   "execution_count": 68,
   "metadata": {},
   "outputs": [],
   "source": [
    "X = data.drop(['Phishing','URL'],axis=1)"
   ]
  },
  {
   "cell_type": "code",
   "execution_count": 69,
   "metadata": {},
   "outputs": [],
   "source": [
    "data['Phishing'].replace('yes','1',inplace=True)"
   ]
  },
  {
   "cell_type": "code",
   "execution_count": 70,
   "metadata": {},
   "outputs": [],
   "source": [
    "data['Phishing'].replace('no','0',inplace=True)"
   ]
  },
  {
   "cell_type": "code",
   "execution_count": 71,
   "metadata": {},
   "outputs": [],
   "source": [
    "\n",
    "y = data['Phishing']"
   ]
  },
  {
   "cell_type": "code",
   "execution_count": null,
   "metadata": {},
   "outputs": [],
   "source": [
    "\n",
    "\n",
    "tsne_data = model.fit_transform(X)"
   ]
  },
  {
   "cell_type": "code",
   "execution_count": null,
   "metadata": {},
   "outputs": [],
   "source": [
    "tsne_data = np.vstack((tsne_data.T, y)).T"
   ]
  },
  {
   "cell_type": "code",
   "execution_count": 148,
   "metadata": {},
   "outputs": [
    {
     "data": {
      "text/plain": [
       "array([[-18.12958526611328, -27.14824676513672, '1'],\n",
       "       [-45.64045715332031, -23.952043533325195, '0'],\n",
       "       [22.156965255737305, 38.51922607421875, '1'],\n",
       "       ...,\n",
       "       [36.304779052734375, 20.637802124023438, '0'],\n",
       "       [37.55514144897461, 21.1378173828125, '0'],\n",
       "       [70.81363677978516, -1.3471229076385498, '1']], dtype=object)"
      ]
     },
     "execution_count": 148,
     "metadata": {},
     "output_type": "execute_result"
    }
   ],
   "source": [
    "tsne_data"
   ]
  },
  {
   "cell_type": "code",
   "execution_count": 149,
   "metadata": {},
   "outputs": [
    {
     "data": {
      "text/plain": [
       "2142"
      ]
     },
     "execution_count": 149,
     "metadata": {},
     "output_type": "execute_result"
    }
   ],
   "source": [
    "len(tsne_data)"
   ]
  },
  {
   "cell_type": "code",
   "execution_count": 150,
   "metadata": {},
   "outputs": [
    {
     "data": {
      "text/html": [
       "<div>\n",
       "<style scoped>\n",
       "    .dataframe tbody tr th:only-of-type {\n",
       "        vertical-align: middle;\n",
       "    }\n",
       "\n",
       "    .dataframe tbody tr th {\n",
       "        vertical-align: top;\n",
       "    }\n",
       "\n",
       "    .dataframe thead th {\n",
       "        text-align: right;\n",
       "    }\n",
       "</style>\n",
       "<table border=\"1\" class=\"dataframe\">\n",
       "  <thead>\n",
       "    <tr style=\"text-align: right;\">\n",
       "      <th></th>\n",
       "      <th>Dim_1</th>\n",
       "      <th>Dim_2</th>\n",
       "      <th>label</th>\n",
       "    </tr>\n",
       "  </thead>\n",
       "  <tbody>\n",
       "    <tr>\n",
       "      <th>0</th>\n",
       "      <td>-18.1296</td>\n",
       "      <td>-27.1482</td>\n",
       "      <td>1</td>\n",
       "    </tr>\n",
       "    <tr>\n",
       "      <th>1</th>\n",
       "      <td>-45.6405</td>\n",
       "      <td>-23.952</td>\n",
       "      <td>0</td>\n",
       "    </tr>\n",
       "    <tr>\n",
       "      <th>2</th>\n",
       "      <td>22.157</td>\n",
       "      <td>38.5192</td>\n",
       "      <td>1</td>\n",
       "    </tr>\n",
       "    <tr>\n",
       "      <th>3</th>\n",
       "      <td>25.8022</td>\n",
       "      <td>19.3927</td>\n",
       "      <td>0</td>\n",
       "    </tr>\n",
       "    <tr>\n",
       "      <th>4</th>\n",
       "      <td>-14.8906</td>\n",
       "      <td>-4.23886</td>\n",
       "      <td>1</td>\n",
       "    </tr>\n",
       "  </tbody>\n",
       "</table>\n",
       "</div>"
      ],
      "text/plain": [
       "     Dim_1    Dim_2 label\n",
       "0 -18.1296 -27.1482     1\n",
       "1 -45.6405  -23.952     0\n",
       "2   22.157  38.5192     1\n",
       "3  25.8022  19.3927     0\n",
       "4 -14.8906 -4.23886     1"
      ]
     },
     "execution_count": 150,
     "metadata": {},
     "output_type": "execute_result"
    }
   ],
   "source": [
    "tsne_df = pd.DataFrame(data=tsne_data, columns=(\"Dim_1\", \"Dim_2\", \"label\"))\n",
    "tsne_df.head()"
   ]
  },
  {
   "cell_type": "code",
   "execution_count": 151,
   "metadata": {},
   "outputs": [
    {
     "data": {
      "image/png": "[encoded data removed]",
      "text/plain": [
       "<Figure size 474.375x432 with 1 Axes>"
      ]
     },
     "metadata": {
      "needs_background": "light"
     },
     "output_type": "display_data"
    }
   ],
   "source": [
    "sns.FacetGrid(tsne_df, hue=\"label\", height=6).map(plt.scatter, 'Dim_1', 'Dim_2').add_legend()\n",
    "plt.show()"
   ]
  },
  {
   "cell_type": "markdown",
   "metadata": {},
   "source": [
    "# Observations\n",
    "\n",
    "- T-SNE plot has made some well defined clusters\n",
    "- Generally the central area is covered by label - 1 i.e. Phishing websites while, label-0 or safe website have some clusters around the edges\n",
    "- Algorithms like K-NN might work wonders on this dataset ; Forest techniques and ensemble learning looks promising as well.\n",
    "- Overfitting may ruin the model as this application of detecting malicious websites will observe so much unseen data once productionized"
   ]
  },
  {
   "cell_type": "code",
   "execution_count": null,
   "metadata": {},
   "outputs": [],
   "source": []
  },
  {
   "cell_type": "code",
   "execution_count": null,
   "metadata": {},
   "outputs": [],
   "source": []
  },
  {
   "cell_type": "code",
   "execution_count": null,
   "metadata": {},
   "outputs": [],
   "source": []
  },
  {
   "cell_type": "code",
   "execution_count": null,
   "metadata": {},
   "outputs": [],
   "source": []
  },
  {
   "cell_type": "code",
   "execution_count": 72,
   "metadata": {},
   "outputs": [],
   "source": [
    "from sklearn.neighbors import KNeighborsClassifier\n",
    "from sklearn.model_selection import train_test_split\n",
    "from sklearn.model_selection import cross_val_score\n",
    "from sklearn.metrics import accuracy_score"
   ]
  },
  {
   "cell_type": "code",
   "execution_count": 73,
   "metadata": {},
   "outputs": [],
   "source": [
    "X_train, X_test, y_train, y_test = train_test_split(X, y, test_size=0.3, random_state=0)"
   ]
  },
  {
   "cell_type": "code",
   "execution_count": 74,
   "metadata": {},
   "outputs": [
    {
     "data": {
      "text/plain": [
       "(1499, 17)"
      ]
     },
     "execution_count": 74,
     "metadata": {},
     "output_type": "execute_result"
    }
   ],
   "source": [
    "X_train.shape"
   ]
  },
  {
   "cell_type": "code",
   "execution_count": null,
   "metadata": {},
   "outputs": [],
   "source": []
  },
  {
   "cell_type": "code",
   "execution_count": 75,
   "metadata": {},
   "outputs": [],
   "source": [
    "neighbors = list(range(1,50,2))"
   ]
  },
  {
   "cell_type": "code",
   "execution_count": 76,
   "metadata": {},
   "outputs": [],
   "source": [
    "cv_scores=[]\n",
    "for k in neighbors:\n",
    "    knn = KNeighborsClassifier(n_neighbors=k)\n",
    "    scores = cross_val_score(knn, X_train, y_train, scoring='accuracy', cv=10)\n",
    "    cv_scores.append(scores.mean())"
   ]
  },
  {
   "cell_type": "code",
   "execution_count": null,
   "metadata": {},
   "outputs": [],
   "source": [
    "\n"
   ]
  },
  {
   "cell_type": "code",
   "execution_count": 77,
   "metadata": {},
   "outputs": [
    {
     "name": "stdout",
     "output_type": "stream",
     "text": [
      "CV_SCORES:  [0.9533670533505194, 0.9466601182274766, 0.9499713172437294, 0.9412776271537993, 0.9439310487873535, 0.9426066047379884, 0.9352818051172644, 0.9345973006207682, 0.9286015971080197, 0.9212412996133162, 0.9159299228113842, 0.9139254485384537, 0.909916381468806, 0.9065606767708194, 0.9045739218039319, 0.8965736254944664, 0.8959336266797043, 0.8972581299909625, 0.8972270471280204, 0.9012583077766421, 0.9059384565239936, 0.9046050639287673, 0.9059296265019187, 0.9019250337052018, 0.9019206186941642]\n"
     ]
    },
    {
     "data": {
      "image/png": "[encoded data removed]",
      "text/plain": [
       "<Figure size 432x288 with 1 Axes>"
      ]
     },
     "metadata": {
      "needs_background": "light"
     },
     "output_type": "display_data"
    }
   ],
   "source": [
    "plt.plot(neighbors, cv_scores)\n",
    "for xy in zip(neighbors,np.round(cv_scores,2)):\n",
    "    plt.annotate(\"('%s',%s)\"% xy, xy=xy, textcoords='data')\n",
    "plt.xlabel('Number of Neighbors K')\n",
    "plt.ylabel('CV_Scores')\n",
    "print(\"CV_SCORES: \",cv_scores)"
   ]
  },
  {
   "cell_type": "code",
   "execution_count": 78,
   "metadata": {},
   "outputs": [
    {
     "name": "stdout",
     "output_type": "stream",
     "text": [
      "(1, 0.95)\n",
      "(3, 0.95)\n",
      "(5, 0.95)\n",
      "(7, 0.94)\n",
      "(9, 0.94)\n",
      "(11, 0.94)\n",
      "(13, 0.94)\n",
      "(15, 0.93)\n",
      "(17, 0.93)\n",
      "(19, 0.92)\n",
      "(21, 0.92)\n",
      "(23, 0.91)\n",
      "(25, 0.91)\n",
      "(27, 0.91)\n",
      "(29, 0.9)\n",
      "(31, 0.9)\n",
      "(33, 0.9)\n",
      "(35, 0.9)\n",
      "(37, 0.9)\n",
      "(39, 0.9)\n",
      "(41, 0.91)\n",
      "(43, 0.9)\n",
      "(45, 0.91)\n",
      "(47, 0.9)\n",
      "(49, 0.9)\n"
     ]
    }
   ],
   "source": [
    "for xy in zip(neighbors,np.round(cv_scores,2)):\n",
    "    print(xy)"
   ]
  },
  {
   "cell_type": "code",
   "execution_count": 79,
   "metadata": {},
   "outputs": [],
   "source": [
    "optimal_k = 5"
   ]
  },
  {
   "cell_type": "code",
   "execution_count": 80,
   "metadata": {},
   "outputs": [
    {
     "name": "stdout",
     "output_type": "stream",
     "text": [
      "\n",
      "The accuracy of the knn classifier for k = 5 is 94.867807%\n"
     ]
    }
   ],
   "source": [
    "# ============================== KNN with k = optimal_k ===============================================\n",
    "# instantiate learning model k = optimal_k\n",
    "knn_optimal = KNeighborsClassifier(n_neighbors=optimal_k, algorithm='kd_tree')\n",
    "\n",
    "# fitting the model\n",
    "knn_optimal.fit(X_train, y_train)\n",
    "\n",
    "# predict the response\n",
    "\n",
    "pred = knn_optimal.predict(X_test)\n",
    "\n",
    "# evaluate accuracy\n",
    "acc = accuracy_score(y_test, pred) * 100\n",
    "print('\\nThe accuracy of the knn classifier for k = %d is %f%%' % (optimal_k, acc))"
   ]
  },
  {
   "cell_type": "code",
   "execution_count": 81,
   "metadata": {},
   "outputs": [],
   "source": [
    "from sklearn.metrics import confusion_matrix"
   ]
  },
  {
   "cell_type": "code",
   "execution_count": null,
   "metadata": {},
   "outputs": [],
   "source": []
  },
  {
   "cell_type": "code",
   "execution_count": 82,
   "metadata": {},
   "outputs": [
    {
     "data": {
      "text/plain": [
       "array([[321,  14],\n",
       "       [ 19, 289]], dtype=int64)"
      ]
     },
     "execution_count": 82,
     "metadata": {},
     "output_type": "execute_result"
    }
   ],
   "source": [
    "confusion_matrix(y_test,pred)"
   ]
  },
  {
   "cell_type": "code",
   "execution_count": 83,
   "metadata": {},
   "outputs": [],
   "source": [
    "conf_matrix = confusion_matrix(y_test,pred)"
   ]
  },
  {
   "cell_type": "code",
   "execution_count": null,
   "metadata": {},
   "outputs": [],
   "source": []
  },
  {
   "cell_type": "code",
   "execution_count": 84,
   "metadata": {},
   "outputs": [],
   "source": [
    "tn, fp, fn, tp = conf_matrix.ravel()\n",
    "tpr = tp/(tp+fn)\n",
    "tnr = tn/(tn+fp)\n",
    "fpr = fp/(fp+tn)\n",
    "fnr = fn/(fn+tp)"
   ]
  },
  {
   "cell_type": "code",
   "execution_count": 85,
   "metadata": {},
   "outputs": [
    {
     "name": "stdout",
     "output_type": "stream",
     "text": [
      "93.83116883116884\n",
      "95.82089552238806\n",
      "4.179104477611941\n",
      "6.1688311688311686\n",
      "Precision:95.37953795379538\n",
      "Recall:93.83116883116884\n"
     ]
    }
   ],
   "source": [
    "print(tpr*100)\n",
    "print(tnr*100)\n",
    "print(fpr*100)\n",
    "print(fnr*100)\n",
    "print(\"Precision:\"+str(tp*100/(tp+fp)))\n",
    "print(\"Recall:\"+str(tpr*100))"
   ]
  },
  {
   "cell_type": "code",
   "execution_count": null,
   "metadata": {},
   "outputs": [],
   "source": []
  },
  {
   "cell_type": "code",
   "execution_count": null,
   "metadata": {},
   "outputs": [],
   "source": []
  },
  {
   "cell_type": "code",
   "execution_count": null,
   "metadata": {},
   "outputs": [],
   "source": []
  },
  {
   "cell_type": "code",
   "execution_count": 86,
   "metadata": {},
   "outputs": [
    {
     "data": {
      "text/plain": [
       "<matplotlib.axes._subplots.AxesSubplot at 0x260257d1f60>"
      ]
     },
     "execution_count": 86,
     "metadata": {},
     "output_type": "execute_result"
    },
    {
     "data": {
      "image/png": "[encoded data removed]",
      "text/plain": [
       "<Figure size 432x288 with 2 Axes>"
      ]
     },
     "metadata": {
      "needs_background": "light"
     },
     "output_type": "display_data"
    }
   ],
   "source": [
    "sns.heatmap(conf_matrix,annot=True, cmap='viridis', fmt='g')"
   ]
  },
  {
   "cell_type": "code",
   "execution_count": 87,
   "metadata": {},
   "outputs": [
    {
     "name": "stdout",
     "output_type": "stream",
     "text": [
      "Iteration 10 Complete [Time Taken For Last Iteration: 4.02 Seconds]\n",
      "Iteration 20 Complete [Time Taken For Last Iteration: 3.65 Seconds]\n",
      "Iteration 30 Complete [Time Taken For Last Iteration: 3.94 Seconds]\n",
      "Iteration 40 Complete [Time Taken For Last Iteration: 3.91 Seconds]\n",
      "Iteration 50 Complete [Time Taken For Last Iteration: 3.95 Seconds]\n",
      "Iteration 60 Complete [Time Taken For Last Iteration: 3.99 Seconds]\n",
      "Iteration 70 Complete [Time Taken For Last Iteration: 3.92 Seconds]\n",
      "Iteration 80 Complete [Time Taken For Last Iteration: 3.97 Seconds]\n",
      "Iteration 90 Complete [Time Taken For Last Iteration: 3.93 Seconds]\n",
      "Iteration 100 Complete [Time Taken For Last Iteration: 3.88 Seconds]\n"
     ]
    },
    {
     "data": {
      "image/png": "[encoded data removed]",
      "text/plain": [
       "<Figure size 432x288 with 1 Axes>"
      ]
     },
     "metadata": {
      "needs_background": "light"
     },
     "output_type": "display_data"
    }
   ],
   "source": [
    "from geneticfs import GeneticFS\n",
    "\n",
    "gen_model = KNeighborsClassifier(n_neighbors=optimal_k, algorithm='kd_tree')\n",
    "gfs = GeneticFS()\n",
    "\n",
    "# fit the optimizer\n",
    "gfs.fit(model=gen_model, _type='classification', X=X, y=y) # classification model\n",
    "\n",
    "# get results output\n",
    "binary_output_of_optimal_variables, indicies_of_optimal_variables = gfs.results()\n",
    "\n",
    "# plot results of progress\n",
    "gfs.plot_progress()"
   ]
  },
  {
   "cell_type": "code",
   "execution_count": 88,
   "metadata": {},
   "outputs": [
    {
     "data": {
      "text/plain": [
       "array([0, 1, 0, 1, 0, 0, 0, 1, 1, 1, 1, 0, 0, 0, 1, 0, 1])"
      ]
     },
     "execution_count": 88,
     "metadata": {},
     "output_type": "execute_result"
    }
   ],
   "source": [
    "binary_output_of_optimal_variables"
   ]
  },
  {
   "cell_type": "code",
   "execution_count": 89,
   "metadata": {},
   "outputs": [
    {
     "data": {
      "text/plain": [
       "[1, 3, 7, 8, 9, 10, 14, 16]"
      ]
     },
     "execution_count": 89,
     "metadata": {},
     "output_type": "execute_result"
    }
   ],
   "source": [
    "indicies_of_optimal_variables"
   ]
  },
  {
   "cell_type": "code",
   "execution_count": 90,
   "metadata": {},
   "outputs": [
    {
     "data": {
      "text/plain": [
       "Index(['ip_address', 'targeted_brand', 'Anchor Tag', 'Forms',\n",
       "       'SSL Expiry Date', 'SSL Cert Check', 'Redirects User', 'URL has HTTPS'],\n",
       "      dtype='object')"
      ]
     },
     "execution_count": 90,
     "metadata": {},
     "output_type": "execute_result"
    }
   ],
   "source": [
    "X.columns[indicies_of_optimal_variables]"
   ]
  },
  {
   "cell_type": "code",
   "execution_count": null,
   "metadata": {},
   "outputs": [],
   "source": [
    "reduced_X = X['Subdomains', 'Anchor Tag', 'Forms', 'SSL Expiry Date','SSL Cert Check', 'Redirects User']"
   ]
  },
  {
   "cell_type": "code",
   "execution_count": 91,
   "metadata": {},
   "outputs": [],
   "source": [
    "reduced_X = X[X.columns[indicies_of_optimal_variables]]"
   ]
  },
  {
   "cell_type": "code",
   "execution_count": 95,
   "metadata": {},
   "outputs": [],
   "source": [
    "rX_train, rX_test, ry_train, ry_test = train_test_split(reduced_X, y, test_size=0.3, random_state=0)"
   ]
  },
  {
   "cell_type": "code",
   "execution_count": null,
   "metadata": {},
   "outputs": [],
   "source": []
  },
  {
   "cell_type": "code",
   "execution_count": 96,
   "metadata": {},
   "outputs": [
    {
     "name": "stdout",
     "output_type": "stream",
     "text": [
      "K : 1, Score : 0.969972\n",
      "K : 3, Score : 0.971990\n",
      "K : 5, Score : 0.963985\n",
      "K : 7, Score : 0.966599\n",
      "K : 9, Score : 0.967941\n",
      "K : 11, Score : 0.969279\n",
      "K : 13, Score : 0.967941\n",
      "K : 15, Score : 0.963261\n",
      "K : 17, Score : 0.959932\n",
      "K : 19, Score : 0.958607\n",
      "K : 21, Score : 0.956589\n",
      "K : 23, Score : 0.960616\n",
      "K : 25, Score : 0.958621\n",
      "K : 27, Score : 0.956643\n",
      "K : 29, Score : 0.953314\n",
      "K : 31, Score : 0.948625\n",
      "K : 33, Score : 0.941958\n",
      "K : 35, Score : 0.933295\n",
      "K : 37, Score : 0.931291\n",
      "K : 39, Score : 0.930637\n",
      "K : 41, Score : 0.928637\n",
      "K : 43, Score : 0.928655\n",
      "K : 45, Score : 0.931984\n",
      "K : 47, Score : 0.931317\n",
      "K : 49, Score : 0.929975\n"
     ]
    }
   ],
   "source": [
    "cv_scores=[]\n",
    "for k in neighbors:\n",
    "    knn = KNeighborsClassifier(n_neighbors=k)\n",
    "    scores = cross_val_score(knn, rX_train, ry_train, scoring='accuracy', cv=10)\n",
    "    print(\"K : %d, Score : %f\" % (k, scores.mean()))\n",
    "    cv_scores.append(scores.mean())"
   ]
  },
  {
   "cell_type": "code",
   "execution_count": 97,
   "metadata": {},
   "outputs": [],
   "source": [
    "optimal_k = 3"
   ]
  },
  {
   "cell_type": "code",
   "execution_count": 98,
   "metadata": {},
   "outputs": [
    {
     "name": "stdout",
     "output_type": "stream",
     "text": [
      "\n",
      "The accuracy of the knn classifier for k = 3 is 97.356143%\n"
     ]
    }
   ],
   "source": [
    "# ============================== KNN with k = optimal_k ===============================================\n",
    "# instantiate learning model k = optimal_k\n",
    "knn_optimal = KNeighborsClassifier(n_neighbors=optimal_k, algorithm='kd_tree')\n",
    "\n",
    "# fitting the model\n",
    "knn_optimal.fit(rX_train, ry_train)\n",
    "\n",
    "# predict the response\n",
    "pred = knn_optimal.predict(rX_test)\n",
    "\n",
    "# evaluate accuracy\n",
    "acc = accuracy_score(ry_test, pred) * 100\n",
    "print('\\nThe accuracy of the knn classifier for k = %d is %f%%' % (optimal_k, acc))"
   ]
  },
  {
   "cell_type": "code",
   "execution_count": 99,
   "metadata": {},
   "outputs": [
    {
     "data": {
      "text/plain": [
       "<matplotlib.axes._subplots.AxesSubplot at 0x26025307668>"
      ]
     },
     "execution_count": 99,
     "metadata": {},
     "output_type": "execute_result"
    },
    {
     "data": {
      "image/png": "[encoded data removed]",
      "text/plain": [
       "<Figure size 432x288 with 2 Axes>"
      ]
     },
     "metadata": {
      "needs_background": "light"
     },
     "output_type": "display_data"
    }
   ],
   "source": [
    "sns.heatmap(confusion_matrix(ry_test,pred), annot = True, cmap='viridis', fmt='g')"
   ]
  },
  {
   "cell_type": "code",
   "execution_count": 100,
   "metadata": {},
   "outputs": [],
   "source": [
    "cnf_matrix = confusion_matrix(ry_test,pred)"
   ]
  },
  {
   "cell_type": "code",
   "execution_count": null,
   "metadata": {},
   "outputs": [],
   "source": []
  },
  {
   "cell_type": "code",
   "execution_count": 101,
   "metadata": {},
   "outputs": [],
   "source": [
    "tn, fp, fn, tp = cnf_matrix.ravel()\n",
    "tpr = tp/(tp+fn)\n",
    "tnr = tn/(tn+fp)\n",
    "fpr = fp/(fp+tn)\n",
    "fnr = fn/(fn+tp)"
   ]
  },
  {
   "cell_type": "code",
   "execution_count": 102,
   "metadata": {},
   "outputs": [
    {
     "data": {
      "text/plain": [
       "97.40259740259741"
      ]
     },
     "execution_count": 102,
     "metadata": {},
     "output_type": "execute_result"
    }
   ],
   "source": [
    "\n",
    "tpr*100"
   ]
  },
  {
   "cell_type": "code",
   "execution_count": 103,
   "metadata": {},
   "outputs": [
    {
     "data": {
      "text/plain": [
       "97.31343283582089"
      ]
     },
     "execution_count": 103,
     "metadata": {},
     "output_type": "execute_result"
    }
   ],
   "source": [
    "tnr*100"
   ]
  },
  {
   "cell_type": "code",
   "execution_count": 104,
   "metadata": {},
   "outputs": [
    {
     "data": {
      "text/plain": [
       "2.6865671641791042"
      ]
     },
     "execution_count": 104,
     "metadata": {},
     "output_type": "execute_result"
    }
   ],
   "source": [
    "fpr*100"
   ]
  },
  {
   "cell_type": "code",
   "execution_count": 105,
   "metadata": {},
   "outputs": [
    {
     "data": {
      "text/plain": [
       "2.5974025974025974"
      ]
     },
     "execution_count": 105,
     "metadata": {},
     "output_type": "execute_result"
    }
   ],
   "source": [
    "fnr*100"
   ]
  },
  {
   "cell_type": "code",
   "execution_count": 106,
   "metadata": {},
   "outputs": [
    {
     "name": "stdout",
     "output_type": "stream",
     "text": [
      "Precision: 97.0873786407767\n"
     ]
    }
   ],
   "source": [
    "print(\"Precision: \"+ str(tp/(tp+fp)*100))"
   ]
  },
  {
   "cell_type": "code",
   "execution_count": 107,
   "metadata": {},
   "outputs": [
    {
     "name": "stdout",
     "output_type": "stream",
     "text": [
      "Recall: 97.40259740259741\n"
     ]
    }
   ],
   "source": [
    "print(\"Recall: \"+ str(tpr*100))"
   ]
  },
  {
   "cell_type": "code",
   "execution_count": 108,
   "metadata": {},
   "outputs": [],
   "source": [
    "from sklearn.externals import joblib"
   ]
  },
  {
   "cell_type": "code",
   "execution_count": 109,
   "metadata": {},
   "outputs": [
    {
     "data": {
      "text/plain": [
       "['classifier3.pkl']"
      ]
     },
     "execution_count": 109,
     "metadata": {},
     "output_type": "execute_result"
    }
   ],
   "source": [
    "joblib.dump(knn_optimal, 'classifier3.pkl')"
   ]
  },
  {
   "cell_type": "code",
   "execution_count": 110,
   "metadata": {},
   "outputs": [
    {
     "data": {
      "text/html": [
       "<div>\n",
       "<style scoped>\n",
       "    .dataframe tbody tr th:only-of-type {\n",
       "        vertical-align: middle;\n",
       "    }\n",
       "\n",
       "    .dataframe tbody tr th {\n",
       "        vertical-align: top;\n",
       "    }\n",
       "\n",
       "    .dataframe thead th {\n",
       "        text-align: right;\n",
       "    }\n",
       "</style>\n",
       "<table border=\"1\" class=\"dataframe\">\n",
       "  <thead>\n",
       "    <tr style=\"text-align: right;\">\n",
       "      <th></th>\n",
       "      <th>URL</th>\n",
       "      <th>embedded_domain_in_path</th>\n",
       "      <th>ip_address</th>\n",
       "      <th>dictionary_word</th>\n",
       "      <th>targeted_brand</th>\n",
       "      <th>ext url</th>\n",
       "      <th>Phishing</th>\n",
       "      <th>Subdomains</th>\n",
       "      <th>Prefix-Suffix</th>\n",
       "      <th>Anchor Tag</th>\n",
       "      <th>Forms</th>\n",
       "      <th>SSL Expiry Date</th>\n",
       "      <th>SSL Cert Check</th>\n",
       "      <th>Alexa Ranking</th>\n",
       "      <th>URL Length</th>\n",
       "      <th>URL Shortened</th>\n",
       "      <th>Redirects User</th>\n",
       "      <th>URL has @ Symbol</th>\n",
       "      <th>URL has HTTPS</th>\n",
       "    </tr>\n",
       "  </thead>\n",
       "  <tbody>\n",
       "    <tr>\n",
       "      <th>0</th>\n",
       "      <td>https://locking-app-adverds.000webhostapp.com/...</td>\n",
       "      <td>1</td>\n",
       "      <td>-1</td>\n",
       "      <td>1</td>\n",
       "      <td>-1</td>\n",
       "      <td>-1</td>\n",
       "      <td>1</td>\n",
       "      <td>0.284342</td>\n",
       "      <td>-1</td>\n",
       "      <td>0.937982</td>\n",
       "      <td>0</td>\n",
       "      <td>0.064246</td>\n",
       "      <td>0</td>\n",
       "      <td>-0.346831</td>\n",
       "      <td>0.490428</td>\n",
       "      <td>-1</td>\n",
       "      <td>1</td>\n",
       "      <td>1</td>\n",
       "      <td>1</td>\n",
       "    </tr>\n",
       "    <tr>\n",
       "      <th>1</th>\n",
       "      <td>https://mxtoolbox.com/public/upgradev2.aspx?ps...</td>\n",
       "      <td>0</td>\n",
       "      <td>-1</td>\n",
       "      <td>-1</td>\n",
       "      <td>-1</td>\n",
       "      <td>-1</td>\n",
       "      <td>0</td>\n",
       "      <td>-0.989844</td>\n",
       "      <td>1</td>\n",
       "      <td>-0.666334</td>\n",
       "      <td>1</td>\n",
       "      <td>0.070822</td>\n",
       "      <td>0</td>\n",
       "      <td>-0.345876</td>\n",
       "      <td>2.134316</td>\n",
       "      <td>1</td>\n",
       "      <td>1</td>\n",
       "      <td>1</td>\n",
       "      <td>1</td>\n",
       "    </tr>\n",
       "    <tr>\n",
       "      <th>2</th>\n",
       "      <td>http://parolishop.com.br/questionreviews.htm</td>\n",
       "      <td>0</td>\n",
       "      <td>-1</td>\n",
       "      <td>-1</td>\n",
       "      <td>-1</td>\n",
       "      <td>-1</td>\n",
       "      <td>1</td>\n",
       "      <td>0.284342</td>\n",
       "      <td>1</td>\n",
       "      <td>0.860532</td>\n",
       "      <td>1</td>\n",
       "      <td>-0.411420</td>\n",
       "      <td>0</td>\n",
       "      <td>-0.174161</td>\n",
       "      <td>-0.444534</td>\n",
       "      <td>-1</td>\n",
       "      <td>1</td>\n",
       "      <td>1</td>\n",
       "      <td>-1</td>\n",
       "    </tr>\n",
       "    <tr>\n",
       "      <th>3</th>\n",
       "      <td>http://innovate.ieee.org/innovate/35675?lt=xpl...</td>\n",
       "      <td>1</td>\n",
       "      <td>-1</td>\n",
       "      <td>-1</td>\n",
       "      <td>-1</td>\n",
       "      <td>-1</td>\n",
       "      <td>0</td>\n",
       "      <td>0.284342</td>\n",
       "      <td>1</td>\n",
       "      <td>-0.721656</td>\n",
       "      <td>0</td>\n",
       "      <td>-0.363196</td>\n",
       "      <td>0</td>\n",
       "      <td>-0.347783</td>\n",
       "      <td>-0.074659</td>\n",
       "      <td>-1</td>\n",
       "      <td>1</td>\n",
       "      <td>1</td>\n",
       "      <td>-1</td>\n",
       "    </tr>\n",
       "    <tr>\n",
       "      <th>4</th>\n",
       "      <td>http://ietbhaddal.edu.in/bb.mobile/mobile/inde...</td>\n",
       "      <td>0</td>\n",
       "      <td>-1</td>\n",
       "      <td>-1</td>\n",
       "      <td>1</td>\n",
       "      <td>-1</td>\n",
       "      <td>1</td>\n",
       "      <td>0.284342</td>\n",
       "      <td>1</td>\n",
       "      <td>0.937982</td>\n",
       "      <td>0</td>\n",
       "      <td>1.079147</td>\n",
       "      <td>1</td>\n",
       "      <td>-0.174161</td>\n",
       "      <td>-0.372614</td>\n",
       "      <td>-1</td>\n",
       "      <td>1</td>\n",
       "      <td>1</td>\n",
       "      <td>-1</td>\n",
       "    </tr>\n",
       "  </tbody>\n",
       "</table>\n",
       "</div>"
      ],
      "text/plain": [
       "                                                 URL  embedded_domain_in_path  \\\n",
       "0  https://locking-app-adverds.000webhostapp.com/...                        1   \n",
       "1  https://mxtoolbox.com/public/upgradev2.aspx?ps...                        0   \n",
       "2       http://parolishop.com.br/questionreviews.htm                        0   \n",
       "3  http://innovate.ieee.org/innovate/35675?lt=xpl...                        1   \n",
       "4  http://ietbhaddal.edu.in/bb.mobile/mobile/inde...                        0   \n",
       "\n",
       "   ip_address  dictionary_word  targeted_brand  ext url Phishing  Subdomains  \\\n",
       "0          -1                1              -1       -1        1    0.284342   \n",
       "1          -1               -1              -1       -1        0   -0.989844   \n",
       "2          -1               -1              -1       -1        1    0.284342   \n",
       "3          -1               -1              -1       -1        0    0.284342   \n",
       "4          -1               -1               1       -1        1    0.284342   \n",
       "\n",
       "   Prefix-Suffix  Anchor Tag  Forms  SSL Expiry Date  SSL Cert Check  \\\n",
       "0             -1    0.937982      0         0.064246               0   \n",
       "1              1   -0.666334      1         0.070822               0   \n",
       "2              1    0.860532      1        -0.411420               0   \n",
       "3              1   -0.721656      0        -0.363196               0   \n",
       "4              1    0.937982      0         1.079147               1   \n",
       "\n",
       "   Alexa Ranking  URL Length  URL Shortened  Redirects User  URL has @ Symbol  \\\n",
       "0      -0.346831    0.490428             -1               1                 1   \n",
       "1      -0.345876    2.134316              1               1                 1   \n",
       "2      -0.174161   -0.444534             -1               1                 1   \n",
       "3      -0.347783   -0.074659             -1               1                 1   \n",
       "4      -0.174161   -0.372614             -1               1                 1   \n",
       "\n",
       "   URL has HTTPS  \n",
       "0              1  \n",
       "1              1  \n",
       "2             -1  \n",
       "3             -1  \n",
       "4             -1  "
      ]
     },
     "execution_count": 110,
     "metadata": {},
     "output_type": "execute_result"
    }
   ],
   "source": [
    "data.head()"
   ]
  },
  {
   "cell_type": "code",
   "execution_count": 111,
   "metadata": {},
   "outputs": [
    {
     "data": {
      "text/plain": [
       "(2142, 19)"
      ]
     },
     "execution_count": 111,
     "metadata": {},
     "output_type": "execute_result"
    }
   ],
   "source": [
    "data.shape"
   ]
  },
  {
   "cell_type": "code",
   "execution_count": 112,
   "metadata": {},
   "outputs": [],
   "source": [
    "old_data = pd.read_csv(\"final_cleaned_dataset.csv\")"
   ]
  },
  {
   "cell_type": "code",
   "execution_count": 113,
   "metadata": {},
   "outputs": [
    {
     "data": {
      "text/html": [
       "<div>\n",
       "<style scoped>\n",
       "    .dataframe tbody tr th:only-of-type {\n",
       "        vertical-align: middle;\n",
       "    }\n",
       "\n",
       "    .dataframe tbody tr th {\n",
       "        vertical-align: top;\n",
       "    }\n",
       "\n",
       "    .dataframe thead th {\n",
       "        text-align: right;\n",
       "    }\n",
       "</style>\n",
       "<table border=\"1\" class=\"dataframe\">\n",
       "  <thead>\n",
       "    <tr style=\"text-align: right;\">\n",
       "      <th></th>\n",
       "      <th>URL</th>\n",
       "      <th>embedded_domain_in_path</th>\n",
       "      <th>ip_address</th>\n",
       "      <th>dictionary_word</th>\n",
       "      <th>targeted_brand</th>\n",
       "      <th>ext url</th>\n",
       "      <th>Phishing</th>\n",
       "      <th>Subdomains</th>\n",
       "      <th>Prefix-Suffix</th>\n",
       "      <th>Anchor Tag</th>\n",
       "      <th>Tags</th>\n",
       "      <th>Forms</th>\n",
       "      <th>SSL Expiry Date</th>\n",
       "      <th>SSL Cert Check</th>\n",
       "      <th>Alexa Ranking</th>\n",
       "      <th>URL Length</th>\n",
       "      <th>URL Shortened</th>\n",
       "      <th>Redirects User</th>\n",
       "      <th>URL has @ Symbol</th>\n",
       "      <th>URL has HTTPS</th>\n",
       "    </tr>\n",
       "  </thead>\n",
       "  <tbody>\n",
       "    <tr>\n",
       "      <th>0</th>\n",
       "      <td>https://locking-app-adverds.000webhostapp.com/...</td>\n",
       "      <td>1</td>\n",
       "      <td>-1</td>\n",
       "      <td>1</td>\n",
       "      <td>-1</td>\n",
       "      <td>-1</td>\n",
       "      <td>yes</td>\n",
       "      <td>3</td>\n",
       "      <td>-1</td>\n",
       "      <td>300</td>\n",
       "      <td>N-N</td>\n",
       "      <td>0</td>\n",
       "      <td>253</td>\n",
       "      <td>0</td>\n",
       "      <td>3664</td>\n",
       "      <td>135</td>\n",
       "      <td>-1</td>\n",
       "      <td>1</td>\n",
       "      <td>1</td>\n",
       "      <td>1</td>\n",
       "    </tr>\n",
       "    <tr>\n",
       "      <th>1</th>\n",
       "      <td>https://mxtoolbox.com/public/upgradev2.aspx?ps...</td>\n",
       "      <td>0</td>\n",
       "      <td>-1</td>\n",
       "      <td>-1</td>\n",
       "      <td>-1</td>\n",
       "      <td>-1</td>\n",
       "      <td>no</td>\n",
       "      <td>2</td>\n",
       "      <td>1</td>\n",
       "      <td>155</td>\n",
       "      <td>100</td>\n",
       "      <td>1</td>\n",
       "      <td>256</td>\n",
       "      <td>0</td>\n",
       "      <td>6619</td>\n",
       "      <td>295</td>\n",
       "      <td>1</td>\n",
       "      <td>1</td>\n",
       "      <td>1</td>\n",
       "      <td>1</td>\n",
       "    </tr>\n",
       "    <tr>\n",
       "      <th>2</th>\n",
       "      <td>http://parolishop.com.br/questionreviews.htm</td>\n",
       "      <td>0</td>\n",
       "      <td>-1</td>\n",
       "      <td>-1</td>\n",
       "      <td>-1</td>\n",
       "      <td>-1</td>\n",
       "      <td>yes</td>\n",
       "      <td>3</td>\n",
       "      <td>1</td>\n",
       "      <td>293</td>\n",
       "      <td>100</td>\n",
       "      <td>1</td>\n",
       "      <td>36</td>\n",
       "      <td>0</td>\n",
       "      <td>538000</td>\n",
       "      <td>44</td>\n",
       "      <td>-1</td>\n",
       "      <td>1</td>\n",
       "      <td>1</td>\n",
       "      <td>-1</td>\n",
       "    </tr>\n",
       "    <tr>\n",
       "      <th>3</th>\n",
       "      <td>http://innovate.ieee.org/innovate/35675?lt=xpl...</td>\n",
       "      <td>1</td>\n",
       "      <td>-1</td>\n",
       "      <td>-1</td>\n",
       "      <td>-1</td>\n",
       "      <td>-1</td>\n",
       "      <td>no</td>\n",
       "      <td>3</td>\n",
       "      <td>1</td>\n",
       "      <td>150</td>\n",
       "      <td>N-N</td>\n",
       "      <td>0</td>\n",
       "      <td>58</td>\n",
       "      <td>0</td>\n",
       "      <td>717</td>\n",
       "      <td>80</td>\n",
       "      <td>-1</td>\n",
       "      <td>1</td>\n",
       "      <td>1</td>\n",
       "      <td>-1</td>\n",
       "    </tr>\n",
       "    <tr>\n",
       "      <th>4</th>\n",
       "      <td>http://ietbhaddal.edu.in/bb.mobile/mobile/inde...</td>\n",
       "      <td>0</td>\n",
       "      <td>-1</td>\n",
       "      <td>-1</td>\n",
       "      <td>1</td>\n",
       "      <td>-1</td>\n",
       "      <td>yes</td>\n",
       "      <td>3</td>\n",
       "      <td>1</td>\n",
       "      <td>300</td>\n",
       "      <td>N-N</td>\n",
       "      <td>0</td>\n",
       "      <td>716</td>\n",
       "      <td>1</td>\n",
       "      <td>538000</td>\n",
       "      <td>51</td>\n",
       "      <td>-1</td>\n",
       "      <td>1</td>\n",
       "      <td>1</td>\n",
       "      <td>-1</td>\n",
       "    </tr>\n",
       "  </tbody>\n",
       "</table>\n",
       "</div>"
      ],
      "text/plain": [
       "                                                 URL  embedded_domain_in_path  \\\n",
       "0  https://locking-app-adverds.000webhostapp.com/...                        1   \n",
       "1  https://mxtoolbox.com/public/upgradev2.aspx?ps...                        0   \n",
       "2       http://parolishop.com.br/questionreviews.htm                        0   \n",
       "3  http://innovate.ieee.org/innovate/35675?lt=xpl...                        1   \n",
       "4  http://ietbhaddal.edu.in/bb.mobile/mobile/inde...                        0   \n",
       "\n",
       "   ip_address  dictionary_word  targeted_brand  ext url Phishing  Subdomains  \\\n",
       "0          -1                1              -1       -1      yes           3   \n",
       "1          -1               -1              -1       -1       no           2   \n",
       "2          -1               -1              -1       -1      yes           3   \n",
       "3          -1               -1              -1       -1       no           3   \n",
       "4          -1               -1               1       -1      yes           3   \n",
       "\n",
       "   Prefix-Suffix  Anchor Tag Tags  Forms  SSL Expiry Date  SSL Cert Check  \\\n",
       "0             -1         300  N-N      0              253               0   \n",
       "1              1         155  100      1              256               0   \n",
       "2              1         293  100      1               36               0   \n",
       "3              1         150  N-N      0               58               0   \n",
       "4              1         300  N-N      0              716               1   \n",
       "\n",
       "   Alexa Ranking  URL Length  URL Shortened  Redirects User  URL has @ Symbol  \\\n",
       "0           3664         135             -1               1                 1   \n",
       "1           6619         295              1               1                 1   \n",
       "2         538000          44             -1               1                 1   \n",
       "3            717          80             -1               1                 1   \n",
       "4         538000          51             -1               1                 1   \n",
       "\n",
       "   URL has HTTPS  \n",
       "0              1  \n",
       "1              1  \n",
       "2             -1  \n",
       "3             -1  \n",
       "4             -1  "
      ]
     },
     "execution_count": 113,
     "metadata": {},
     "output_type": "execute_result"
    }
   ],
   "source": [
    "old_data.head()"
   ]
  },
  {
   "cell_type": "code",
   "execution_count": 114,
   "metadata": {},
   "outputs": [
    {
     "data": {
      "text/plain": [
       "count    2142.000000\n",
       "mean      223.690943\n",
       "std       456.308753\n",
       "min         8.000000\n",
       "25%        69.000000\n",
       "50%        88.500000\n",
       "75%       253.000000\n",
       "max      9803.000000\n",
       "Name: SSL Expiry Date, dtype: float64"
      ]
     },
     "execution_count": 114,
     "metadata": {},
     "output_type": "execute_result"
    }
   ],
   "source": [
    "old_data['SSL Expiry Date'].describe()"
   ]
  },
  {
   "cell_type": "code",
   "execution_count": 115,
   "metadata": {},
   "outputs": [
    {
     "data": {
      "text/plain": [
       "Index(['ip_address', 'Anchor Tag', 'Forms', 'SSL Expiry Date',\n",
       "       'SSL Cert Check', 'Redirects User', 'URL has HTTPS'],\n",
       "      dtype='object')"
      ]
     },
     "execution_count": 115,
     "metadata": {},
     "output_type": "execute_result"
    }
   ],
   "source": [
    "reduced_X.columns"
   ]
  },
  {
   "cell_type": "code",
   "execution_count": 117,
   "metadata": {},
   "outputs": [
    {
     "data": {
      "text/html": [
       "<div>\n",
       "<style scoped>\n",
       "    .dataframe tbody tr th:only-of-type {\n",
       "        vertical-align: middle;\n",
       "    }\n",
       "\n",
       "    .dataframe tbody tr th {\n",
       "        vertical-align: top;\n",
       "    }\n",
       "\n",
       "    .dataframe thead th {\n",
       "        text-align: right;\n",
       "    }\n",
       "</style>\n",
       "<table border=\"1\" class=\"dataframe\">\n",
       "  <thead>\n",
       "    <tr style=\"text-align: right;\">\n",
       "      <th></th>\n",
       "      <th>ip_address</th>\n",
       "      <th>Anchor Tag</th>\n",
       "      <th>Forms</th>\n",
       "      <th>SSL Expiry Date</th>\n",
       "      <th>SSL Cert Check</th>\n",
       "      <th>Redirects User</th>\n",
       "      <th>URL has HTTPS</th>\n",
       "    </tr>\n",
       "  </thead>\n",
       "  <tbody>\n",
       "    <tr>\n",
       "      <th>0</th>\n",
       "      <td>-1</td>\n",
       "      <td>0.937982</td>\n",
       "      <td>0</td>\n",
       "      <td>0.064246</td>\n",
       "      <td>0</td>\n",
       "      <td>1</td>\n",
       "      <td>1</td>\n",
       "    </tr>\n",
       "    <tr>\n",
       "      <th>1</th>\n",
       "      <td>-1</td>\n",
       "      <td>-0.666334</td>\n",
       "      <td>1</td>\n",
       "      <td>0.070822</td>\n",
       "      <td>0</td>\n",
       "      <td>1</td>\n",
       "      <td>1</td>\n",
       "    </tr>\n",
       "    <tr>\n",
       "      <th>2</th>\n",
       "      <td>-1</td>\n",
       "      <td>0.860532</td>\n",
       "      <td>1</td>\n",
       "      <td>-0.411420</td>\n",
       "      <td>0</td>\n",
       "      <td>1</td>\n",
       "      <td>-1</td>\n",
       "    </tr>\n",
       "    <tr>\n",
       "      <th>3</th>\n",
       "      <td>-1</td>\n",
       "      <td>-0.721656</td>\n",
       "      <td>0</td>\n",
       "      <td>-0.363196</td>\n",
       "      <td>0</td>\n",
       "      <td>1</td>\n",
       "      <td>-1</td>\n",
       "    </tr>\n",
       "    <tr>\n",
       "      <th>4</th>\n",
       "      <td>-1</td>\n",
       "      <td>0.937982</td>\n",
       "      <td>0</td>\n",
       "      <td>1.079147</td>\n",
       "      <td>1</td>\n",
       "      <td>1</td>\n",
       "      <td>-1</td>\n",
       "    </tr>\n",
       "  </tbody>\n",
       "</table>\n",
       "</div>"
      ],
      "text/plain": [
       "   ip_address  Anchor Tag  Forms  SSL Expiry Date  SSL Cert Check  \\\n",
       "0          -1    0.937982      0         0.064246               0   \n",
       "1          -1   -0.666334      1         0.070822               0   \n",
       "2          -1    0.860532      1        -0.411420               0   \n",
       "3          -1   -0.721656      0        -0.363196               0   \n",
       "4          -1    0.937982      0         1.079147               1   \n",
       "\n",
       "   Redirects User  URL has HTTPS  \n",
       "0               1              1  \n",
       "1               1              1  \n",
       "2               1             -1  \n",
       "3               1             -1  \n",
       "4               1             -1  "
      ]
     },
     "execution_count": 117,
     "metadata": {},
     "output_type": "execute_result"
    }
   ],
   "source": [
    "reduced_X.head()"
   ]
  },
  {
   "cell_type": "code",
   "execution_count": 116,
   "metadata": {},
   "outputs": [
    {
     "data": {
      "text/plain": [
       "Index(['ip_address', 'Anchor Tag', 'Forms', 'SSL Expiry Date',\n",
       "       'SSL Cert Check', 'Redirects User', 'URL has HTTPS'],\n",
       "      dtype='object')"
      ]
     },
     "execution_count": 116,
     "metadata": {},
     "output_type": "execute_result"
    }
   ],
   "source": [
    "rX_train.columns"
   ]
  },
  {
   "cell_type": "code",
   "execution_count": 122,
   "metadata": {},
   "outputs": [
    {
     "data": {
      "text/plain": [
       "count    2142.000000\n",
       "mean      215.224090\n",
       "std        90.402299\n",
       "min         1.000000\n",
       "25%       150.000000\n",
       "50%       209.000000\n",
       "75%       300.000000\n",
       "max       300.000000\n",
       "Name: Anchor Tag, dtype: float64"
      ]
     },
     "execution_count": 122,
     "metadata": {},
     "output_type": "execute_result"
    }
   ],
   "source": [
    "old_data['Anchor Tag'].describe()"
   ]
  },
  {
   "cell_type": "code",
   "execution_count": 127,
   "metadata": {},
   "outputs": [
    {
     "data": {
      "text/plain": [
       "count    2142.000000\n",
       "mean      223.690943\n",
       "std       456.308753\n",
       "min         8.000000\n",
       "25%        69.000000\n",
       "50%        88.500000\n",
       "75%       253.000000\n",
       "max      9803.000000\n",
       "Name: SSL Expiry Date, dtype: float64"
      ]
     },
     "execution_count": 127,
     "metadata": {},
     "output_type": "execute_result"
    }
   ],
   "source": [
    "old_data['SSL Expiry Date'].describe()"
   ]
  },
  {
   "cell_type": "code",
   "execution_count": 232,
   "metadata": {},
   "outputs": [],
   "source": [
    "pkl_model = joblib.load('classifier.pkl')"
   ]
  },
  {
   "cell_type": "code",
   "execution_count": 239,
   "metadata": {},
   "outputs": [
    {
     "data": {
      "text/plain": [
       "array(['0'], dtype=object)"
      ]
     },
     "execution_count": 239,
     "metadata": {},
     "output_type": "execute_result"
    }
   ],
   "source": [
    "pkl_model.predict([rX_train.iloc[3]])"
   ]
  },
  {
   "cell_type": "code",
   "execution_count": 240,
   "metadata": {},
   "outputs": [
    {
     "data": {
      "text/html": [
       "<div>\n",
       "<style scoped>\n",
       "    .dataframe tbody tr th:only-of-type {\n",
       "        vertical-align: middle;\n",
       "    }\n",
       "\n",
       "    .dataframe tbody tr th {\n",
       "        vertical-align: top;\n",
       "    }\n",
       "\n",
       "    .dataframe thead th {\n",
       "        text-align: right;\n",
       "    }\n",
       "</style>\n",
       "<table border=\"1\" class=\"dataframe\">\n",
       "  <thead>\n",
       "    <tr style=\"text-align: right;\">\n",
       "      <th></th>\n",
       "      <th>URL</th>\n",
       "      <th>embedded_domain_in_path</th>\n",
       "      <th>ip_address</th>\n",
       "      <th>dictionary_word</th>\n",
       "      <th>targeted_brand</th>\n",
       "      <th>ext url</th>\n",
       "      <th>Phishing</th>\n",
       "      <th>Subdomains</th>\n",
       "      <th>Prefix-Suffix</th>\n",
       "      <th>Anchor Tag</th>\n",
       "      <th>Forms</th>\n",
       "      <th>SSL Expiry Date</th>\n",
       "      <th>SSL Cert Check</th>\n",
       "      <th>Alexa Ranking</th>\n",
       "      <th>URL Length</th>\n",
       "      <th>URL Shortened</th>\n",
       "      <th>Redirects User</th>\n",
       "      <th>URL has @ Symbol</th>\n",
       "      <th>URL has HTTPS</th>\n",
       "    </tr>\n",
       "  </thead>\n",
       "  <tbody>\n",
       "    <tr>\n",
       "      <th>0</th>\n",
       "      <td>https://locking-app-adverds.000webhostapp.com/...</td>\n",
       "      <td>1</td>\n",
       "      <td>-1</td>\n",
       "      <td>1</td>\n",
       "      <td>-1</td>\n",
       "      <td>-1</td>\n",
       "      <td>1</td>\n",
       "      <td>0.284342</td>\n",
       "      <td>-1</td>\n",
       "      <td>0.937982</td>\n",
       "      <td>0</td>\n",
       "      <td>0.064246</td>\n",
       "      <td>0</td>\n",
       "      <td>-0.346831</td>\n",
       "      <td>0.490428</td>\n",
       "      <td>-1</td>\n",
       "      <td>1</td>\n",
       "      <td>1</td>\n",
       "      <td>1</td>\n",
       "    </tr>\n",
       "    <tr>\n",
       "      <th>1</th>\n",
       "      <td>https://mxtoolbox.com/public/upgradev2.aspx?ps...</td>\n",
       "      <td>0</td>\n",
       "      <td>-1</td>\n",
       "      <td>-1</td>\n",
       "      <td>-1</td>\n",
       "      <td>-1</td>\n",
       "      <td>0</td>\n",
       "      <td>-0.989844</td>\n",
       "      <td>1</td>\n",
       "      <td>-0.666334</td>\n",
       "      <td>1</td>\n",
       "      <td>0.070822</td>\n",
       "      <td>0</td>\n",
       "      <td>-0.345876</td>\n",
       "      <td>2.134316</td>\n",
       "      <td>1</td>\n",
       "      <td>1</td>\n",
       "      <td>1</td>\n",
       "      <td>1</td>\n",
       "    </tr>\n",
       "    <tr>\n",
       "      <th>2</th>\n",
       "      <td>http://parolishop.com.br/questionreviews.htm</td>\n",
       "      <td>0</td>\n",
       "      <td>-1</td>\n",
       "      <td>-1</td>\n",
       "      <td>-1</td>\n",
       "      <td>-1</td>\n",
       "      <td>1</td>\n",
       "      <td>0.284342</td>\n",
       "      <td>1</td>\n",
       "      <td>0.860532</td>\n",
       "      <td>1</td>\n",
       "      <td>-0.411420</td>\n",
       "      <td>0</td>\n",
       "      <td>-0.174161</td>\n",
       "      <td>-0.444534</td>\n",
       "      <td>-1</td>\n",
       "      <td>1</td>\n",
       "      <td>1</td>\n",
       "      <td>-1</td>\n",
       "    </tr>\n",
       "    <tr>\n",
       "      <th>3</th>\n",
       "      <td>http://innovate.ieee.org/innovate/35675?lt=xpl...</td>\n",
       "      <td>1</td>\n",
       "      <td>-1</td>\n",
       "      <td>-1</td>\n",
       "      <td>-1</td>\n",
       "      <td>-1</td>\n",
       "      <td>0</td>\n",
       "      <td>0.284342</td>\n",
       "      <td>1</td>\n",
       "      <td>-0.721656</td>\n",
       "      <td>0</td>\n",
       "      <td>-0.363196</td>\n",
       "      <td>0</td>\n",
       "      <td>-0.347783</td>\n",
       "      <td>-0.074659</td>\n",
       "      <td>-1</td>\n",
       "      <td>1</td>\n",
       "      <td>1</td>\n",
       "      <td>-1</td>\n",
       "    </tr>\n",
       "    <tr>\n",
       "      <th>4</th>\n",
       "      <td>http://ietbhaddal.edu.in/bb.mobile/mobile/inde...</td>\n",
       "      <td>0</td>\n",
       "      <td>-1</td>\n",
       "      <td>-1</td>\n",
       "      <td>1</td>\n",
       "      <td>-1</td>\n",
       "      <td>1</td>\n",
       "      <td>0.284342</td>\n",
       "      <td>1</td>\n",
       "      <td>0.937982</td>\n",
       "      <td>0</td>\n",
       "      <td>1.079147</td>\n",
       "      <td>1</td>\n",
       "      <td>-0.174161</td>\n",
       "      <td>-0.372614</td>\n",
       "      <td>-1</td>\n",
       "      <td>1</td>\n",
       "      <td>1</td>\n",
       "      <td>-1</td>\n",
       "    </tr>\n",
       "  </tbody>\n",
       "</table>\n",
       "</div>"
      ],
      "text/plain": [
       "                                                 URL  embedded_domain_in_path  \\\n",
       "0  https://locking-app-adverds.000webhostapp.com/...                        1   \n",
       "1  https://mxtoolbox.com/public/upgradev2.aspx?ps...                        0   \n",
       "2       http://parolishop.com.br/questionreviews.htm                        0   \n",
       "3  http://innovate.ieee.org/innovate/35675?lt=xpl...                        1   \n",
       "4  http://ietbhaddal.edu.in/bb.mobile/mobile/inde...                        0   \n",
       "\n",
       "   ip_address  dictionary_word  targeted_brand  ext url Phishing  Subdomains  \\\n",
       "0          -1                1              -1       -1        1    0.284342   \n",
       "1          -1               -1              -1       -1        0   -0.989844   \n",
       "2          -1               -1              -1       -1        1    0.284342   \n",
       "3          -1               -1              -1       -1        0    0.284342   \n",
       "4          -1               -1               1       -1        1    0.284342   \n",
       "\n",
       "   Prefix-Suffix  Anchor Tag  Forms  SSL Expiry Date  SSL Cert Check  \\\n",
       "0             -1    0.937982      0         0.064246               0   \n",
       "1              1   -0.666334      1         0.070822               0   \n",
       "2              1    0.860532      1        -0.411420               0   \n",
       "3              1   -0.721656      0        -0.363196               0   \n",
       "4              1    0.937982      0         1.079147               1   \n",
       "\n",
       "   Alexa Ranking  URL Length  URL Shortened  Redirects User  URL has @ Symbol  \\\n",
       "0      -0.346831    0.490428             -1               1                 1   \n",
       "1      -0.345876    2.134316              1               1                 1   \n",
       "2      -0.174161   -0.444534             -1               1                 1   \n",
       "3      -0.347783   -0.074659             -1               1                 1   \n",
       "4      -0.174161   -0.372614             -1               1                 1   \n",
       "\n",
       "   URL has HTTPS  \n",
       "0              1  \n",
       "1              1  \n",
       "2             -1  \n",
       "3             -1  \n",
       "4             -1  "
      ]
     },
     "execution_count": 240,
     "metadata": {},
     "output_type": "execute_result"
    }
   ],
   "source": [
    "data.head()"
   ]
  },
  {
   "cell_type": "code",
   "execution_count": 128,
   "metadata": {},
   "outputs": [
    {
     "data": {
      "text/plain": [
       "URL                        https://freeaccountcheck4004.000webhostapp.com...\n",
       "embedded_domain_in_path                                                   -1\n",
       "ip_address                                                                -1\n",
       "dictionary_word                                                            1\n",
       "targeted_brand                                                            -1\n",
       "ext url                                                                   -1\n",
       "Phishing                                                                   1\n",
       "Subdomains                                                          0.284342\n",
       "Prefix-Suffix                                                              1\n",
       "Anchor Tag                                                          0.937982\n",
       "Forms                                                                      0\n",
       "SSL Expiry Date                                                    0.0642458\n",
       "SSL Cert Check                                                             0\n",
       "Alexa Ranking                                                      -0.346831\n",
       "URL Length                                                          0.675365\n",
       "URL Shortened                                                             -1\n",
       "Redirects User                                                             1\n",
       "URL has @ Symbol                                                           1\n",
       "URL has HTTPS                                                              1\n",
       "Name: 1414, dtype: object"
      ]
     },
     "execution_count": 128,
     "metadata": {},
     "output_type": "execute_result"
    }
   ],
   "source": [
    "data.iloc[1414]"
   ]
  },
  {
   "cell_type": "code",
   "execution_count": 124,
   "metadata": {},
   "outputs": [
    {
     "data": {
      "text/plain": [
       "90.0"
      ]
     },
     "execution_count": 124,
     "metadata": {},
     "output_type": "execute_result"
    }
   ],
   "source": [
    "float(int(90.2))"
   ]
  },
  {
   "cell_type": "code",
   "execution_count": 146,
   "metadata": {},
   "outputs": [
    {
     "data": {
      "text/plain": [
       " 0.937982    900\n",
       "-0.721656    198\n",
       "-2.370229    167\n",
       "-0.168443    163\n",
       "-1.274868     28\n",
       "-0.201636     24\n",
       "-0.068865     22\n",
       "-0.677399     21\n",
       "-0.035672     20\n",
       "-0.223764     19\n",
       "-0.179507     18\n",
       "-0.102058     17\n",
       "-0.157379     15\n",
       "-0.124186     14\n",
       "-0.079929     12\n",
       "-0.090993     12\n",
       "-0.245893     10\n",
       "-0.135250     10\n",
       "-0.533563      9\n",
       "-0.113122      9\n",
       "-0.810170      8\n",
       "-0.268021      8\n",
       "-0.909748      8\n",
       " 0.384769      8\n",
       "-0.212700      8\n",
       "-0.002479      8\n",
       "-0.256957      7\n",
       "-0.046736      7\n",
       "-0.057801      7\n",
       "-0.345471      7\n",
       "            ... \n",
       "-1.396575      1\n",
       "-2.148944      1\n",
       " 0.805211      1\n",
       " 0.473283      1\n",
       " 0.462219      1\n",
       " 0.008585      1\n",
       " 0.694568      1\n",
       "-1.817016      1\n",
       "-1.916594      1\n",
       " 0.141356      1\n",
       "-0.898684      1\n",
       " 0.572862      1\n",
       " 0.871596      1\n",
       " 0.185613      1\n",
       " 0.406898      1\n",
       "-0.279086      1\n",
       "-2.204265      1\n",
       "-2.115751      1\n",
       " 0.650311      1\n",
       " 0.318384      1\n",
       "-1.341253      1\n",
       " 0.207741      1\n",
       "-1.728502      1\n",
       "-0.290150      1\n",
       "-0.954005      1\n",
       " 0.086035      1\n",
       "-1.684245      1\n",
       " 0.716697      1\n",
       "-0.931876      1\n",
       "-0.743784      1\n",
       "Name: Anchor Tag, Length: 174, dtype: int64"
      ]
     },
     "execution_count": 146,
     "metadata": {},
     "output_type": "execute_result"
    }
   ],
   "source": [
    "reduced_X['Anchor Tag'].value_counts()"
   ]
  },
  {
   "cell_type": "code",
   "execution_count": null,
   "metadata": {},
   "outputs": [],
   "source": []
  }
 ],
 "metadata": {
  "kernelspec": {
   "display_name": "Python 3 (ipykernel)",
   "language": "python",
   "name": "python3"
  },
  "language_info": {
   "codemirror_mode": {
    "name": "ipython",
    "version": 3
   },
   "file_extension": ".py",
   "mimetype": "text/x-python",
   "name": "python",
   "nbconvert_exporter": "python",
   "pygments_lexer": "ipython3",
   "version": "3.9.7"
  }
 },
 "nbformat": 4,
 "nbformat_minor": 2
}
