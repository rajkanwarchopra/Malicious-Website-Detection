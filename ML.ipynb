{
 "cells": [
  {
   "cell_type": "code",
   "execution_count": 3,
   "metadata": {},
   "outputs": [],
   "source": [
    "import pandas as pd\n",
    "import numpy as np\n",
    "import matplotlib.pyplot as plt\n",
    "%matplotlib inline\n",
    "import seaborn as sns\n",
    "from sklearn.preprocessing import scale\n",
    "from sklearn.model_selection import train_test_split, cross_val_score\n",
    "from sklearn.neighbors import KNeighborsClassifier\n",
    "from sklearn.metrics import accuracy_score, confusion_matrix\n",
    "from prettytable import PrettyTable\n",
    "from sklearn.metrics import precision_score, recall_score, f1_score, make_scorer\n",
    "from sklearn.naive_bayes import GaussianNB, MultinomialNB\n",
    "from geneticfs import GeneticFS"
   ]
  },
  {
   "cell_type": "code",
   "execution_count": 4,
   "metadata": {},
   "outputs": [],
   "source": [
    "data = pd.read_csv('final_cleaned_dataset.csv')"
   ]
  },
  {
   "cell_type": "code",
   "execution_count": null,
   "metadata": {},
   "outputs": [],
   "source": []
  },
  {
   "cell_type": "code",
   "execution_count": 5,
   "metadata": {},
   "outputs": [
    {
     "data": {
      "text/plain": [
       "<matplotlib.axes._subplots.AxesSubplot at 0x1249f1ba940>"
      ]
     },
     "execution_count": 5,
     "metadata": {},
     "output_type": "execute_result"
    },
    {
     "data": {
      "image/png": "[encoded data removed]",
      "text/plain": [
       "<Figure size 432x288 with 2 Axes>"
      ]
     },
     "metadata": {
      "needs_background": "light"
     },
     "output_type": "display_data"
    }
   ],
   "source": [
    "sns.heatmap(pd.isnull(data))"
   ]
  },
  {
   "cell_type": "code",
   "execution_count": 10,
   "metadata": {},
   "outputs": [
    {
     "data": {
      "text/plain": [
       "Index(['URL', 'embedded_domain_in_path', 'ip_address', 'dictionary_word',\n",
       "       'targeted_brand', 'ext url', 'Phishing', 'Subdomains', 'Prefix-Suffix',\n",
       "       'Anchor Tag', 'Tags', 'Forms', 'SSL Expiry Date', 'SSL Cert Check',\n",
       "       'Alexa Ranking', 'URL Length', 'URL Shortened', 'Redirects User',\n",
       "       'URL has @ Symbol', 'URL has HTTPS', 'URL Small', 'URL Medium',\n",
       "       'URL Large', 'Small Domain', 'Large Domain', 'ORG Domain', 'COM Domain',\n",
       "       'Has PHP Pages', 'Is Palindrome', 'Numbers in Domain', 'X Domain',\n",
       "       'Vowels in URL', 'Deal in URL', 'Download in URL', 'Free in URL',\n",
       "       'BJKT in URL', 'URL is Happy', 'Just Why', 'Rar or Zip in URL',\n",
       "       'Large number of Subdomains', 'Small number of Subdomains'],\n",
       "      dtype='object')"
      ]
     },
     "execution_count": 10,
     "metadata": {},
     "output_type": "execute_result"
    }
   ],
   "source": [
    "data.columns"
   ]
  },
  {
   "cell_type": "code",
   "execution_count": 11,
   "metadata": {},
   "outputs": [
    {
     "data": {
      "text/plain": [
       "41"
      ]
     },
     "execution_count": 11,
     "metadata": {},
     "output_type": "execute_result"
    }
   ],
   "source": [
    "len(data.columns)"
   ]
  },
  {
   "cell_type": "code",
   "execution_count": 6,
   "metadata": {},
   "outputs": [],
   "source": [
    "data['Phishing'].replace('yes',1, inplace=True)\n",
    "data['Phishing'].replace('no',0, inplace=True)"
   ]
  },
  {
   "cell_type": "code",
   "execution_count": 7,
   "metadata": {},
   "outputs": [],
   "source": [
    "numerical_features = ['Subdomains', 'Anchor Tag', 'SSL Expiry Date', 'Alexa Ranking', 'URL Length', 'Vowels in URL']"
   ]
  },
  {
   "cell_type": "code",
   "execution_count": 8,
   "metadata": {},
   "outputs": [],
   "source": [
    "data.drop(['Tags'],axis=1,inplace=True)"
   ]
  },
  {
   "cell_type": "code",
   "execution_count": 11,
   "metadata": {},
   "outputs": [],
   "source": [
    "y = data['Phishing'].values"
   ]
  },
  {
   "cell_type": "code",
   "execution_count": null,
   "metadata": {},
   "outputs": [],
   "source": []
  },
  {
   "cell_type": "code",
   "execution_count": 12,
   "metadata": {},
   "outputs": [],
   "source": [
    "data.drop(['Phishing'], axis=1, inplace=True)"
   ]
  },
  {
   "cell_type": "code",
   "execution_count": 13,
   "metadata": {},
   "outputs": [],
   "source": [
    "data.drop(['URL'],axis=1,inplace=True)"
   ]
  },
  {
   "cell_type": "code",
   "execution_count": 14,
   "metadata": {},
   "outputs": [
    {
     "data": {
      "text/plain": [
       "Index(['embedded_domain_in_path', 'ip_address', 'dictionary_word',\n",
       "       'targeted_brand', 'ext url', 'Subdomains', 'Prefix-Suffix',\n",
       "       'Anchor Tag', 'Forms', 'SSL Expiry Date', 'SSL Cert Check',\n",
       "       'Alexa Ranking', 'URL Length', 'URL Shortened', 'Redirects User',\n",
       "       'URL has @ Symbol', 'URL has HTTPS', 'URL Small', 'URL Medium',\n",
       "       'URL Large', 'Small Domain', 'Large Domain', 'ORG Domain', 'COM Domain',\n",
       "       'Has PHP Pages', 'Is Palindrome', 'Numbers in Domain', 'X Domain',\n",
       "       'Vowels in URL', 'Deal in URL', 'Download in URL', 'Free in URL',\n",
       "       'BJKT in URL', 'URL is Happy', 'Just Why', 'Rar or Zip in URL',\n",
       "       'Large number of Subdomains', 'Small number of Subdomains'],\n",
       "      dtype='object')"
      ]
     },
     "execution_count": 14,
     "metadata": {},
     "output_type": "execute_result"
    }
   ],
   "source": [
    "data.columns"
   ]
  },
  {
   "cell_type": "code",
   "execution_count": 15,
   "metadata": {},
   "outputs": [],
   "source": [
    "all_X_cols = data.columns.values"
   ]
  },
  {
   "cell_type": "code",
   "execution_count": 16,
   "metadata": {},
   "outputs": [],
   "source": [
    "all_X = data[all_X_cols]"
   ]
  },
  {
   "cell_type": "code",
   "execution_count": null,
   "metadata": {},
   "outputs": [],
   "source": []
  },
  {
   "cell_type": "code",
   "execution_count": null,
   "metadata": {},
   "outputs": [],
   "source": []
  },
  {
   "cell_type": "code",
   "execution_count": null,
   "metadata": {},
   "outputs": [],
   "source": []
  },
  {
   "cell_type": "code",
   "execution_count": 14,
   "metadata": {},
   "outputs": [],
   "source": [
    "#KNN\n"
   ]
  },
  {
   "cell_type": "code",
   "execution_count": 41,
   "metadata": {},
   "outputs": [],
   "source": [
    "X_train, X_test, y_train, y_test = train_test_split( all_X, y, test_size=0.30, random_state=0)"
   ]
  },
  {
   "cell_type": "code",
   "execution_count": 18,
   "metadata": {},
   "outputs": [],
   "source": [
    "def knn_kfold_validation(neighbours, X_train, y_train, algo='auto'):\n",
    "    cv_scores=[]\n",
    "    for k in neighbours:\n",
    "        knn = KNeighborsClassifier(n_neighbors=k,algorithm='brute')\n",
    "        scores = cross_val_score(knn, X_train, y_train, scoring='accuracy', cv=5)\n",
    "        cv_scores.append(scores.mean())\n",
    "        print(\"K : %d , Score : %f\" % (k,scores.mean()))\n",
    "    return cv_scores\n",
    "\n",
    "def optimal_k_plot(neighbours, cv_scores):    \n",
    "    optimal_k = neighbours[cv_scores.index(max(cv_scores))]\n",
    "    plt.plot(neighbours, cv_scores)\n",
    "    for xy in zip(neighbours,np.round(cv_scores,2)):\n",
    "        plt.annotate(\"('%s',%s)\"% xy, xy=xy, textcoords='data')\n",
    "    plt.xlabel('Number of Neighbors K')\n",
    "    plt.ylabel('CV_Scores')\n",
    "    print(\"CV_SCORES: \",cv_scores)\n",
    "    return optimal_k\n",
    "\n",
    "def optimal_knn(optimal_k, X_train, X_test, y_train, y_test, algo='auto'):\n",
    "    # ============================== KNN with k = optimal_k ===============================================\n",
    "    # instantiate learning model k = optimal_k\n",
    "    knn_optimal = KNeighborsClassifier(n_neighbors=optimal_k, algorithm = algo)\n",
    "\n",
    "    # fitting the model\n",
    "    knn_optimal.fit(X_train, y_train)\n",
    "\n",
    "    # predict the response\n",
    "    pred = knn_optimal.predict(X_test)\n",
    "\n",
    "    # evaluate accuracy\n",
    "    acc = accuracy_score(y_test, pred) * 100\n",
    "    print('\\nThe accuracy of the knn classifier for k = %d is %f%%' % (optimal_k, acc))\n",
    "    \n",
    "    return pred\n",
    "\n",
    "def gen_confusion_matrix(y_test,pred):\n",
    "    print(sns.heatmap(confusion_matrix(y_test,pred),cmap=\"viridis\",fmt='g', annot=True))\n",
    "    \n",
    "def gen_scores(y_test, pred):\n",
    "    gen_confusion_matrix(y_test,pred)\n",
    "    pre = np.round(precision_score(y_test,pred,average='weighted'),4)\n",
    "    recall = np.round(recall_score(y_test,pred,average='weighted'),4)\n",
    "    f1 = np.round(f1_score(y_test,pred,average='weighted'),4)\n",
    "    accuracy = np.round(accuracy_score(y_test,pred),4)\n",
    "    table = PrettyTable()\n",
    "    table.field_names = ['Precision Score', 'Recall Score', 'f1 Score', 'Accuracy']\n",
    "    table.add_row([pre,recall,f1,accuracy])\n",
    "    print(table)"
   ]
  },
  {
   "cell_type": "code",
   "execution_count": 19,
   "metadata": {},
   "outputs": [],
   "source": [
    "neighbours = list(range(1,41,2))"
   ]
  },
  {
   "cell_type": "code",
   "execution_count": 18,
   "metadata": {},
   "outputs": [
    {
     "name": "stdout",
     "output_type": "stream",
     "text": [
      "K : 1 , Score : 0.904615\n",
      "K : 3 , Score : 0.913287\n",
      "K : 5 , Score : 0.915284\n",
      "K : 7 , Score : 0.913280\n",
      "K : 9 , Score : 0.909942\n",
      "K : 11 , Score : 0.898609\n",
      "K : 13 , Score : 0.899946\n",
      "K : 15 , Score : 0.893280\n",
      "K : 17 , Score : 0.895944\n",
      "K : 19 , Score : 0.895949\n",
      "K : 21 , Score : 0.892613\n",
      "K : 23 , Score : 0.895280\n",
      "K : 25 , Score : 0.893951\n",
      "K : 27 , Score : 0.892618\n",
      "K : 29 , Score : 0.888618\n",
      "K : 31 , Score : 0.884618\n",
      "K : 33 , Score : 0.886615\n",
      "K : 35 , Score : 0.884615\n",
      "K : 37 , Score : 0.878613\n",
      "K : 39 , Score : 0.876613\n"
     ]
    }
   ],
   "source": [
    "cv_scores = knn_kfold_validation(neighbours, X_train, y_train)"
   ]
  },
  {
   "cell_type": "code",
   "execution_count": 80,
   "metadata": {},
   "outputs": [],
   "source": []
  },
  {
   "cell_type": "code",
   "execution_count": 110,
   "metadata": {},
   "outputs": [
    {
     "name": "stdout",
     "output_type": "stream",
     "text": [
      "CV_SCORES:  [0.9046153846153846, 0.9132865105908584, 0.9152842809364549, 0.9132798216276476, 0.9099420289855071, 0.8986086956521738, 0.8999464882943145, 0.8932798216276477, 0.8959442586399108, 0.895948717948718, 0.892613154960981, 0.8952798216276477, 0.8939509476031215, 0.8926176142697884, 0.8886176142697881, 0.8846176142697881, 0.8866153846153846, 0.8846153846153847, 0.8786131549609809, 0.876613154960981]\n"
     ]
    },
    {
     "data": {
      "text/plain": [
       "5"
      ]
     },
     "execution_count": 110,
     "metadata": {},
     "output_type": "execute_result"
    },
    {
     "data": {
      "image/png": "[encoded data removed]",
      "text/plain": [
       "<Figure size 432x288 with 1 Axes>"
      ]
     },
     "metadata": {
      "needs_background": "light"
     },
     "output_type": "display_data"
    }
   ],
   "source": [
    "optimal_k_plot(neighbours,cv_scores)"
   ]
  },
  {
   "cell_type": "code",
   "execution_count": 111,
   "metadata": {},
   "outputs": [],
   "source": [
    "optimal_k=5"
   ]
  },
  {
   "cell_type": "code",
   "execution_count": 112,
   "metadata": {},
   "outputs": [
    {
     "name": "stdout",
     "output_type": "stream",
     "text": [
      "\n",
      "The accuracy of the knn classifier for k = 5 is 92.690513%\n"
     ]
    }
   ],
   "source": [
    "pred = optimal_knn(optimal_k,X_train, X_test, y_train, y_test)"
   ]
  },
  {
   "cell_type": "code",
   "execution_count": null,
   "metadata": {},
   "outputs": [],
   "source": []
  },
  {
   "cell_type": "code",
   "execution_count": 119,
   "metadata": {},
   "outputs": [
    {
     "name": "stdout",
     "output_type": "stream",
     "text": [
      "AxesSubplot(0.125,0.125;0.62x0.755)\n",
      "+-----------------+--------------+----------+----------+\n",
      "| Precision Score | Recall Score | f1 Score | Accuracy |\n",
      "+-----------------+--------------+----------+----------+\n",
      "|      0.927      |    0.9269    |  0.9269  |  0.9269  |\n",
      "+-----------------+--------------+----------+----------+\n"
     ]
    },
    {
     "data": {
      "image/png": "[encoded data removed]",
      "text/plain": [
       "<Figure size 432x288 with 2 Axes>"
      ]
     },
     "metadata": {
      "needs_background": "light"
     },
     "output_type": "display_data"
    }
   ],
   "source": [
    "gen_scores(y_test, pred)"
   ]
  },
  {
   "cell_type": "code",
   "execution_count": 118,
   "metadata": {},
   "outputs": [],
   "source": []
  },
  {
   "cell_type": "code",
   "execution_count": null,
   "metadata": {},
   "outputs": [],
   "source": []
  },
  {
   "cell_type": "code",
   "execution_count": 120,
   "metadata": {},
   "outputs": [
    {
     "name": "stdout",
     "output_type": "stream",
     "text": [
      "Iteration 10 Complete [Time Taken For Last Iteration: 9.79 Seconds]\n",
      "Iteration 20 Complete [Time Taken For Last Iteration: 6.86 Seconds]\n",
      "Iteration 30 Complete [Time Taken For Last Iteration: 7.62 Seconds]\n",
      "Iteration 40 Complete [Time Taken For Last Iteration: 7.12 Seconds]\n",
      "Iteration 50 Complete [Time Taken For Last Iteration: 7.54 Seconds]\n",
      "Iteration 60 Complete [Time Taken For Last Iteration: 6.69 Seconds]\n",
      "Iteration 70 Complete [Time Taken For Last Iteration: 6.86 Seconds]\n",
      "Iteration 80 Complete [Time Taken For Last Iteration: 6.99 Seconds]\n",
      "Iteration 90 Complete [Time Taken For Last Iteration: 3.27 Seconds]\n",
      "Iteration 100 Complete [Time Taken For Last Iteration: 3.73 Seconds]\n"
     ]
    },
    {
     "data": {
      "image/png": "[encoded data removed]",
      "text/plain": [
       "<Figure size 432x288 with 1 Axes>"
      ]
     },
     "metadata": {
      "needs_background": "light"
     },
     "output_type": "display_data"
    }
   ],
   "source": [
    "\n",
    "\n",
    "\n",
    "gen_model = KNeighborsClassifier(n_neighbors=optimal_k)\n",
    "gfs = GeneticFS()\n",
    "\n",
    "# fit the optimizer\n",
    "gfs.fit(model=gen_model, _type='classification', X=all_X, y=y) # classification model\n",
    "\n",
    "# get results output\n",
    "binary_output_of_optimal_variables, indicies_of_optimal_variables = gfs.results()\n",
    "\n",
    "# plot results of progress\n",
    "gfs.plot_progress()"
   ]
  },
  {
   "cell_type": "code",
   "execution_count": 121,
   "metadata": {},
   "outputs": [
    {
     "data": {
      "text/plain": [
       "array([1, 1, 0, 0, 0, 1, 0, 1, 1, 1, 1, 0, 0, 0, 1, 1, 0, 1, 0, 0, 0, 0,\n",
       "       1, 1, 0, 1, 0, 1, 1, 0, 1, 1, 1, 0, 1, 1, 1, 0])"
      ]
     },
     "execution_count": 121,
     "metadata": {},
     "output_type": "execute_result"
    }
   ],
   "source": [
    "binary_output_of_optimal_variables"
   ]
  },
  {
   "cell_type": "code",
   "execution_count": 122,
   "metadata": {},
   "outputs": [
    {
     "data": {
      "text/plain": [
       "38"
      ]
     },
     "execution_count": 122,
     "metadata": {},
     "output_type": "execute_result"
    }
   ],
   "source": [
    "len(data.columns)"
   ]
  },
  {
   "cell_type": "code",
   "execution_count": null,
   "metadata": {},
   "outputs": [],
   "source": []
  },
  {
   "cell_type": "code",
   "execution_count": 99,
   "metadata": {},
   "outputs": [],
   "source": [
    "reduced_cols = list(all_X.columns[indicies_of_optimal_variables])"
   ]
  },
  {
   "cell_type": "code",
   "execution_count": 100,
   "metadata": {},
   "outputs": [],
   "source": [
    "#reduced_cols.remove('Is Palindrome')\n",
    "#reduced_cols.remove('BJKT in URL')\n",
    "#reduced_cols.remove('Just Why')"
   ]
  },
  {
   "cell_type": "code",
   "execution_count": 101,
   "metadata": {},
   "outputs": [],
   "source": [
    "reduced_X = all_X[reduced_cols]"
   ]
  },
  {
   "cell_type": "code",
   "execution_count": 102,
   "metadata": {},
   "outputs": [
    {
     "data": {
      "text/plain": [
       "Index(['embedded_domain_in_path', 'Anchor Tag', 'Forms', 'SSL Expiry Date',\n",
       "       'URL has HTTPS', 'URL Large', 'Has PHP Pages', 'Free in URL',\n",
       "       'BJKT in URL', 'URL is Happy', 'Just Why', 'Rar or Zip in URL',\n",
       "       'Small number of Subdomains'],\n",
       "      dtype='object')"
      ]
     },
     "execution_count": 102,
     "metadata": {},
     "output_type": "execute_result"
    }
   ],
   "source": [
    "reduced_X.columns"
   ]
  },
  {
   "cell_type": "code",
   "execution_count": null,
   "metadata": {},
   "outputs": [],
   "source": []
  },
  {
   "cell_type": "code",
   "execution_count": 103,
   "metadata": {},
   "outputs": [],
   "source": [
    "reduced_X = all_X[['embedded_domain_in_path', 'ip_address', 'Subdomains', 'Anchor Tag','Forms', 'SSL Expiry Date', 'SSL Cert Check', 'Redirects User','URL has @ Symbol', 'URL Small', 'ORG Domain', 'COM Domain', 'X Domain','Vowels in URL', 'Download in URL', 'Free in URL', 'Rar or Zip in URL','Large number of Subdomains']]"
   ]
  },
  {
   "cell_type": "code",
   "execution_count": 104,
   "metadata": {},
   "outputs": [],
   "source": [
    "X_train, X_test, y_train, y_test = train_test_split( reduced_X, y, test_size=0.30, random_state=0)"
   ]
  },
  {
   "cell_type": "code",
   "execution_count": 30,
   "metadata": {},
   "outputs": [
    {
     "name": "stdout",
     "output_type": "stream",
     "text": [
      "K : 1 , Score : 0.956647\n",
      "K : 3 , Score : 0.956649\n",
      "K : 5 , Score : 0.955978\n",
      "K : 7 , Score : 0.950633\n",
      "K : 9 , Score : 0.941291\n",
      "K : 11 , Score : 0.933291\n",
      "K : 13 , Score : 0.929955\n",
      "K : 15 , Score : 0.924624\n",
      "K : 17 , Score : 0.917291\n",
      "K : 19 , Score : 0.915955\n",
      "K : 21 , Score : 0.911287\n",
      "K : 23 , Score : 0.909284\n",
      "K : 25 , Score : 0.910618\n",
      "K : 27 , Score : 0.911949\n",
      "K : 29 , Score : 0.911949\n",
      "K : 31 , Score : 0.907944\n",
      "K : 33 , Score : 0.910611\n",
      "K : 35 , Score : 0.911275\n",
      "K : 37 , Score : 0.909942\n",
      "K : 39 , Score : 0.910606\n"
     ]
    }
   ],
   "source": [
    "cv_scores = knn_kfold_validation(neighbours, X_train, y_train)"
   ]
  },
  {
   "cell_type": "code",
   "execution_count": 31,
   "metadata": {},
   "outputs": [
    {
     "name": "stdout",
     "output_type": "stream",
     "text": [
      "CV_SCORES:  [0.9566465997770346, 0.9566488294314383, 0.9559777034559644, 0.950633221850613, 0.9412909698996655, 0.9332909698996655, 0.9299554069119287, 0.9246243032329989, 0.9172909698996655, 0.9159554069119287, 0.9112865105908584, 0.9092842809364547, 0.9106176142697884, 0.911948717948718, 0.911948717948718, 0.9079442586399109, 0.9106109253065775, 0.9112753623188405, 0.9099420289855071, 0.9106064659977704]\n"
     ]
    },
    {
     "data": {
      "text/plain": [
       "3"
      ]
     },
     "execution_count": 31,
     "metadata": {},
     "output_type": "execute_result"
    },
    {
     "data": {
      "image/png": "[encoded data removed]",
      "text/plain": [
       "<Figure size 432x288 with 1 Axes>"
      ]
     },
     "metadata": {
      "needs_background": "light"
     },
     "output_type": "display_data"
    }
   ],
   "source": [
    "optimal_k_plot(neighbours,cv_scores)"
   ]
  },
  {
   "cell_type": "code",
   "execution_count": 32,
   "metadata": {},
   "outputs": [
    {
     "name": "stdout",
     "output_type": "stream",
     "text": [
      "\n",
      "The accuracy of the knn classifier for k = 3 is 95.956454%\n"
     ]
    }
   ],
   "source": [
    "pred = optimal_knn(3,X_train, X_test, y_train, y_test)"
   ]
  },
  {
   "cell_type": "code",
   "execution_count": null,
   "metadata": {},
   "outputs": [],
   "source": []
  },
  {
   "cell_type": "code",
   "execution_count": 33,
   "metadata": {},
   "outputs": [
    {
     "name": "stdout",
     "output_type": "stream",
     "text": [
      "AxesSubplot(0.125,0.125;0.62x0.755)\n",
      "+-----------------+--------------+----------+----------+\n",
      "| Precision Score | Recall Score | f1 Score | Accuracy |\n",
      "+-----------------+--------------+----------+----------+\n",
      "|      0.9599     |    0.9596    |  0.9596  |  0.9596  |\n",
      "+-----------------+--------------+----------+----------+\n"
     ]
    },
    {
     "data": {
      "image/png": "[encoded data removed]",
      "text/plain": [
       "<Figure size 432x288 with 2 Axes>"
      ]
     },
     "metadata": {
      "needs_background": "light"
     },
     "output_type": "display_data"
    }
   ],
   "source": [
    "gen_scores(y_test, pred)"
   ]
  },
  {
   "cell_type": "code",
   "execution_count": 52,
   "metadata": {},
   "outputs": [],
   "source": [
    "hybrid_X = all_X[['embedded_domain_in_path', 'Subdomains', 'Anchor Tag','Forms', 'SSL Cert Check', 'Redirects User','URL has @ Symbol', 'ORG Domain', 'COM Domain', 'X Domain', 'Download in URL', 'Free in URL', 'Rar or Zip in URL']]"
   ]
  },
  {
   "cell_type": "code",
   "execution_count": 53,
   "metadata": {},
   "outputs": [
    {
     "name": "stdout",
     "output_type": "stream",
     "text": [
      "K : 1 , Score : 0.939287\n",
      "K : 3 , Score : 0.946631\n",
      "K : 5 , Score : 0.942627\n",
      "K : 7 , Score : 0.944624\n",
      "K : 9 , Score : 0.938624\n",
      "K : 11 , Score : 0.935958\n",
      "K : 13 , Score : 0.933964\n",
      "K : 15 , Score : 0.923291\n",
      "K : 17 , Score : 0.915951\n",
      "K : 19 , Score : 0.910618\n",
      "K : 21 , Score : 0.906620\n",
      "K : 23 , Score : 0.907287\n",
      "K : 25 , Score : 0.907953\n",
      "K : 27 , Score : 0.905953\n",
      "K : 29 , Score : 0.909953\n",
      "K : 31 , Score : 0.909282\n",
      "K : 33 , Score : 0.905282\n",
      "K : 35 , Score : 0.903280\n",
      "K : 37 , Score : 0.901944\n",
      "K : 39 , Score : 0.900611\n",
      "CV_SCORES:  [0.9392865105908583, 0.9466309921962097, 0.9426265328874024, 0.9446243032329991, 0.938624303232999, 0.9359576365663322, 0.9339643255295428, 0.9232909698996655, 0.9159509476031215, 0.9106176142697882, 0.9066198439241917, 0.9072865105908585, 0.9079531772575251, 0.905953177257525, 0.9099531772575251, 0.9092820512820513, 0.9052820512820514, 0.9032798216276477, 0.9019442586399109, 0.9006109253065775]\n"
     ]
    },
    {
     "data": {
      "text/plain": [
       "3"
      ]
     },
     "execution_count": 53,
     "metadata": {},
     "output_type": "execute_result"
    },
    {
     "data": {
      "image/png": "[encoded data removed]",
      "text/plain": [
       "<Figure size 432x288 with 1 Axes>"
      ]
     },
     "metadata": {
      "needs_background": "light"
     },
     "output_type": "display_data"
    }
   ],
   "source": [
    "X_train, X_test, y_train, y_test = train_test_split(hybrid_X, y, test_size=0.30, random_state=0)\n",
    "cv_scores = knn_kfold_validation(neighbours, X_train, y_train)\n",
    "optimal_k_plot(neighbours,cv_scores)"
   ]
  },
  {
   "cell_type": "code",
   "execution_count": null,
   "metadata": {},
   "outputs": [],
   "source": []
  },
  {
   "cell_type": "code",
   "execution_count": 45,
   "metadata": {},
   "outputs": [],
   "source": [
    "from mlxtend.feature_selection import SequentialFeatureSelector as SFS"
   ]
  },
  {
   "cell_type": "code",
   "execution_count": 49,
   "metadata": {},
   "outputs": [],
   "source": [
    "sfs1 = SFS(KNeighborsClassifier(3), k_features=13, scoring='f1_weighted')"
   ]
  },
  {
   "cell_type": "code",
   "execution_count": 51,
   "metadata": {},
   "outputs": [
    {
     "data": {
      "text/plain": [
       "{1: {'feature_idx': (11,),\n",
       "  'cv_scores': array([0.96      , 0.96666667, 0.94666667, 0.94999833, 0.96655518]),\n",
       "  'avg_score': 0.9579773700892943,\n",
       "  'feature_names': ('Alexa Ranking',)},\n",
       " 2: {'feature_idx': (7, 11),\n",
       "  'cv_scores': array([0.99666656, 0.97333096, 0.97333333, 0.97333096, 0.96989967]),\n",
       "  'avg_score': 0.9773122959657427,\n",
       "  'feature_names': ('Anchor Tag', 'Alexa Ranking')},\n",
       " 3: {'feature_idx': (2, 7, 11),\n",
       "  'cv_scores': array([0.98999833, 0.98333278, 0.97333333, 0.969999  , 0.97324415]),\n",
       "  'avg_score': 0.9779815181965944,\n",
       "  'feature_names': ('dictionary_word', 'Anchor Tag', 'Alexa Ranking')},\n",
       " 4: {'feature_idx': (2, 7, 8, 11),\n",
       "  'cv_scores': array([0.99333274, 0.98      , 0.98333278, 0.97666693, 0.97993266]),\n",
       "  'avg_score': 0.9826530211559941,\n",
       "  'feature_names': ('dictionary_word',\n",
       "   'Anchor Tag',\n",
       "   'Forms',\n",
       "   'Alexa Ranking')},\n",
       " 5: {'feature_idx': (1, 2, 7, 8, 11),\n",
       "  'cv_scores': array([0.99333274, 0.98      , 0.98333278, 0.97666693, 0.97993266]),\n",
       "  'avg_score': 0.9826530211559941,\n",
       "  'feature_names': ('ip_address',\n",
       "   'dictionary_word',\n",
       "   'Anchor Tag',\n",
       "   'Forms',\n",
       "   'Alexa Ranking')},\n",
       " 6: {'feature_idx': (1, 2, 7, 8, 11, 14),\n",
       "  'cv_scores': array([0.99333274, 0.98      , 0.98333278, 0.97666693, 0.97993266]),\n",
       "  'avg_score': 0.9826530211559941,\n",
       "  'feature_names': ('ip_address',\n",
       "   'dictionary_word',\n",
       "   'Anchor Tag',\n",
       "   'Forms',\n",
       "   'Alexa Ranking',\n",
       "   'Redirects User')},\n",
       " 7: {'feature_idx': (1, 2, 7, 8, 11, 14, 17),\n",
       "  'cv_scores': array([0.99333274, 0.98      , 0.98333278, 0.97666693, 0.97993266]),\n",
       "  'avg_score': 0.9826530211559941,\n",
       "  'feature_names': ('ip_address',\n",
       "   'dictionary_word',\n",
       "   'Anchor Tag',\n",
       "   'Forms',\n",
       "   'Alexa Ranking',\n",
       "   'Redirects User',\n",
       "   'URL Small')},\n",
       " 8: {'feature_idx': (1, 2, 7, 8, 11, 14, 17, 29),\n",
       "  'cv_scores': array([0.99333274, 0.98      , 0.98333278, 0.97666693, 0.97993266]),\n",
       "  'avg_score': 0.9826530211559941,\n",
       "  'feature_names': ('ip_address',\n",
       "   'dictionary_word',\n",
       "   'Anchor Tag',\n",
       "   'Forms',\n",
       "   'Alexa Ranking',\n",
       "   'Redirects User',\n",
       "   'URL Small',\n",
       "   'Deal in URL')},\n",
       " 9: {'feature_idx': (1, 2, 7, 8, 11, 14, 17, 29, 31),\n",
       "  'cv_scores': array([0.99333274, 0.98      , 0.98333278, 0.97666693, 0.97993266]),\n",
       "  'avg_score': 0.9826530211559941,\n",
       "  'feature_names': ('ip_address',\n",
       "   'dictionary_word',\n",
       "   'Anchor Tag',\n",
       "   'Forms',\n",
       "   'Alexa Ranking',\n",
       "   'Redirects User',\n",
       "   'URL Small',\n",
       "   'Deal in URL',\n",
       "   'Free in URL')},\n",
       " 10: {'feature_idx': (1, 2, 7, 8, 11, 14, 17, 29, 31, 32),\n",
       "  'cv_scores': array([0.99333274, 0.98      , 0.98333278, 0.97666693, 0.97993266]),\n",
       "  'avg_score': 0.9826530211559941,\n",
       "  'feature_names': ('ip_address',\n",
       "   'dictionary_word',\n",
       "   'Anchor Tag',\n",
       "   'Forms',\n",
       "   'Alexa Ranking',\n",
       "   'Redirects User',\n",
       "   'URL Small',\n",
       "   'Deal in URL',\n",
       "   'Free in URL',\n",
       "   'BJKT in URL')},\n",
       " 11: {'feature_idx': (1, 2, 7, 8, 11, 14, 17, 29, 31, 32, 34),\n",
       "  'cv_scores': array([0.99333274, 0.98      , 0.98333278, 0.97666693, 0.97993266]),\n",
       "  'avg_score': 0.9826530211559941,\n",
       "  'feature_names': ('ip_address',\n",
       "   'dictionary_word',\n",
       "   'Anchor Tag',\n",
       "   'Forms',\n",
       "   'Alexa Ranking',\n",
       "   'Redirects User',\n",
       "   'URL Small',\n",
       "   'Deal in URL',\n",
       "   'Free in URL',\n",
       "   'BJKT in URL',\n",
       "   'Just Why')},\n",
       " 12: {'feature_idx': (1, 2, 7, 8, 11, 14, 17, 29, 31, 32, 34, 36),\n",
       "  'cv_scores': array([0.99333274, 0.97666693, 0.98333278, 0.97666693, 0.97993266]),\n",
       "  'avg_score': 0.9819864063417555,\n",
       "  'feature_names': ('ip_address',\n",
       "   'dictionary_word',\n",
       "   'Anchor Tag',\n",
       "   'Forms',\n",
       "   'Alexa Ranking',\n",
       "   'Redirects User',\n",
       "   'URL Small',\n",
       "   'Deal in URL',\n",
       "   'Free in URL',\n",
       "   'BJKT in URL',\n",
       "   'Just Why',\n",
       "   'Large number of Subdomains')},\n",
       " 13: {'feature_idx': (1, 2, 7, 8, 11, 14, 15, 17, 29, 31, 32, 34, 36),\n",
       "  'cv_scores': array([0.99333274, 0.97666693, 0.98333278, 0.97333333, 0.97658863]),\n",
       "  'avg_score': 0.9806508812863319,\n",
       "  'feature_names': ('ip_address',\n",
       "   'dictionary_word',\n",
       "   'Anchor Tag',\n",
       "   'Forms',\n",
       "   'Alexa Ranking',\n",
       "   'Redirects User',\n",
       "   'URL has @ Symbol',\n",
       "   'URL Small',\n",
       "   'Deal in URL',\n",
       "   'Free in URL',\n",
       "   'BJKT in URL',\n",
       "   'Just Why',\n",
       "   'Large number of Subdomains')}}"
      ]
     },
     "execution_count": 51,
     "metadata": {},
     "output_type": "execute_result"
    }
   ],
   "source": [
    "sfs1.subsets_"
   ]
  },
  {
   "cell_type": "code",
   "execution_count": 143,
   "metadata": {},
   "outputs": [],
   "source": [
    "#Naive Bayes"
   ]
  },
  {
   "cell_type": "code",
   "execution_count": null,
   "metadata": {},
   "outputs": [],
   "source": []
  },
  {
   "cell_type": "code",
   "execution_count": 108,
   "metadata": {},
   "outputs": [],
   "source": [
    "X_train, X_test, y_train, y_test = train_test_split(all_X, y, test_size=0.30, random_state=0)"
   ]
  },
  {
   "cell_type": "code",
   "execution_count": 66,
   "metadata": {},
   "outputs": [],
   "source": [
    "gnb = GaussianNB()"
   ]
  },
  {
   "cell_type": "code",
   "execution_count": 67,
   "metadata": {},
   "outputs": [
    {
     "data": {
      "text/plain": [
       "GaussianNB(priors=None, var_smoothing=1e-09)"
      ]
     },
     "execution_count": 67,
     "metadata": {},
     "output_type": "execute_result"
    }
   ],
   "source": [
    "gnb.fit(X_train, y_train)"
   ]
  },
  {
   "cell_type": "code",
   "execution_count": 68,
   "metadata": {},
   "outputs": [],
   "source": [
    "pred = gnb.predict(X_test)"
   ]
  },
  {
   "cell_type": "code",
   "execution_count": 69,
   "metadata": {},
   "outputs": [
    {
     "name": "stdout",
     "output_type": "stream",
     "text": [
      "AxesSubplot(0.125,0.125;0.62x0.755)\n",
      "+-----------------+--------------+----------+----------+\n",
      "| Precision Score | Recall Score | f1 Score | Accuracy |\n",
      "+-----------------+--------------+----------+----------+\n",
      "|      0.7603     |    0.6579    |  0.6277  |  0.6579  |\n",
      "+-----------------+--------------+----------+----------+\n"
     ]
    },
    {
     "data": {
      "image/png": "[encoded data removed]",
      "text/plain": [
       "<Figure size 432x288 with 2 Axes>"
      ]
     },
     "metadata": {
      "needs_background": "light"
     },
     "output_type": "display_data"
    }
   ],
   "source": [
    "gen_scores(y_test, pred)"
   ]
  },
  {
   "cell_type": "code",
   "execution_count": 71,
   "metadata": {},
   "outputs": [],
   "source": [
    "reduced_cols = list(all_X.columns[indicies_of_optimal_variables])"
   ]
  },
  {
   "cell_type": "code",
   "execution_count": null,
   "metadata": {},
   "outputs": [],
   "source": []
  },
  {
   "cell_type": "code",
   "execution_count": 161,
   "metadata": {},
   "outputs": [],
   "source": [
    "#reduced_cols.remove('Is Palindrome')\n",
    "#reduced_cols.remove('Vowels in URL')\n",
    "#reduced_cols.remove('BJKT in URL')\n",
    "#reduced_cols.remove('URL is Happy')\n",
    "#reduced_cols.remove('Just Why')"
   ]
  },
  {
   "cell_type": "code",
   "execution_count": 76,
   "metadata": {},
   "outputs": [
    {
     "data": {
      "text/plain": [
       "13"
      ]
     },
     "execution_count": 76,
     "metadata": {},
     "output_type": "execute_result"
    }
   ],
   "source": [
    "len(reduced_X.columns)"
   ]
  },
  {
   "cell_type": "code",
   "execution_count": 72,
   "metadata": {},
   "outputs": [],
   "source": [
    "reduced_X = all_X[reduced_cols]"
   ]
  },
  {
   "cell_type": "code",
   "execution_count": 73,
   "metadata": {},
   "outputs": [],
   "source": [
    "X_train, X_test, y_train, y_test = train_test_split(reduced_X, y, test_size=0.30, random_state=0)"
   ]
  },
  {
   "cell_type": "code",
   "execution_count": 74,
   "metadata": {},
   "outputs": [],
   "source": [
    "gnb = GaussianNB()\n",
    "gnb.fit(X_train, y_train)\n",
    "pred = gnb.predict(X_test)"
   ]
  },
  {
   "cell_type": "code",
   "execution_count": 75,
   "metadata": {},
   "outputs": [
    {
     "name": "stdout",
     "output_type": "stream",
     "text": [
      "AxesSubplot(0.125,0.125;0.62x0.755)\n",
      "+-----------------+--------------+----------+----------+\n",
      "| Precision Score | Recall Score | f1 Score | Accuracy |\n",
      "+-----------------+--------------+----------+----------+\n",
      "|      0.9234     |    0.9222    |  0.9221  |  0.9222  |\n",
      "+-----------------+--------------+----------+----------+\n"
     ]
    },
    {
     "data": {
      "image/png": "[encoded data removed]",
      "text/plain": [
       "<Figure size 432x288 with 2 Axes>"
      ]
     },
     "metadata": {
      "needs_background": "light"
     },
     "output_type": "display_data"
    }
   ],
   "source": [
    "gen_scores(y_test, pred)"
   ]
  },
  {
   "cell_type": "code",
   "execution_count": 106,
   "metadata": {},
   "outputs": [],
   "source": [
    "from sklearn.feature_selection import RFE"
   ]
  },
  {
   "cell_type": "code",
   "execution_count": null,
   "metadata": {},
   "outputs": [],
   "source": []
  },
  {
   "cell_type": "code",
   "execution_count": null,
   "metadata": {},
   "outputs": [],
   "source": []
  },
  {
   "cell_type": "code",
   "execution_count": null,
   "metadata": {},
   "outputs": [],
   "source": []
  },
  {
   "cell_type": "code",
   "execution_count": 81,
   "metadata": {},
   "outputs": [],
   "source": [
    "from sklearn.ensemble import RandomForestClassifier"
   ]
  },
  {
   "cell_type": "code",
   "execution_count": 78,
   "metadata": {},
   "outputs": [],
   "source": [
    "def apply_RF(X_train, y_train):\n",
    "    tree_list = [10,20,30,40,50,60,70,80,90,100]\n",
    "    \n",
    "    cv_scores=[]\n",
    "    for trees in tree_list:\n",
    "        scores = cross_val_score(RandomForestClassifier(n_estimators=trees), X_train, y_train, scoring=\"accuracy\", cv=5)\n",
    "        cv_scores.append(scores.mean())\n",
    "        print(\"TREES : %f , Score : %f\" % (trees,scores.mean()))\n",
    "    \n",
    "    op_index = cv_scores.index(max(cv_scores))\n",
    "    op_trees = tree_list[op_index]\n",
    "    print(\"Optimum Trees\",op_trees)\n",
    "    print(plt.plot(tree_list,cv_scores,marker='o',linestyle=\"dashed\"))\n",
    "    return op_trees"
   ]
  },
  {
   "cell_type": "code",
   "execution_count": 133,
   "metadata": {},
   "outputs": [],
   "source": [
    "X_train, X_test, y_train, y_test = train_test_split( all_X, y, test_size=0.30)"
   ]
  },
  {
   "cell_type": "code",
   "execution_count": 95,
   "metadata": {},
   "outputs": [
    {
     "name": "stdout",
     "output_type": "stream",
     "text": [
      "TREES : 10.000000 , Score : 0.987327\n",
      "TREES : 20.000000 , Score : 0.991327\n",
      "TREES : 30.000000 , Score : 0.991993\n",
      "TREES : 40.000000 , Score : 0.991996\n",
      "TREES : 50.000000 , Score : 0.989989\n",
      "TREES : 60.000000 , Score : 0.992658\n",
      "TREES : 70.000000 , Score : 0.993327\n",
      "TREES : 80.000000 , Score : 0.991991\n",
      "TREES : 90.000000 , Score : 0.993324\n",
      "TREES : 100.000000 , Score : 0.993996\n",
      "Optimum Trees 100\n",
      "[<matplotlib.lines.Line2D object at 0x000001249FE28E10>]\n"
     ]
    },
    {
     "data": {
      "image/png": "[encoded data removed]",
      "text/plain": [
       "<Figure size 432x288 with 1 Axes>"
      ]
     },
     "metadata": {
      "needs_background": "light"
     },
     "output_type": "display_data"
    }
   ],
   "source": [
    "op_trees = apply_RF(X_train, y_train)"
   ]
  },
  {
   "cell_type": "code",
   "execution_count": 96,
   "metadata": {},
   "outputs": [],
   "source": [
    "rf_model = RandomForestClassifier(n_estimators=10)"
   ]
  },
  {
   "cell_type": "code",
   "execution_count": 97,
   "metadata": {},
   "outputs": [],
   "source": [
    "rf_model.fit(X_train, y_train)\n",
    "pred = rf_model.predict(X_test)"
   ]
  },
  {
   "cell_type": "code",
   "execution_count": 98,
   "metadata": {},
   "outputs": [
    {
     "name": "stdout",
     "output_type": "stream",
     "text": [
      "AxesSubplot(0.125,0.125;0.62x0.755)\n",
      "+-----------------+--------------+----------+----------+\n",
      "| Precision Score | Recall Score | f1 Score | Accuracy |\n",
      "+-----------------+--------------+----------+----------+\n",
      "|      0.9831     |    0.9829    |  0.9829  |  0.9829  |\n",
      "+-----------------+--------------+----------+----------+\n"
     ]
    },
    {
     "data": {
      "image/png": "[encoded data removed]",
      "text/plain": [
       "<Figure size 432x288 with 2 Axes>"
      ]
     },
     "metadata": {
      "needs_background": "light"
     },
     "output_type": "display_data"
    }
   ],
   "source": [
    "gen_scores(y_test, pred)"
   ]
  },
  {
   "cell_type": "code",
   "execution_count": 105,
   "metadata": {},
   "outputs": [
    {
     "name": "stdout",
     "output_type": "stream",
     "text": [
      "AxesSubplot(0.125,0.125;0.62x0.755)\n",
      "+-----------------+--------------+----------+----------+\n",
      "| Precision Score | Recall Score | f1 Score | Accuracy |\n",
      "+-----------------+--------------+----------+----------+\n",
      "|      0.9877     |    0.9876    |  0.9876  |  0.9876  |\n",
      "+-----------------+--------------+----------+----------+\n"
     ]
    },
    {
     "data": {
      "image/png": "[encoded data removed]",
      "text/plain": [
       "<Figure size 432x288 with 2 Axes>"
      ]
     },
     "metadata": {
      "needs_background": "light"
     },
     "output_type": "display_data"
    }
   ],
   "source": [
    "rf_model = RandomForestClassifier(n_estimators=10)\n",
    "rf_model.fit(X_train, y_train)\n",
    "pred = rf_model.predict(X_test)\n",
    "gen_scores(y_test, pred)"
   ]
  },
  {
   "cell_type": "code",
   "execution_count": 119,
   "metadata": {},
   "outputs": [
    {
     "data": {
      "text/plain": [
       "array([ True, False,  True, False, False, False, False,  True,  True,\n",
       "        True,  True,  True,  True, False, False, False,  True, False,\n",
       "       False, False, False,  True, False, False,  True, False,  True,\n",
       "       False,  True, False, False, False, False, False, False, False,\n",
       "       False, False])"
      ]
     },
     "execution_count": 119,
     "metadata": {},
     "output_type": "execute_result"
    }
   ],
   "source": [
    "selector.support_"
   ]
  },
  {
   "cell_type": "code",
   "execution_count": 125,
   "metadata": {},
   "outputs": [],
   "source": [
    "reduced_cols = []\n",
    "for i in range(len(all_X.columns)):\n",
    "    if selector.support_[i] == True:\n",
    "        reduced_cols.append(all_X.columns[i])"
   ]
  },
  {
   "cell_type": "code",
   "execution_count": 127,
   "metadata": {},
   "outputs": [],
   "source": [
    "reduced_X = all_X[reduced_cols]"
   ]
  },
  {
   "cell_type": "code",
   "execution_count": 128,
   "metadata": {},
   "outputs": [],
   "source": [
    "X_train, X_test, y_train, y_test = train_test_split(reduced_X, y, test_size=0.30)"
   ]
  },
  {
   "cell_type": "code",
   "execution_count": 129,
   "metadata": {},
   "outputs": [
    {
     "name": "stdout",
     "output_type": "stream",
     "text": [
      "AxesSubplot(0.125,0.125;0.62x0.755)\n",
      "+-----------------+--------------+----------+----------+\n",
      "| Precision Score | Recall Score | f1 Score | Accuracy |\n",
      "+-----------------+--------------+----------+----------+\n",
      "|      0.9876     |    0.9876    |  0.9876  |  0.9876  |\n",
      "+-----------------+--------------+----------+----------+\n"
     ]
    },
    {
     "data": {
      "image/png": "[encoded data removed]",
      "text/plain": [
       "<Figure size 432x288 with 2 Axes>"
      ]
     },
     "metadata": {
      "needs_background": "light"
     },
     "output_type": "display_data"
    }
   ],
   "source": [
    "rf_model = RandomForestClassifier(n_estimators=10)\n",
    "rf_model.fit(X_train, y_train)\n",
    "pred = rf_model.predict(X_test)\n",
    "gen_scores(y_test, pred)"
   ]
  },
  {
   "cell_type": "code",
   "execution_count": null,
   "metadata": {},
   "outputs": [],
   "source": []
  },
  {
   "cell_type": "code",
   "execution_count": null,
   "metadata": {},
   "outputs": [],
   "source": []
  },
  {
   "cell_type": "code",
   "execution_count": null,
   "metadata": {},
   "outputs": [],
   "source": [
    "gen_model = RandomForestClassifier(n_estimators=250)\n",
    "gfs = GeneticFS()\n",
    "\n",
    "# fit the optimizer\n",
    "gfs.fit(model=gen_model, _type='classification', X=all_X, y=y) # classification model\n",
    "\n",
    "# get results output\n",
    "binary_output_of_optimal_variables, indicies_of_optimal_variables = gfs.results()\n",
    "\n",
    "# plot results of progress\n",
    "gfs.plot_progress()"
   ]
  },
  {
   "cell_type": "code",
   "execution_count": 22,
   "metadata": {},
   "outputs": [],
   "source": [
    "# Genetic Consumes like infinite amount of time"
   ]
  },
  {
   "cell_type": "code",
   "execution_count": null,
   "metadata": {},
   "outputs": [],
   "source": [
    "# Highl overfitting - not good for production - High accuracies because the dataset used is a small one"
   ]
  },
  {
   "cell_type": "code",
   "execution_count": null,
   "metadata": {},
   "outputs": [],
   "source": []
  },
  {
   "cell_type": "code",
   "execution_count": null,
   "metadata": {},
   "outputs": [],
   "source": []
  },
  {
   "cell_type": "code",
   "execution_count": 30,
   "metadata": {},
   "outputs": [],
   "source": [
    "from sklearn.model_selection import GridSearchCV"
   ]
  },
  {
   "cell_type": "code",
   "execution_count": 31,
   "metadata": {},
   "outputs": [],
   "source": [
    "from sklearn.svm import SVC"
   ]
  },
  {
   "cell_type": "code",
   "execution_count": 136,
   "metadata": {},
   "outputs": [],
   "source": [
    "X_train, X_test, y_train, y_test = train_test_split( all_X, y, test_size=0.30, random_state=0)"
   ]
  },
  {
   "cell_type": "code",
   "execution_count": 31,
   "metadata": {},
   "outputs": [],
   "source": [
    "parameters = {'kernel':('linear', 'rbf', 'poly'), 'C':[1, 10]}"
   ]
  },
  {
   "cell_type": "code",
   "execution_count": 32,
   "metadata": {},
   "outputs": [],
   "source": [
    "clf = GridSearchCV(SVC(gamma='scale'), parameters, cv=5)"
   ]
  },
  {
   "cell_type": "code",
   "execution_count": 34,
   "metadata": {},
   "outputs": [
    {
     "data": {
      "text/plain": [
       "GridSearchCV(cv=5, error_score='raise-deprecating',\n",
       "       estimator=SVC(C=1.0, cache_size=200, class_weight=None, coef0=0.0,\n",
       "  decision_function_shape='ovr', degree=3, gamma='scale', kernel='rbf',\n",
       "  max_iter=-1, probability=False, random_state=None, shrinking=True,\n",
       "  tol=0.001, verbose=False),\n",
       "       fit_params=None, iid='warn', n_jobs=None,\n",
       "       param_grid={'kernel': ('linear', 'rbf', 'poly'), 'C': [1, 10]},\n",
       "       pre_dispatch='2*n_jobs', refit=True, return_train_score='warn',\n",
       "       scoring=None, verbose=0)"
      ]
     },
     "execution_count": 34,
     "metadata": {},
     "output_type": "execute_result"
    }
   ],
   "source": [
    "clf.fit(X_train, y_train)"
   ]
  },
  {
   "cell_type": "code",
   "execution_count": 35,
   "metadata": {},
   "outputs": [],
   "source": [
    "pred = clf.predict(X_test)"
   ]
  },
  {
   "cell_type": "code",
   "execution_count": 36,
   "metadata": {},
   "outputs": [
    {
     "name": "stdout",
     "output_type": "stream",
     "text": [
      "AxesSubplot(0.125,0.125;0.62x0.755)\n",
      "+-----------------+--------------+----------+----------+\n",
      "| Precision Score | Recall Score | f1 Score | Accuracy |\n",
      "+-----------------+--------------+----------+----------+\n",
      "|      0.9518     |    0.9518    |  0.9518  |  0.9518  |\n",
      "+-----------------+--------------+----------+----------+\n"
     ]
    },
    {
     "data": {
      "image/png": "[encoded data removed]",
      "text/plain": [
       "<Figure size 432x288 with 2 Axes>"
      ]
     },
     "metadata": {
      "needs_background": "light"
     },
     "output_type": "display_data"
    }
   ],
   "source": [
    "gen_scores(y_test, pred)"
   ]
  },
  {
   "cell_type": "code",
   "execution_count": null,
   "metadata": {},
   "outputs": [],
   "source": [
    "gen_model = GridSearchCV(SVC(gamma='scale'), parameters, cv=5)\n",
    "gfs = GeneticFS()\n",
    "\n",
    "# fit the optimizer\n",
    "gfs.fit(model=gen_model, _type='classification', X=all_X, y=y) # classification model\n",
    "\n",
    "# get results output\n",
    "binary_output_of_optimal_variables, indicies_of_optimal_variables = gfs.results()\n",
    "\n",
    "# plot results of progress\n",
    "gfs.plot_progress()"
   ]
  },
  {
   "cell_type": "code",
   "execution_count": null,
   "metadata": {},
   "outputs": [],
   "source": []
  },
  {
   "cell_type": "code",
   "execution_count": 145,
   "metadata": {},
   "outputs": [],
   "source": [
    "reduced_X_cols = ['embedded_domain_in_path', 'ip_address','Subdomains', 'Anchor Tag', 'Forms', 'SSL Expiry Date', 'SSL Cert Check', 'Redirects User',\n",
    "       'URL has @ Symbol', 'URL has HTTPS', 'URL Small','Download in URL', 'Rar or Zip in URL']"
   ]
  },
  {
   "cell_type": "code",
   "execution_count": 146,
   "metadata": {},
   "outputs": [],
   "source": [
    "reduced_X = all_X[reduced_X_cols]"
   ]
  },
  {
   "cell_type": "code",
   "execution_count": 147,
   "metadata": {},
   "outputs": [],
   "source": [
    "X_train, X_test, y_train, y_test = train_test_split( reduced_X, y, test_size=0.30, random_state=0)"
   ]
  },
  {
   "cell_type": "code",
   "execution_count": 28,
   "metadata": {},
   "outputs": [],
   "source": [
    "parameters = {'kernel':('linear', 'rbf', 'poly'), 'C':[1, 10]}"
   ]
  },
  {
   "cell_type": "code",
   "execution_count": 32,
   "metadata": {},
   "outputs": [],
   "source": [
    "clf = GridSearchCV(SVC(gamma='scale'), parameters, cv=5)"
   ]
  },
  {
   "cell_type": "code",
   "execution_count": 33,
   "metadata": {},
   "outputs": [
    {
     "data": {
      "text/plain": [
       "GridSearchCV(cv=5, error_score='raise-deprecating',\n",
       "       estimator=SVC(C=1.0, cache_size=200, class_weight=None, coef0=0.0,\n",
       "  decision_function_shape='ovr', degree=3, gamma='scale', kernel='rbf',\n",
       "  max_iter=-1, probability=False, random_state=None, shrinking=True,\n",
       "  tol=0.001, verbose=False),\n",
       "       fit_params=None, iid='warn', n_jobs=None,\n",
       "       param_grid={'kernel': ('linear', 'rbf', 'poly'), 'C': [1, 10]},\n",
       "       pre_dispatch='2*n_jobs', refit=True, return_train_score='warn',\n",
       "       scoring=None, verbose=0)"
      ]
     },
     "execution_count": 33,
     "metadata": {},
     "output_type": "execute_result"
    }
   ],
   "source": [
    "clf.fit(X_train, y_train)"
   ]
  },
  {
   "cell_type": "code",
   "execution_count": 34,
   "metadata": {},
   "outputs": [],
   "source": [
    "pred = clf.predict(X_test)"
   ]
  },
  {
   "cell_type": "code",
   "execution_count": 35,
   "metadata": {},
   "outputs": [
    {
     "name": "stdout",
     "output_type": "stream",
     "text": [
      "AxesSubplot(0.125,0.125;0.62x0.755)\n",
      "+-----------------+--------------+----------+----------+\n",
      "| Precision Score | Recall Score | f1 Score | Accuracy |\n",
      "+-----------------+--------------+----------+----------+\n",
      "|      0.9693     |    0.9689    |  0.9689  |  0.9689  |\n",
      "+-----------------+--------------+----------+----------+\n"
     ]
    },
    {
     "data": {
      "image/png": "[encoded data removed]",
      "text/plain": [
       "<Figure size 432x288 with 2 Axes>"
      ]
     },
     "metadata": {
      "needs_background": "light"
     },
     "output_type": "display_data"
    }
   ],
   "source": [
    "gen_scores(y_test, pred)"
   ]
  },
  {
   "cell_type": "code",
   "execution_count": 36,
   "metadata": {},
   "outputs": [
    {
     "data": {
      "text/plain": [
       "GridSearchCV(cv=5, error_score='raise-deprecating',\n",
       "       estimator=SVC(C=1.0, cache_size=200, class_weight=None, coef0=0.0,\n",
       "  decision_function_shape='ovr', degree=3, gamma='scale', kernel='rbf',\n",
       "  max_iter=-1, probability=False, random_state=None, shrinking=True,\n",
       "  tol=0.001, verbose=False),\n",
       "       fit_params=None, iid='warn', n_jobs=None,\n",
       "       param_grid={'kernel': ('linear', 'rbf', 'poly'), 'C': [1, 10]},\n",
       "       pre_dispatch='2*n_jobs', refit=True, return_train_score='warn',\n",
       "       scoring=None, verbose=0)"
      ]
     },
     "execution_count": 36,
     "metadata": {},
     "output_type": "execute_result"
    }
   ],
   "source": [
    "clf"
   ]
  },
  {
   "cell_type": "code",
   "execution_count": null,
   "metadata": {},
   "outputs": [],
   "source": [
    "gen_model = clf\n",
    "gfs = GeneticFS()\n",
    "\n",
    "# fit the optimizer\n",
    "gfs.fit(model=gen_model, _type='classification', X=all_X, y=y) # classification model\n",
    "\n",
    "# get results output\n",
    "binary_output_of_optimal_variables, indicies_of_optimal_variables = gfs.results()\n",
    "\n",
    "# plot results of progress\n",
    "gfs.plot_progress()"
   ]
  },
  {
   "cell_type": "code",
   "execution_count": null,
   "metadata": {},
   "outputs": [],
   "source": []
  },
  {
   "cell_type": "code",
   "execution_count": 137,
   "metadata": {},
   "outputs": [],
   "source": [
    "from sklearn.model_selection import GridSearchCV"
   ]
  },
  {
   "cell_type": "code",
   "execution_count": 135,
   "metadata": {},
   "outputs": [],
   "source": [
    "from sklearn.linear_model import LogisticRegression"
   ]
  },
  {
   "cell_type": "code",
   "execution_count": 142,
   "metadata": {},
   "outputs": [
    {
     "data": {
      "text/plain": [
       "LogisticRegression(C=1, class_weight=None, dual=False, fit_intercept=True,\n",
       "          intercept_scaling=1, max_iter=100, multi_class='warn',\n",
       "          n_jobs=None, penalty='l2', random_state=None, solver='saga',\n",
       "          tol=0.0001, verbose=0, warm_start=False)"
      ]
     },
     "execution_count": 142,
     "metadata": {},
     "output_type": "execute_result"
    }
   ],
   "source": [
    "clf.best_estimator_"
   ]
  },
  {
   "cell_type": "code",
   "execution_count": 143,
   "metadata": {},
   "outputs": [],
   "source": [
    "pred = clf.predict(X_test)"
   ]
  },
  {
   "cell_type": "code",
   "execution_count": 144,
   "metadata": {},
   "outputs": [
    {
     "name": "stdout",
     "output_type": "stream",
     "text": [
      "AxesSubplot(0.125,0.125;0.62x0.755)\n",
      "+-----------------+--------------+----------+----------+\n",
      "| Precision Score | Recall Score | f1 Score | Accuracy |\n",
      "+-----------------+--------------+----------+----------+\n",
      "|      0.9129     |    0.9129    |  0.9129  |  0.9129  |\n",
      "+-----------------+--------------+----------+----------+\n"
     ]
    },
    {
     "data": {
      "image/png": "[encoded data removed]",
      "text/plain": [
       "<Figure size 432x288 with 2 Axes>"
      ]
     },
     "metadata": {
      "needs_background": "light"
     },
     "output_type": "display_data"
    }
   ],
   "source": [
    "gen_scores(y_test, pred)"
   ]
  },
  {
   "cell_type": "code",
   "execution_count": 150,
   "metadata": {},
   "outputs": [],
   "source": [
    "pred = clf.predict(X_test)"
   ]
  },
  {
   "cell_type": "code",
   "execution_count": 151,
   "metadata": {},
   "outputs": [
    {
     "name": "stdout",
     "output_type": "stream",
     "text": [
      "AxesSubplot(0.125,0.125;0.62x0.755)\n",
      "+-----------------+--------------+----------+----------+\n",
      "| Precision Score | Recall Score | f1 Score | Accuracy |\n",
      "+-----------------+--------------+----------+----------+\n",
      "|      0.8792     |    0.8787    |  0.8785  |  0.8787  |\n",
      "+-----------------+--------------+----------+----------+\n"
     ]
    },
    {
     "data": {
      "image/png": "[encoded data removed]",
      "text/plain": [
       "<Figure size 432x288 with 2 Axes>"
      ]
     },
     "metadata": {
      "needs_background": "light"
     },
     "output_type": "display_data"
    }
   ],
   "source": [
    "gen_scores(y_test, pred)"
   ]
  },
  {
   "cell_type": "code",
   "execution_count": null,
   "metadata": {},
   "outputs": [],
   "source": []
  }
 ],
 "metadata": {
  "kernelspec": {
   "display_name": "Python 3 (ipykernel)",
   "language": "python",
   "name": "python3"
  },
  "language_info": {
   "codemirror_mode": {
    "name": "ipython",
    "version": 3
   },
   "file_extension": ".py",
   "mimetype": "text/x-python",
   "name": "python",
   "nbconvert_exporter": "python",
   "pygments_lexer": "ipython3",
   "version": "3.9.7"
  }
 },
 "nbformat": 4,
 "nbformat_minor": 2
}
